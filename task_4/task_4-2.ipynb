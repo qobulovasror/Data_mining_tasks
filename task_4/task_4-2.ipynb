{
 "cells": [
  {
   "cell_type": "markdown",
   "id": "374d72a8-e3e2-4f93-942a-546166afcb84",
   "metadata": {},
   "source": [
    "# Python yordamida ko'p chiziqli regressiya"
   ]
  },
  {
   "cell_type": "code",
   "execution_count": 2,
   "id": "6e758773-ffae-4c82-9dc7-6f618fb3e17d",
   "metadata": {},
   "outputs": [],
   "source": [
    "import pandas as pd\n",
    "import numpy as np\n",
    "import string\n",
    "import csv\n",
    "import random\n",
    "import warnings\n"
   ]
  },
  {
   "cell_type": "code",
   "execution_count": 3,
   "id": "426b7f92-e7f9-45fa-a03c-12b25801b73a",
   "metadata": {},
   "outputs": [],
   "source": [
    "## Modelni qurish \n",
    "from sklearn import linear_model\n",
    "from scipy import stats\n",
    "import statsmodels\n",
    "import statsmodels.api as sm\n",
    "import statsmodels.formula.api as smf\n",
    "import statsmodels.stats.api as sms\n",
    "from statsmodels.compat import lzip\n",
    "\n",
    "## Ma'lumotlarni vizualazizatsiyalash\n",
    "import seaborn as sns\n",
    "import matplotlib.pyplot as plt\n",
    "from mpl_toolkits.mplot3d import Axes3D"
   ]
  },
  {
   "cell_type": "markdown",
   "id": "dadc0c26-8471-4fd0-a9fc-bf931b760ae4",
   "metadata": {},
   "source": [
    "## Ta’lim texnikasi, o‘quvchilarning faolligi va ta’lim natijalari to‘g‘risidagi ma’lumotlardan foydalangan holda o‘quvchilar faoliyatini yaxshilashda turli o‘qitish usullarining samaradorligi ma’lumotlari mavjud. Mavjud ma’lumotlar asosida quyidagilarni aniqlang:\n"
   ]
  },
  {
   "cell_type": "markdown",
   "id": "e319b7cd-5ea7-445b-a8f4-60e6b8d7b9df",
   "metadata": {},
   "source": [
    "## 1. Ma’lumotlar bazasidagi har bir atribut orasidagi tarqalish grafigini hosil qiling."
   ]
  },
  {
   "cell_type": "code",
   "execution_count": 9,
   "id": "b23a51e3-bbe6-4143-a71d-6502bb637f4e",
   "metadata": {},
   "outputs": [
    {
     "name": "stdout",
     "output_type": "stream",
     "text": [
      "(30, 3)\n"
     ]
    },
    {
     "data": {
      "text/html": [
       "<div>\n",
       "<style scoped>\n",
       "    .dataframe tbody tr th:only-of-type {\n",
       "        vertical-align: middle;\n",
       "    }\n",
       "\n",
       "    .dataframe tbody tr th {\n",
       "        vertical-align: top;\n",
       "    }\n",
       "\n",
       "    .dataframe thead th {\n",
       "        text-align: right;\n",
       "    }\n",
       "</style>\n",
       "<table border=\"1\" class=\"dataframe\">\n",
       "  <thead>\n",
       "    <tr style=\"text-align: right;\">\n",
       "      <th></th>\n",
       "      <th>Ta’lim texnikasi</th>\n",
       "      <th>o‘quvchilarning faolligi</th>\n",
       "      <th>natijasi</th>\n",
       "    </tr>\n",
       "  </thead>\n",
       "  <tbody>\n",
       "    <tr>\n",
       "      <th>0</th>\n",
       "      <td>Analogiya metodi</td>\n",
       "      <td>98</td>\n",
       "      <td>5</td>\n",
       "    </tr>\n",
       "    <tr>\n",
       "      <th>1</th>\n",
       "      <td>klaster metodi</td>\n",
       "      <td>60</td>\n",
       "      <td>3</td>\n",
       "    </tr>\n",
       "    <tr>\n",
       "      <th>2</th>\n",
       "      <td>Fikriy hujum metodi</td>\n",
       "      <td>58</td>\n",
       "      <td>2</td>\n",
       "    </tr>\n",
       "    <tr>\n",
       "      <th>3</th>\n",
       "      <td>Induksiya metodi</td>\n",
       "      <td>58</td>\n",
       "      <td>2</td>\n",
       "    </tr>\n",
       "    <tr>\n",
       "      <th>4</th>\n",
       "      <td>klaster metodi</td>\n",
       "      <td>57</td>\n",
       "      <td>2</td>\n",
       "    </tr>\n",
       "    <tr>\n",
       "      <th>5</th>\n",
       "      <td>Deduksiya metodi</td>\n",
       "      <td>90</td>\n",
       "      <td>5</td>\n",
       "    </tr>\n",
       "    <tr>\n",
       "      <th>6</th>\n",
       "      <td>Taqqoslash usuli</td>\n",
       "      <td>84</td>\n",
       "      <td>4</td>\n",
       "    </tr>\n",
       "    <tr>\n",
       "      <th>7</th>\n",
       "      <td>Induksiya metodi</td>\n",
       "      <td>86</td>\n",
       "      <td>5</td>\n",
       "    </tr>\n",
       "    <tr>\n",
       "      <th>8</th>\n",
       "      <td>Taqqoslash usuli</td>\n",
       "      <td>88</td>\n",
       "      <td>5</td>\n",
       "    </tr>\n",
       "    <tr>\n",
       "      <th>9</th>\n",
       "      <td>6x6x6 metodi</td>\n",
       "      <td>86</td>\n",
       "      <td>5</td>\n",
       "    </tr>\n",
       "    <tr>\n",
       "      <th>10</th>\n",
       "      <td>Deduksiya metodi</td>\n",
       "      <td>84</td>\n",
       "      <td>4</td>\n",
       "    </tr>\n",
       "    <tr>\n",
       "      <th>11</th>\n",
       "      <td>Deduksiya metodi</td>\n",
       "      <td>61</td>\n",
       "      <td>3</td>\n",
       "    </tr>\n",
       "    <tr>\n",
       "      <th>12</th>\n",
       "      <td>Induksiya metodi</td>\n",
       "      <td>43</td>\n",
       "      <td>2</td>\n",
       "    </tr>\n",
       "    <tr>\n",
       "      <th>13</th>\n",
       "      <td>Deduksiya metodi</td>\n",
       "      <td>52</td>\n",
       "      <td>2</td>\n",
       "    </tr>\n",
       "    <tr>\n",
       "      <th>14</th>\n",
       "      <td>Fikriy hujum metodi</td>\n",
       "      <td>70</td>\n",
       "      <td>3</td>\n",
       "    </tr>\n",
       "    <tr>\n",
       "      <th>15</th>\n",
       "      <td>Deduksiya metodi</td>\n",
       "      <td>77</td>\n",
       "      <td>4</td>\n",
       "    </tr>\n",
       "    <tr>\n",
       "      <th>16</th>\n",
       "      <td>Taqqoslash usuli</td>\n",
       "      <td>60</td>\n",
       "      <td>3</td>\n",
       "    </tr>\n",
       "    <tr>\n",
       "      <th>17</th>\n",
       "      <td>Taqqoslash usuli</td>\n",
       "      <td>63</td>\n",
       "      <td>3</td>\n",
       "    </tr>\n",
       "    <tr>\n",
       "      <th>18</th>\n",
       "      <td>klaster metodi</td>\n",
       "      <td>60</td>\n",
       "      <td>3</td>\n",
       "    </tr>\n",
       "    <tr>\n",
       "      <th>19</th>\n",
       "      <td>Taqqoslash usuli</td>\n",
       "      <td>87</td>\n",
       "      <td>5</td>\n",
       "    </tr>\n",
       "    <tr>\n",
       "      <th>20</th>\n",
       "      <td>klaster metodi</td>\n",
       "      <td>83</td>\n",
       "      <td>4</td>\n",
       "    </tr>\n",
       "    <tr>\n",
       "      <th>21</th>\n",
       "      <td>Taqqoslash usuli</td>\n",
       "      <td>84</td>\n",
       "      <td>4</td>\n",
       "    </tr>\n",
       "    <tr>\n",
       "      <th>22</th>\n",
       "      <td>Fikriy hujum metodi</td>\n",
       "      <td>79</td>\n",
       "      <td>4</td>\n",
       "    </tr>\n",
       "    <tr>\n",
       "      <th>23</th>\n",
       "      <td>zakovatli zukko metodi</td>\n",
       "      <td>71</td>\n",
       "      <td>3</td>\n",
       "    </tr>\n",
       "    <tr>\n",
       "      <th>24</th>\n",
       "      <td>klaster metodi</td>\n",
       "      <td>65</td>\n",
       "      <td>3</td>\n",
       "    </tr>\n",
       "    <tr>\n",
       "      <th>25</th>\n",
       "      <td>Analogiya metodi</td>\n",
       "      <td>31</td>\n",
       "      <td>2</td>\n",
       "    </tr>\n",
       "    <tr>\n",
       "      <th>26</th>\n",
       "      <td>6x6x6 metodi</td>\n",
       "      <td>58</td>\n",
       "      <td>2</td>\n",
       "    </tr>\n",
       "    <tr>\n",
       "      <th>27</th>\n",
       "      <td>Induksiya metodi</td>\n",
       "      <td>52</td>\n",
       "      <td>2</td>\n",
       "    </tr>\n",
       "    <tr>\n",
       "      <th>28</th>\n",
       "      <td>Taqqoslash usuli</td>\n",
       "      <td>50</td>\n",
       "      <td>2</td>\n",
       "    </tr>\n",
       "    <tr>\n",
       "      <th>29</th>\n",
       "      <td>Deduksiya metodi</td>\n",
       "      <td>64</td>\n",
       "      <td>3</td>\n",
       "    </tr>\n",
       "  </tbody>\n",
       "</table>\n",
       "</div>"
      ],
      "text/plain": [
       "          Ta’lim texnikasi  o‘quvchilarning faolligi  natijasi\n",
       "0         Analogiya metodi                        98         5\n",
       "1           klaster metodi                        60         3\n",
       "2      Fikriy hujum metodi                        58         2\n",
       "3         Induksiya metodi                        58         2\n",
       "4           klaster metodi                        57         2\n",
       "5         Deduksiya metodi                        90         5\n",
       "6         Taqqoslash usuli                        84         4\n",
       "7         Induksiya metodi                        86         5\n",
       "8         Taqqoslash usuli                        88         5\n",
       "9             6x6x6 metodi                        86         5\n",
       "10        Deduksiya metodi                        84         4\n",
       "11        Deduksiya metodi                        61         3\n",
       "12        Induksiya metodi                        43         2\n",
       "13        Deduksiya metodi                        52         2\n",
       "14     Fikriy hujum metodi                        70         3\n",
       "15        Deduksiya metodi                        77         4\n",
       "16        Taqqoslash usuli                        60         3\n",
       "17        Taqqoslash usuli                        63         3\n",
       "18          klaster metodi                        60         3\n",
       "19        Taqqoslash usuli                        87         5\n",
       "20          klaster metodi                        83         4\n",
       "21        Taqqoslash usuli                        84         4\n",
       "22     Fikriy hujum metodi                        79         4\n",
       "23  zakovatli zukko metodi                        71         3\n",
       "24          klaster metodi                        65         3\n",
       "25        Analogiya metodi                        31         2\n",
       "26            6x6x6 metodi                        58         2\n",
       "27        Induksiya metodi                        52         2\n",
       "28        Taqqoslash usuli                        50         2\n",
       "29        Deduksiya metodi                        64         3"
      ]
     },
     "execution_count": 9,
     "metadata": {},
     "output_type": "execute_result"
    }
   ],
   "source": [
    "warnings.filterwarnings('ignore')\n",
    "plt.rcParams['figure.figsize'] = (7, 7)\n",
    "plt.style.use('ggplot')\n",
    "\n",
    "# Load dataset\n",
    "df_pie = pd.read_csv('task_7.csv', sep=',')\n",
    "\n",
    "print(df_pie.shape)\n",
    "df_pie\n"
   ]
  },
  {
   "cell_type": "code",
   "execution_count": 10,
   "id": "11a68eb9-6a37-46de-8279-5adada382c6b",
   "metadata": {},
   "outputs": [
    {
     "data": {
      "text/plain": [
       "<seaborn.axisgrid.PairGrid at 0x1e586c62000>"
      ]
     },
     "execution_count": 10,
     "metadata": {},
     "output_type": "execute_result"
    },
    {
     "data": {
      "image/png": "[encoded data removed]",
      "text/plain": [
       "<Figure size 600x600 with 6 Axes>"
      ]
     },
     "metadata": {},
     "output_type": "display_data"
    }
   ],
   "source": [
    "sns.set_palette('colorblind')\n",
    "sns.pairplot(data=df_pie, height=3)"
   ]
  },
  {
   "cell_type": "markdown",
   "id": "6f42893c-4f1b-4562-b231-7a65755802a1",
   "metadata": {},
   "source": [
    "## 2. Hosil bo’lgan grafikka ko’ra, atributlarning bir-biriga bog’liqligini o’rganing. Hisobot shaklida mustaqil va bog’liq o’zgaruvchilarni aniqlang"
   ]
  },
  {
   "cell_type": "markdown",
   "id": "5d9aec08-2e15-4ff2-9a32-28e86e0a2361",
   "metadata": {},
   "source": [
    "Birinchi tartiblangan ustun, Ijtimoiy holati, Fannlardan o'zlashtrgan o'rtacha baxosi, davomati bog'liq o'zgaruvchi. Kursdan kursga o'tish mustaqil o'zgaruvchi. Har bir talabaning o'zlashtrish baxosi 2.6 dan yuqori va darslarda qatnashganlik %i yuqori bo'lganda kursdan kursga o'tishi 1 aks holda 0 etib belgilandi."
   ]
  },
  {
   "cell_type": "markdown",
   "id": "3a054b3a-daf8-4114-9dd5-e0a4edc0b3f2",
   "metadata": {},
   "source": [
    "## 3. Regressiya modelini quring. Qurilgan modelni hisobot shaklida yozing."
   ]
  },
  {
   "cell_type": "code",
   "execution_count": 17,
   "id": "1081152b-5c23-4209-8b12-5c9f2217b045",
   "metadata": {},
   "outputs": [
    {
     "data": {
      "text/plain": [
       "0           Analogiya metodi\n",
       "1             klaster metodi\n",
       "2        Fikriy hujum metodi\n",
       "3           Induksiya metodi\n",
       "4             klaster metodi\n",
       "5           Deduksiya metodi\n",
       "6           Taqqoslash usuli\n",
       "7           Induksiya metodi\n",
       "8           Taqqoslash usuli\n",
       "9               6x6x6 metodi\n",
       "10          Deduksiya metodi\n",
       "11          Deduksiya metodi\n",
       "12          Induksiya metodi\n",
       "13          Deduksiya metodi\n",
       "14       Fikriy hujum metodi\n",
       "15          Deduksiya metodi\n",
       "16          Taqqoslash usuli\n",
       "17          Taqqoslash usuli\n",
       "18            klaster metodi\n",
       "19          Taqqoslash usuli\n",
       "20            klaster metodi\n",
       "21          Taqqoslash usuli\n",
       "22       Fikriy hujum metodi\n",
       "23    zakovatli zukko metodi\n",
       "24            klaster metodi\n",
       "25          Analogiya metodi\n",
       "26              6x6x6 metodi\n",
       "27          Induksiya metodi\n",
       "28          Taqqoslash usuli\n",
       "29          Deduksiya metodi\n",
       "Name: Ta’lim texnikasi, dtype: object"
      ]
     },
     "execution_count": 17,
     "metadata": {},
     "output_type": "execute_result"
    }
   ],
   "source": [
    "df_data = pd.read_csv('task_7.csv', sep=',')\n",
    "texnikalar = [\"Induksiya metodi\", \"Deduksiya metodi\", \"Analogiya metodi\", \"Taqqoslash usuli\", \"Fikriy hujum metodi\", \"6x6x6 metodi\", \"klaster metodi\", \"zakovatli zukko metodi\"]\n",
    "# Mustaqil va bog'liq o'zgaruvchilarni o'rnatish\n",
    "z = []\n",
    "for i in df_data[\"Ta’lim texnikasi\"]:\n",
    "    ptiny(texnikalar[i])\n",
    "X = df_data[[\"Ta’lim texnikasi\",\"o‘quvchilarning faolligi\"]]\n",
    "\n",
    "y = df_data[\"natijasi\"]\n",
    "z\n",
    "# Sklearn kutubxonasidan modelni ishga tushirish va uni  ma'lumotlarimizga moslash\n",
    "# regr = linear_model.LinearRegression()\n",
    "# model = regr.fit(X, y)\n",
    "\n",
    "# print('Intercept:', model.intercept_)\n",
    "# print('Koeffisiyentlar:', model.coef_)"
   ]
  },
  {
   "cell_type": "markdown",
   "id": "16fc1cb2-21ce-4ad4-b832-2c2877db911a",
   "metadata": {},
   "source": []
  },
  {
   "cell_type": "markdown",
   "id": "b9285b0d-2b19-41d8-9dee-f074d10c7e58",
   "metadata": {},
   "source": [
    "1. Kesish qiymati bizning barcha mustaqil o'zgaruvchilarimizning qiymatlari 0 bo'lsa, bog'liq o'zgaruvchining taxminiy o'rtacha qiymatidir. Bizning holatda bu shuni anglatadiki, agar ijtimoiy holati-yaxshi, o'zlashtrish baxosi 2.6 dan yuqori va davomati 25% danyuqori ko'rsatkichni qaytarsa biz taxminan 0 ta o'quvchi kursdan kursga qoladi.\r",
    "2.  Koeffitsiyentlar uchun biz mos ravishda \"Ijtimoiy holat\" , \"o'rtacha baxo\" va davomat o'zgaruvchilari uchun 3 ta qiymatga egamiz. Bu qiymat bizning mustaqil o'zgaruvchimizning bog'liq o'zgaruvchiga munosabatini ifodalaydi, bunda mustaqil o'zgaruvchida aynan 1 ga o'zgarishi bizning bog'liq o'zgaruvchimizning qiymatini koeffitsiyent bilan bir xil miqdorda o'zgartiradi. Misol uchun, agar o'quvchilar o'rtacha baxosi 2.6 dan kamaysa unda taxminan har bir 2.6 dan kamaygan talaba kursdan kursga qolish soni ortib boradi, davomat  36% dan oshgan talabalar ham kursdan kursgaqolish holati ko'payadi"
   ]
  },
  {
   "cell_type": "markdown",
   "id": "c508b248-f128-4814-8eac-5947bf5d389a",
   "metadata": {},
   "source": [
    "## 4. Regressiya modeliga ko’ra, bog’liq o’zgaruvchilarning qiymati aniq bo’lsa, talabaning kursdan kursga qolishini bashorat qiling."
   ]
  },
  {
   "cell_type": "code",
   "execution_count": 43,
   "id": "fc989ef4-516a-498f-bf6b-189e1fbfe8db",
   "metadata": {},
   "outputs": [
    {
     "name": "stdout",
     "output_type": "stream",
     "text": [
      "temir daftar, boquvchisini yo'qotgan, chin yetim, yoshlar daftari, ijtimoiy ximoyaga muhtoj oila reestr, oilali, yolg'iz, "
     ]
    }
   ],
   "source": [
    "ijtimoiy = [\"temir daftar\", \"boquvchisini yo'qotgan\", \"chin yetim\", \"yoshlar daftari\", \"ijtimoiy ximoyaga muhtoj oila reestr\", \"oilali\", \"yolg'iz\"]\n",
    "for i in ijtimoiy:\n",
    "    print(i, end=\", \")"
   ]
  },
  {
   "cell_type": "code",
   "execution_count": 69,
   "id": "542cb0be-8688-4cde-873f-1ebf14c3be85",
   "metadata": {},
   "outputs": [
    {
     "name": "stdout",
     "output_type": "stream",
     "text": [
      "Talaba ma'lumotlarini kiriting\n"
     ]
    },
    {
     "name": "stdin",
     "output_type": "stream",
     "text": [
      "Ijtimoiy xolatini kiriting (0 dan 7 gacha)? \n",
      " 5\n",
      "o'rtacha bahosini kiriting  (butun son) ? \n",
      " 4.5\n",
      "Darslarga qatlashganlik (davomati) % (0 dan 100&) ? \n",
      " 80\n"
     ]
    },
    {
     "name": "stdout",
     "output_type": "stream",
     "text": [
      "Talaba kursdan kursga \"o'tadi\", Agar ijtimoiy holati \"5\" bo'lsa , o'rtacha bahosi \"4.5\" bo'lsa va davomati \"80%\" bo'lsa.\n"
     ]
    }
   ],
   "source": [
    "# Bashorat qilinadigan qiymatlar\n",
    "print(\"Talaba ma'lumotlarini kiriting\")\n",
    "social = input('Ijtimoiy xolatini kiriting (0 dan 7 gacha)? \\n')\n",
    "grade = input(\"o'rtacha bahosini kiriting  (butun son) ? \\n\")\n",
    "attendance = input(\"Darslarga qatlashganlik (davomati) % (0 dan 100&) ? \\n\")\n",
    "\n",
    "#social_d = ijtimoiy[social]\n",
    "\n",
    "try:\n",
    "    print('Talaba kursdan kursga \"{}\", Agar ijtimoiy holati \"{}\" bo\\'lsa , o\\'rtacha bahosi \"{}\" bo\\'lsa va davomati \"{}%\" bo\\'lsa.'.format(\n",
    "        (\"o'tmaydi\", \"o'tadi\")[model.predict([[float(social), float(grade), float(attendance)]])[0]>0.25],\n",
    "        social, \n",
    "        grade, \n",
    "        attendance))\n",
    "except Exception as e: print(e)\n",
    "# except ValueError:\n",
    "    # print('Faqat butun son kiriting:\\n- masalan, 1, 4, 7\\n- haqiqiy son kiriting e.g. 3.8')\n"
   ]
  }
 ],
 "metadata": {
  "kernelspec": {
   "display_name": "Python 3 (ipykernel)",
   "language": "python",
   "name": "python3"
  },
  "language_info": {
   "codemirror_mode": {
    "name": "ipython",
    "version": 3
   },
   "file_extension": ".py",
   "mimetype": "text/x-python",
   "name": "python",
   "nbconvert_exporter": "python",
   "pygments_lexer": "ipython3",
   "version": "3.12.1"
  }
 },
 "nbformat": 4,
 "nbformat_minor": 5
}
