{
 "cells": [
  {
   "cell_type": "markdown",
   "id": "374d72a8-e3e2-4f93-942a-546166afcb84",
   "metadata": {},
   "source": [
    "# 4-TOPSHIRIQ. Tuzgan modelingizni baholang:"
   ]
  },
  {
   "cell_type": "code",
   "execution_count": 3,
   "id": "6e758773-ffae-4c82-9dc7-6f618fb3e17d",
   "metadata": {},
   "outputs": [],
   "source": [
    "import pandas as pd\n",
    "import numpy as np\n",
    "import string\n",
    "import csv\n",
    "import random\n",
    "import warnings\n"
   ]
  },
  {
   "cell_type": "code",
   "execution_count": 3,
   "id": "426b7f92-e7f9-45fa-a03c-12b25801b73a",
   "metadata": {},
   "outputs": [],
   "source": [
    "# Kutubxonalarni import qilish\n",
    "## Boshlang'ich kutubxonalar\n",
    "import pandas as pd\n",
    "import numpy as np\n",
    "import warnings\n",
    "\n",
    "## Modelni qurish \n",
    "from sklearn import linear_model\n",
    "from scipy import stats\n",
    "import statsmodels\n",
    "import statsmodels.api as sm\n",
    "import statsmodels.formula.api as smf\n",
    "import statsmodels.stats.api as sms\n",
    "from statsmodels.compat import lzip\n",
    "\n",
    "## Ma'lumotlarni vizualazizatsiyalash\n",
    "import seaborn as sns\n",
    "import matplotlib.pyplot as plt\n",
    "from mpl_toolkits.mplot3d import Axes3D"
   ]
  },
  {
   "cell_type": "markdown",
   "id": "dadc0c26-8471-4fd0-a9fc-bf931b760ae4",
   "metadata": {},
   "source": [
    "## 1.  Modelning Aniqlanish koeffisiyentini toping va xulosani chop etingng."
   ]
  },
  {
   "cell_type": "code",
   "execution_count": 6,
   "id": "ec314d2e-fff6-42ee-be62-9e9f89171569",
   "metadata": {},
   "outputs": [
    {
     "name": "stdout",
     "output_type": "stream",
     "text": [
      "(19, 4)\n"
     ]
    },
    {
     "data": {
      "text/html": [
       "<div>\n",
       "<style scoped>\n",
       "    .dataframe tbody tr th:only-of-type {\n",
       "        vertical-align: middle;\n",
       "    }\n",
       "\n",
       "    .dataframe tbody tr th {\n",
       "        vertical-align: top;\n",
       "    }\n",
       "\n",
       "    .dataframe thead th {\n",
       "        text-align: right;\n",
       "    }\n",
       "</style>\n",
       "<table border=\"1\" class=\"dataframe\">\n",
       "  <thead>\n",
       "    <tr style=\"text-align: right;\">\n",
       "      <th></th>\n",
       "      <th>ijtimoiy holati</th>\n",
       "      <th>o'rtacha bahosi</th>\n",
       "      <th>davomat</th>\n",
       "      <th>kursdan o'tishi</th>\n",
       "    </tr>\n",
       "  </thead>\n",
       "  <tbody>\n",
       "    <tr>\n",
       "      <th>0</th>\n",
       "      <td>0</td>\n",
       "      <td>1.8</td>\n",
       "      <td>25</td>\n",
       "      <td>0</td>\n",
       "    </tr>\n",
       "    <tr>\n",
       "      <th>1</th>\n",
       "      <td>6</td>\n",
       "      <td>3.6</td>\n",
       "      <td>87</td>\n",
       "      <td>1</td>\n",
       "    </tr>\n",
       "    <tr>\n",
       "      <th>2</th>\n",
       "      <td>4</td>\n",
       "      <td>3.4</td>\n",
       "      <td>82</td>\n",
       "      <td>1</td>\n",
       "    </tr>\n",
       "    <tr>\n",
       "      <th>3</th>\n",
       "      <td>1</td>\n",
       "      <td>2.2</td>\n",
       "      <td>21</td>\n",
       "      <td>0</td>\n",
       "    </tr>\n",
       "    <tr>\n",
       "      <th>4</th>\n",
       "      <td>6</td>\n",
       "      <td>2.6</td>\n",
       "      <td>42</td>\n",
       "      <td>0</td>\n",
       "    </tr>\n",
       "    <tr>\n",
       "      <th>5</th>\n",
       "      <td>5</td>\n",
       "      <td>3.2</td>\n",
       "      <td>83</td>\n",
       "      <td>1</td>\n",
       "    </tr>\n",
       "    <tr>\n",
       "      <th>6</th>\n",
       "      <td>0</td>\n",
       "      <td>3.2</td>\n",
       "      <td>50</td>\n",
       "      <td>0</td>\n",
       "    </tr>\n",
       "    <tr>\n",
       "      <th>7</th>\n",
       "      <td>4</td>\n",
       "      <td>2.6</td>\n",
       "      <td>65</td>\n",
       "      <td>1</td>\n",
       "    </tr>\n",
       "    <tr>\n",
       "      <th>8</th>\n",
       "      <td>3</td>\n",
       "      <td>2.8</td>\n",
       "      <td>31</td>\n",
       "      <td>0</td>\n",
       "    </tr>\n",
       "    <tr>\n",
       "      <th>9</th>\n",
       "      <td>5</td>\n",
       "      <td>2.6</td>\n",
       "      <td>37</td>\n",
       "      <td>0</td>\n",
       "    </tr>\n",
       "    <tr>\n",
       "      <th>10</th>\n",
       "      <td>1</td>\n",
       "      <td>2.6</td>\n",
       "      <td>96</td>\n",
       "      <td>1</td>\n",
       "    </tr>\n",
       "    <tr>\n",
       "      <th>11</th>\n",
       "      <td>3</td>\n",
       "      <td>3.4</td>\n",
       "      <td>45</td>\n",
       "      <td>0</td>\n",
       "    </tr>\n",
       "    <tr>\n",
       "      <th>12</th>\n",
       "      <td>2</td>\n",
       "      <td>2.4</td>\n",
       "      <td>41</td>\n",
       "      <td>0</td>\n",
       "    </tr>\n",
       "    <tr>\n",
       "      <th>13</th>\n",
       "      <td>5</td>\n",
       "      <td>2.4</td>\n",
       "      <td>85</td>\n",
       "      <td>0</td>\n",
       "    </tr>\n",
       "    <tr>\n",
       "      <th>14</th>\n",
       "      <td>5</td>\n",
       "      <td>3.2</td>\n",
       "      <td>70</td>\n",
       "      <td>1</td>\n",
       "    </tr>\n",
       "    <tr>\n",
       "      <th>15</th>\n",
       "      <td>4</td>\n",
       "      <td>2.6</td>\n",
       "      <td>24</td>\n",
       "      <td>0</td>\n",
       "    </tr>\n",
       "    <tr>\n",
       "      <th>16</th>\n",
       "      <td>4</td>\n",
       "      <td>3.2</td>\n",
       "      <td>97</td>\n",
       "      <td>1</td>\n",
       "    </tr>\n",
       "    <tr>\n",
       "      <th>17</th>\n",
       "      <td>1</td>\n",
       "      <td>2.6</td>\n",
       "      <td>10</td>\n",
       "      <td>0</td>\n",
       "    </tr>\n",
       "    <tr>\n",
       "      <th>18</th>\n",
       "      <td>5</td>\n",
       "      <td>3.2</td>\n",
       "      <td>40</td>\n",
       "      <td>0</td>\n",
       "    </tr>\n",
       "  </tbody>\n",
       "</table>\n",
       "</div>"
      ],
      "text/plain": [
       "    ijtimoiy holati  o'rtacha bahosi  davomat  kursdan o'tishi\n",
       "0                 0              1.8       25                0\n",
       "1                 6              3.6       87                1\n",
       "2                 4              3.4       82                1\n",
       "3                 1              2.2       21                0\n",
       "4                 6              2.6       42                0\n",
       "5                 5              3.2       83                1\n",
       "6                 0              3.2       50                0\n",
       "7                 4              2.6       65                1\n",
       "8                 3              2.8       31                0\n",
       "9                 5              2.6       37                0\n",
       "10                1              2.6       96                1\n",
       "11                3              3.4       45                0\n",
       "12                2              2.4       41                0\n",
       "13                5              2.4       85                0\n",
       "14                5              3.2       70                1\n",
       "15                4              2.6       24                0\n",
       "16                4              3.2       97                1\n",
       "17                1              2.6       10                0\n",
       "18                5              3.2       40                0"
      ]
     },
     "execution_count": 6,
     "metadata": {},
     "output_type": "execute_result"
    }
   ],
   "source": [
    "warnings.filterwarnings('ignore')\n",
    "plt.rcParams['figure.figsize'] = (7, 7)\n",
    "plt.style.use('ggplot')\n",
    "\n",
    "# Load dataset\n",
    "df_data = pd.read_csv('data6.csv', sep=',')\n",
    "print(df_data.shape)\n",
    "df_data"
   ]
  },
  {
   "cell_type": "code",
   "execution_count": 12,
   "id": "7d3b6dbe-3ffe-4197-a29b-680fbdae5a99",
   "metadata": {},
   "outputs": [
    {
     "name": "stdout",
     "output_type": "stream",
     "text": [
      "R2 score: 0.6653422082167253\n"
     ]
    }
   ],
   "source": [
    "X = df_data[[\"ijtimoiy holati\", \"o'rtacha bahosi\",\"davomat\"]]\n",
    "X = sm.add_constant(X) # O'zgarmaslarni qo'shish\n",
    "olsmod = sm.OLS(df_data[\"kursdan o'tishi\"], X).fit()\n",
    "print('R2 score:', olsmod.rsquared)"
   ]
  },
  {
   "cell_type": "markdown",
   "id": "f4e68fd0-0a67-49d9-a74a-d35d6247b8f2",
   "metadata": {},
   "source": [
    "Natija:  R2 score: 0.6653422082167253\r\n",
    "\r\n",
    "R² diapazoni 0 va 1 oralig'ida, bu erda R²=0 o'zgaruvchilar o'rtasida chiziqli munosabat yo'qligini bildiradi va R²=1 mukammal chiziqli munosabatni ko'rsatadi. Bizning holatda, biz taxminan 0,6653 R² ball oldik, ya'ni bizning bog'liq o'zgaruvchimizning 66,53% mustaqil o'zgaruvchiga tasir qiladi."
   ]
  },
  {
   "cell_type": "markdown",
   "id": "2e250b3a-8b9b-4f11-9d6a-ed9aa71e2824",
   "metadata": {},
   "source": [
    "## 2. Modelni F-test(ANOVA) bo'yicha tekshiring va xulosani chop eting."
   ]
  },
  {
   "cell_type": "code",
   "execution_count": 10,
   "id": "4b0770aa-0228-40c5-8e64-e31a91534f98",
   "metadata": {},
   "outputs": [
    {
     "name": "stdout",
     "output_type": "stream",
     "text": [
      "F-statistic: 9.94063524819411\n",
      "Hech bo'lmaganda F-statistika kabi yuqori qiymatni kuzatish ehtimoli: 0.0007398868035459624\n"
     ]
    }
   ],
   "source": [
    "print('F-statistic:', olsmod.fvalue)\n",
    "print(\"Hech bo'lmaganda F-statistika kabi yuqori qiymatni kuzatish ehtimoli:\", olsmod.f_pvalue)"
   ]
  },
  {
   "cell_type": "markdown",
   "id": "b95496ac-c7fe-4f3b-b3d7-0c7ef5dc7796",
   "metadata": {},
   "source": [
    "F-statistika kabi yuqori qiymatni kuzatish ehtimoli: 0.0007398868035459624\n",
    "Bizning f_pvalue 0,05 dan past bo'lganligi uchun mustaxkam va kuchli ishlaydi, aks holda bizning modelimiz kuchsiz ishlaydigon madel sifatida qaralar edi xulosa o’rnida bizning model qiymati 0.0007 bo’lgani uchun juda mustaxkam va kuchli ishlaydi degan xulosaga kelishimiz mumkin."
   ]
  },
  {
   "cell_type": "markdown",
   "id": "83bd969b-24fb-4fba-9008-2eecd3ca2bf5",
   "metadata": {},
   "source": [
    "## 3. Modelni T-test bo'yicha tekshiring va xulosani chop eting."
   ]
  },
  {
   "cell_type": "code",
   "execution_count": 14,
   "id": "124c7981-c7b7-4353-bb2d-08a5735fa9f9",
   "metadata": {},
   "outputs": [
    {
     "name": "stdout",
     "output_type": "stream",
     "text": [
      "const              0.142006\n",
      "ijtimoiy holati    0.779550\n",
      "o'rtacha bahosi    0.490471\n",
      "davomat            0.000576\n",
      "dtype: float64\n"
     ]
    }
   ],
   "source": [
    "print(olsmod.pvalues)"
   ]
  },
  {
   "cell_type": "markdown",
   "id": "97e99f81-a5a7-495c-8d39-d556816afb34",
   "metadata": {},
   "source": [
    "Bizning ikkala mustaqil o'zgaruvchimiz, ijtimoiy holati, o'rtacha bahosi  va davomat , p-qiymati 0,05 dan kam bo'lib yani 0.0007 bo’lganligi uchun, bu talabaning kursdan kursga o’tish xolatigaga ta'sir qilishiga yetarli dalillar mavjudligini ko'rsatadi."
   ]
  },
  {
   "cell_type": "markdown",
   "id": "b5d36b34-5c47-45c4-b193-7d76e6296cfc",
   "metadata": {},
   "source": [
    "# Modelda taxminlar testini tekshiring:"
   ]
  },
  {
   "cell_type": "code",
   "execution_count": 15,
   "id": "8833c948-ec2e-414a-a563-954b9348b8c1",
   "metadata": {},
   "outputs": [
    {
     "data": {
      "text/html": [
       "<div>\n",
       "<style scoped>\n",
       "    .dataframe tbody tr th:only-of-type {\n",
       "        vertical-align: middle;\n",
       "    }\n",
       "\n",
       "    .dataframe tbody tr th {\n",
       "        vertical-align: top;\n",
       "    }\n",
       "\n",
       "    .dataframe thead th {\n",
       "        text-align: right;\n",
       "    }\n",
       "</style>\n",
       "<table border=\"1\" class=\"dataframe\">\n",
       "  <thead>\n",
       "    <tr style=\"text-align: right;\">\n",
       "      <th></th>\n",
       "      <th>ijtimoiy holati</th>\n",
       "      <th>o'rtacha bahosi</th>\n",
       "      <th>davomat</th>\n",
       "      <th>kursdan o'tishi</th>\n",
       "      <th>pass_course_pred</th>\n",
       "      <th>residual</th>\n",
       "    </tr>\n",
       "  </thead>\n",
       "  <tbody>\n",
       "    <tr>\n",
       "      <th>0</th>\n",
       "      <td>0</td>\n",
       "      <td>1.8</td>\n",
       "      <td>25</td>\n",
       "      <td>0</td>\n",
       "      <td>-0.126516</td>\n",
       "      <td>0.126516</td>\n",
       "    </tr>\n",
       "    <tr>\n",
       "      <th>1</th>\n",
       "      <td>6</td>\n",
       "      <td>3.6</td>\n",
       "      <td>87</td>\n",
       "      <td>1</td>\n",
       "      <td>0.887436</td>\n",
       "      <td>0.112564</td>\n",
       "    </tr>\n",
       "    <tr>\n",
       "      <th>2</th>\n",
       "      <td>4</td>\n",
       "      <td>3.4</td>\n",
       "      <td>82</td>\n",
       "      <td>1</td>\n",
       "      <td>0.816893</td>\n",
       "      <td>0.183107</td>\n",
       "    </tr>\n",
       "    <tr>\n",
       "      <th>3</th>\n",
       "      <td>1</td>\n",
       "      <td>2.2</td>\n",
       "      <td>21</td>\n",
       "      <td>0</td>\n",
       "      <td>-0.139886</td>\n",
       "      <td>0.139886</td>\n",
       "    </tr>\n",
       "    <tr>\n",
       "      <th>4</th>\n",
       "      <td>6</td>\n",
       "      <td>2.6</td>\n",
       "      <td>42</td>\n",
       "      <td>0</td>\n",
       "      <td>0.139173</td>\n",
       "      <td>-0.139173</td>\n",
       "    </tr>\n",
       "  </tbody>\n",
       "</table>\n",
       "</div>"
      ],
      "text/plain": [
       "   ijtimoiy holati  o'rtacha bahosi  davomat  kursdan o'tishi  \\\n",
       "0                0              1.8       25                0   \n",
       "1                6              3.6       87                1   \n",
       "2                4              3.4       82                1   \n",
       "3                1              2.2       21                0   \n",
       "4                6              2.6       42                0   \n",
       "\n",
       "   pass_course_pred  residual  \n",
       "0         -0.126516  0.126516  \n",
       "1          0.887436  0.112564  \n",
       "2          0.816893  0.183107  \n",
       "3         -0.139886  0.139886  \n",
       "4          0.139173 -0.139173  "
      ]
     },
     "execution_count": 15,
     "metadata": {},
     "output_type": "execute_result"
    }
   ],
   "source": [
    "df_data['pass_course_pred'] = olsmod.predict(X)\n",
    "df_data['residual'] = olsmod.resid\n",
    "df_data.head()"
   ]
  },
  {
   "cell_type": "markdown",
   "id": "0732492c-f150-47b1-bcff-c4e66d488493",
   "metadata": {},
   "source": [
    "## 1. Modelni chiziqlilikga tekshiring. Bunda mustaqil va bog'liq o'zgaruvchilar o'rtasida bog'liqlik borligi haqida xulosa qiling."
   ]
  },
  {
   "cell_type": "code",
   "execution_count": 20,
   "id": "6c54ec1c-f001-4137-b700-e4bd4c2f1927",
   "metadata": {},
   "outputs": [
    {
     "data": {
      "image/png": "[encoded data removed]",
      "text/plain": [
       "<Figure size 500x500 with 1 Axes>"
      ]
     },
     "metadata": {},
     "output_type": "display_data"
    }
   ],
   "source": [
    "# Kuzatilgan va bashorat qilingan qiymatlarni chizish\n",
    "sns.lmplot(x='kursdan o\\'tishi', y='pass_course_pred', data=df_data, fit_reg=False)\n",
    "    \n",
    "# Diagonal chiziq chizish\n",
    "line_coords = np.arange(df_data[['kursdan o\\'tishi', 'pass_course_pred']].min().min()-0.5, \n",
    "                        df_data[['kursdan o\\'tishi', 'pass_course_pred']].max().max()+0.5)\n",
    "plt.plot(line_coords, line_coords,  # X and y points\n",
    "         color='darkorange', linestyle='--')\n",
    "\n",
    "plt.ylabel('Bashoratli Kursdan o\\'tish', fontsize=14)\n",
    "plt.xlabel('Haqiqiy kursdan o\\'tish', fontsize=14)\n",
    "plt.title('Chiziqli taxmin', fontsize=16)\n",
    "plt.show()"
   ]
  },
  {
   "cell_type": "markdown",
   "id": "29e9057f-4bb3-40c4-b8a8-d6b3f2b5e2cb",
   "metadata": {},
   "source": [
    "Tarqalish chizmalari diagonal chiziq bo'ylab teng ravishda tarqalmaganligisababli talabaning kursdan kursga o’tish modeli qoldiq nuqtani ko'rsatadi, shuning uchun mustaqil va qaram o'zgaruvchilar o'rtasida chiziqli bog'liqlik bor deb taxmin qilishimizga qiyinchilik tug’dirdi vachiziqlilik taxminiga uncha mos kelmadi degan hulosaga kelindi"
   ]
  },
  {
   "cell_type": "markdown",
   "id": "8e01c330-206c-4f04-87bb-0e3ab8c7d68c",
   "metadata": {},
   "source": [
    "## 2. Modelning normal taqsimlanganini aniqlang va xulosani chop eting."
   ]
  },
  {
   "cell_type": "code",
   "execution_count": 22,
   "id": "9c24ae9a-c0fb-42e2-83a9-eb4336be1574",
   "metadata": {},
   "outputs": [
    {
     "name": "stdout",
     "output_type": "stream",
     "text": [
      "Anderson-Darling testining p-qiymati 0,05 dan past bo'lsa, odatda normal emas degan ma'noni anglatadi: 0.6576431999202214\n"
     ]
    },
    {
     "data": {
      "image/png": "[encoded data removed]",
      "text/plain": [
       "<Figure size 800x400 with 1 Axes>"
      ]
     },
     "metadata": {},
     "output_type": "display_data"
    },
    {
     "name": "stdout",
     "output_type": "stream",
     "text": [
      "Qoldiqlar odatda taqsimlanadi\n"
     ]
    }
   ],
   "source": [
    "from statsmodels.stats.diagnostic import normal_ad\n",
    "\n",
    "# Qoldiqlar bo'yicha test o'tkazish\n",
    "p_value = normal_ad(df_data['residual'])[1]\n",
    "print(\"Anderson-Darling testining p-qiymati 0,05 dan past bo'lsa, odatda normal emas degan ma'noni anglatadi:\", p_value)\n",
    "\n",
    "# Qoldiqlarni taqsimlash sxemasini tuzish\n",
    "plt.subplots(figsize=(8, 4))\n",
    "plt.title('Qoldiqlarni taqsimlash', fontsize=18)\n",
    "sns.distplot(df_data['residual'])\n",
    "plt.show()\n",
    "\n",
    "# Qoldiqlarning normalligi haqida xabar berish\n",
    "if p_value < 0.05:\n",
    "    print('Qoldiqlar odatda taqsimlanmagan')\n",
    "else:\n",
    "    print('Qoldiqlar odatda taqsimlanadi')\n"
   ]
  },
  {
   "cell_type": "markdown",
   "id": "e55e2cc3-24e2-4436-b432-065dd303f0b7",
   "metadata": {},
   "source": [
    "Yuqoridagi koddan biz 0,6575 p-qiymatini oldik, uni normal deb hisoblash mumkin, chunki u 0,05 chegaradan yuqori. Gistogramma syujeti normal taqsimotni ham ko'rsatadi (bu biroz egri ko'rinishi mumkin, chunki bizning ma'lumotlar to'plamimizda atigi 18 ta kuzatuv mavjud). Ushbu ikkala natijadan biz qoldiqlarimiz normal taqsimlangan deb taxmin qilishimiz mumkin."
   ]
  },
  {
   "cell_type": "markdown",
   "id": "a236650b-c8e7-4d10-be9e-e9b5a785cf1e",
   "metadata": {},
   "source": [
    "## 3. Modelni multikollinearlikka tekshiring va xulosani chop eting."
   ]
  },
  {
   "cell_type": "code",
   "execution_count": 24,
   "id": "86c12c48-c616-4e42-b94a-4cee684cd86c",
   "metadata": {},
   "outputs": [
    {
     "name": "stdout",
     "output_type": "stream",
     "text": [
      "Har bir o'zgaruvchining Person korrelyatsiya koeffitsienti matritsasi:\n",
      "                  ijtimoiy holati  o'rtacha bahosi   davomat\n",
      "ijtimoiy holati         1.000000         0.451937  0.389946\n",
      "o'rtacha bahosi         0.451937         1.000000  0.493872\n",
      "davomat                 0.389946         0.493872  1.000000\n"
     ]
    },
    {
     "data": {
      "image/png": "[encoded data removed]",
      "text/plain": [
       "<Figure size 400x300 with 2 Axes>"
      ]
     },
     "metadata": {},
     "output_type": "display_data"
    }
   ],
   "source": [
    "corr = df_data[[\"ijtimoiy holati\", \"o'rtacha bahosi\",\"davomat\"]].corr()\n",
    "print(\"Har bir o'zgaruvchining Person korrelyatsiya koeffitsienti matritsasi:\\n\", corr)\n",
    "\n",
    "# Diagonal hujayra uchun niqob yarating\n",
    "mask = np.zeros_like(corr, dtype=bool)\n",
    "np.fill_diagonal(mask, val=True)\n",
    "\n",
    "# Matplotlib ishga tushirish\n",
    "fig, ax = plt.subplots(figsize=(4, 3))\n",
    "\n",
    "# Maxsus ajralib turuvchi rang xaritasini yaratish\n",
    "cmap = sns.diverging_palette(220, 10, as_cmap=True, sep=100)\n",
    "cmap.set_bad('grey')\n",
    "\n",
    "# Niqob va to'g'ri tomonlar nisbati bilan issiqlik xaritasini chizing\n",
    "sns.heatmap(corr, mask=mask, cmap=cmap, vmin=-1, vmax=1, center=0, linewidths=.5)\n",
    "fig.suptitle('Person korrelyatsiya koeffitsiyenti matritsasi', fontsize=14)\n",
    "ax.tick_params(axis='both', which='major', labelsize=10)\n",
    "# fig.tight_layout()\n",
    "\n"
   ]
  },
  {
   "cell_type": "markdown",
   "id": "d6102d8d-8a01-4156-9282-c12081f938d8",
   "metadata": {},
   "source": [
    "Rasm ijtimoiy holati, o'rtacha bahosi  va davomat o'rtasida qandaydir ijobiy munosabat va nijtimoiy holati, o'rtacha bahosi  va davomat o'rtasida salbiy munosabat mavjudligini ko'rsatadi. Bu ikkala natija ham bizning oldingi modelimizni qo'llab-quvvatlaydi. Eng muhimi, ijtimoiy holati, o'rtacha bahosi  va davomat  qanday qilib deyarli 0 korrelyatsiya koeffitsientiga ega ekanligiga e'tibor bering. Bu bizning ikkala mustaqil o'zgaruvchimiz bir-biriga ta'siri borligini va bizning ma'lumotlarimizda multikollinearlik borliginiligini anglatadi."
   ]
  },
  {
   "cell_type": "markdown",
   "id": "49c2a75e-9ad9-4f28-a193-5f4be1172424",
   "metadata": {},
   "source": [
    "## 4. Modelda avtokorellatsiya mavjudligini aniqlang."
   ]
  },
  {
   "cell_type": "code",
   "execution_count": 26,
   "id": "35fbceb7-8600-4a5d-aa09-79e86603255c",
   "metadata": {},
   "outputs": [
    {
     "name": "stdout",
     "output_type": "stream",
     "text": [
      "Durbin-Watson: 2.592185836709814\n",
      "Manfiy Salbiy avtokorrelyatsiya belgilari \n",
      "\n",
      " Taxmin qanoatlantirmadi \n"
     ]
    }
   ],
   "source": [
    "from statsmodels.stats.stattools import durbin_watson\n",
    "\n",
    "durbinWatson = durbin_watson(df_data['residual'])\n",
    "\n",
    "print('Durbin-Watson:', durbinWatson)\n",
    "if durbinWatson < 1.5:\n",
    "    print('Musbat avtokorrelyatsiya belgilari', '\\n')\n",
    "    print('Taxmin qanoatlantirmadi')\n",
    "elif durbinWatson > 2.5:\n",
    "    print('Manfiy Salbiy avtokorrelyatsiya belgilari', '\\n')\n",
    "    print(' Taxmin qanoatlantirmadi ')\n",
    "else:\n",
    "    print(\"Avtokorrelyatsiya deyarli yo'q\", '\\n')\n",
    "    print('Taxmin qanoatlantirdi')"
   ]
  },
  {
   "cell_type": "markdown",
   "id": "b1652c83-72d5-4f84-bfdc-8f9a8f3c082b",
   "metadata": {},
   "source": [
    "Bizning modelimiz Durbin-Watson ballini taxminan 2.5921 ga ega bo'ldi, bu 1,5 dan 2,5 gacha oralig’ida emas  shuning uchun bizning qoldiqimizda avtokorrelyatsiya ega  deb taxmin qilishimiz mumki va keyinchalik yangi ma’lumot qo’shilishiga chidamlik emas"
   ]
  }
 ],
 "metadata": {
  "kernelspec": {
   "display_name": "Python 3 (ipykernel)",
   "language": "python",
   "name": "python3"
  },
  "language_info": {
   "codemirror_mode": {
    "name": "ipython",
    "version": 3
   },
   "file_extension": ".py",
   "mimetype": "text/x-python",
   "name": "python",
   "nbconvert_exporter": "python",
   "pygments_lexer": "ipython3",
   "version": "3.12.1"
  }
 },
 "nbformat": 4,
 "nbformat_minor": 5
}
