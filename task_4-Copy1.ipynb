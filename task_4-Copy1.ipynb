{
 "cells": [
  {
   "cell_type": "markdown",
   "id": "374d72a8-e3e2-4f93-942a-546166afcb84",
   "metadata": {},
   "source": [
    "# Python yordamida ko'p chiziqli regressiya"
   ]
  },
  {
   "cell_type": "code",
   "execution_count": 3,
   "id": "6e758773-ffae-4c82-9dc7-6f618fb3e17d",
   "metadata": {},
   "outputs": [],
   "source": [
    "import pandas as pd\n",
    "import numpy as np\n",
    "import string\n",
    "import csv\n",
    "import random\n",
    "import warnings\n"
   ]
  },
  {
   "cell_type": "code",
   "execution_count": 4,
   "id": "426b7f92-e7f9-45fa-a03c-12b25801b73a",
   "metadata": {},
   "outputs": [],
   "source": [
    "## Modelni qurish \n",
    "from sklearn import linear_model\n",
    "from scipy import stats\n",
    "import statsmodels\n",
    "import statsmodels.api as sm\n",
    "import statsmodels.formula.api as smf\n",
    "import statsmodels.stats.api as sms\n",
    "from statsmodels.compat import lzip\n",
    "\n",
    "## Ma'lumotlarni vizualazizatsiyalash\n",
    "import seaborn as sns\n",
    "import matplotlib.pyplot as plt\n",
    "from mpl_toolkits.mplot3d import Axes3D"
   ]
  },
  {
   "cell_type": "markdown",
   "id": "dadc0c26-8471-4fd0-a9fc-bf931b760ae4",
   "metadata": {},
   "source": [
    "## Ta’lim texnikasi, o‘quvchilarning faolligi va ta’lim natijalari to‘g‘risidagi ma’lumotlardan foydalangan holda o‘quvchilar faoliyatini yaxshilashda turli o‘qitish usullarining samaradorligi ma’lumotlari mavjud. Mavjud ma’lumotlar asosida quyidagilarni aniqlang :"
   ]
  },
  {
   "cell_type": "markdown",
   "id": "e319b7cd-5ea7-445b-a8f4-60e6b8d7b9df",
   "metadata": {},
   "source": [
    "## 1. Ma’lumotlar bazasidagi har bir atribut orasidagi tarqalish grafigini hosil qiling."
   ]
  },
  {
   "cell_type": "code",
   "execution_count": 5,
   "id": "b23a51e3-bbe6-4143-a71d-6502bb637f4e",
   "metadata": {},
   "outputs": [
    {
     "name": "stdout",
     "output_type": "stream",
     "text": [
      "(30, 3)\n"
     ]
    },
    {
     "data": {
      "text/html": [
       "<div>\n",
       "<style scoped>\n",
       "    .dataframe tbody tr th:only-of-type {\n",
       "        vertical-align: middle;\n",
       "    }\n",
       "\n",
       "    .dataframe tbody tr th {\n",
       "        vertical-align: top;\n",
       "    }\n",
       "\n",
       "    .dataframe thead th {\n",
       "        text-align: right;\n",
       "    }\n",
       "</style>\n",
       "<table border=\"1\" class=\"dataframe\">\n",
       "  <thead>\n",
       "    <tr style=\"text-align: right;\">\n",
       "      <th></th>\n",
       "      <th>ta'lim texnikasi</th>\n",
       "      <th>o'quvchilarning faolligi</th>\n",
       "      <th>natijasi</th>\n",
       "    </tr>\n",
       "  </thead>\n",
       "  <tbody>\n",
       "    <tr>\n",
       "      <th>0</th>\n",
       "      <td>6</td>\n",
       "      <td>36</td>\n",
       "      <td>2</td>\n",
       "    </tr>\n",
       "    <tr>\n",
       "      <th>1</th>\n",
       "      <td>3</td>\n",
       "      <td>60</td>\n",
       "      <td>2</td>\n",
       "    </tr>\n",
       "    <tr>\n",
       "      <th>2</th>\n",
       "      <td>7</td>\n",
       "      <td>58</td>\n",
       "      <td>2</td>\n",
       "    </tr>\n",
       "    <tr>\n",
       "      <th>3</th>\n",
       "      <td>4</td>\n",
       "      <td>58</td>\n",
       "      <td>2</td>\n",
       "    </tr>\n",
       "    <tr>\n",
       "      <th>4</th>\n",
       "      <td>6</td>\n",
       "      <td>57</td>\n",
       "      <td>2</td>\n",
       "    </tr>\n",
       "    <tr>\n",
       "      <th>5</th>\n",
       "      <td>2</td>\n",
       "      <td>40</td>\n",
       "      <td>2</td>\n",
       "    </tr>\n",
       "    <tr>\n",
       "      <th>6</th>\n",
       "      <td>6</td>\n",
       "      <td>44</td>\n",
       "      <td>2</td>\n",
       "    </tr>\n",
       "    <tr>\n",
       "      <th>7</th>\n",
       "      <td>7</td>\n",
       "      <td>44</td>\n",
       "      <td>2</td>\n",
       "    </tr>\n",
       "    <tr>\n",
       "      <th>8</th>\n",
       "      <td>4</td>\n",
       "      <td>58</td>\n",
       "      <td>2</td>\n",
       "    </tr>\n",
       "    <tr>\n",
       "      <th>9</th>\n",
       "      <td>3</td>\n",
       "      <td>56</td>\n",
       "      <td>2</td>\n",
       "    </tr>\n",
       "    <tr>\n",
       "      <th>10</th>\n",
       "      <td>7</td>\n",
       "      <td>34</td>\n",
       "      <td>2</td>\n",
       "    </tr>\n",
       "    <tr>\n",
       "      <th>11</th>\n",
       "      <td>7</td>\n",
       "      <td>61</td>\n",
       "      <td>3</td>\n",
       "    </tr>\n",
       "    <tr>\n",
       "      <th>12</th>\n",
       "      <td>2</td>\n",
       "      <td>43</td>\n",
       "      <td>2</td>\n",
       "    </tr>\n",
       "    <tr>\n",
       "      <th>13</th>\n",
       "      <td>5</td>\n",
       "      <td>52</td>\n",
       "      <td>2</td>\n",
       "    </tr>\n",
       "    <tr>\n",
       "      <th>14</th>\n",
       "      <td>4</td>\n",
       "      <td>70</td>\n",
       "      <td>3</td>\n",
       "    </tr>\n",
       "    <tr>\n",
       "      <th>15</th>\n",
       "      <td>1</td>\n",
       "      <td>47</td>\n",
       "      <td>2</td>\n",
       "    </tr>\n",
       "    <tr>\n",
       "      <th>16</th>\n",
       "      <td>7</td>\n",
       "      <td>60</td>\n",
       "      <td>2</td>\n",
       "    </tr>\n",
       "    <tr>\n",
       "      <th>17</th>\n",
       "      <td>5</td>\n",
       "      <td>53</td>\n",
       "      <td>2</td>\n",
       "    </tr>\n",
       "    <tr>\n",
       "      <th>18</th>\n",
       "      <td>1</td>\n",
       "      <td>60</td>\n",
       "      <td>2</td>\n",
       "    </tr>\n",
       "    <tr>\n",
       "      <th>19</th>\n",
       "      <td>4</td>\n",
       "      <td>67</td>\n",
       "      <td>3</td>\n",
       "    </tr>\n",
       "    <tr>\n",
       "      <th>20</th>\n",
       "      <td>0</td>\n",
       "      <td>43</td>\n",
       "      <td>2</td>\n",
       "    </tr>\n",
       "    <tr>\n",
       "      <th>21</th>\n",
       "      <td>5</td>\n",
       "      <td>44</td>\n",
       "      <td>2</td>\n",
       "    </tr>\n",
       "    <tr>\n",
       "      <th>22</th>\n",
       "      <td>8</td>\n",
       "      <td>49</td>\n",
       "      <td>2</td>\n",
       "    </tr>\n",
       "    <tr>\n",
       "      <th>23</th>\n",
       "      <td>0</td>\n",
       "      <td>71</td>\n",
       "      <td>3</td>\n",
       "    </tr>\n",
       "    <tr>\n",
       "      <th>24</th>\n",
       "      <td>2</td>\n",
       "      <td>60</td>\n",
       "      <td>2</td>\n",
       "    </tr>\n",
       "    <tr>\n",
       "      <th>25</th>\n",
       "      <td>6</td>\n",
       "      <td>51</td>\n",
       "      <td>2</td>\n",
       "    </tr>\n",
       "    <tr>\n",
       "      <th>26</th>\n",
       "      <td>3</td>\n",
       "      <td>58</td>\n",
       "      <td>2</td>\n",
       "    </tr>\n",
       "    <tr>\n",
       "      <th>27</th>\n",
       "      <td>8</td>\n",
       "      <td>52</td>\n",
       "      <td>2</td>\n",
       "    </tr>\n",
       "    <tr>\n",
       "      <th>28</th>\n",
       "      <td>2</td>\n",
       "      <td>50</td>\n",
       "      <td>2</td>\n",
       "    </tr>\n",
       "    <tr>\n",
       "      <th>29</th>\n",
       "      <td>4</td>\n",
       "      <td>44</td>\n",
       "      <td>2</td>\n",
       "    </tr>\n",
       "  </tbody>\n",
       "</table>\n",
       "</div>"
      ],
      "text/plain": [
       "    ta'lim texnikasi  o'quvchilarning faolligi  natijasi\n",
       "0                  6                        36         2\n",
       "1                  3                        60         2\n",
       "2                  7                        58         2\n",
       "3                  4                        58         2\n",
       "4                  6                        57         2\n",
       "5                  2                        40         2\n",
       "6                  6                        44         2\n",
       "7                  7                        44         2\n",
       "8                  4                        58         2\n",
       "9                  3                        56         2\n",
       "10                 7                        34         2\n",
       "11                 7                        61         3\n",
       "12                 2                        43         2\n",
       "13                 5                        52         2\n",
       "14                 4                        70         3\n",
       "15                 1                        47         2\n",
       "16                 7                        60         2\n",
       "17                 5                        53         2\n",
       "18                 1                        60         2\n",
       "19                 4                        67         3\n",
       "20                 0                        43         2\n",
       "21                 5                        44         2\n",
       "22                 8                        49         2\n",
       "23                 0                        71         3\n",
       "24                 2                        60         2\n",
       "25                 6                        51         2\n",
       "26                 3                        58         2\n",
       "27                 8                        52         2\n",
       "28                 2                        50         2\n",
       "29                 4                        44         2"
      ]
     },
     "execution_count": 5,
     "metadata": {},
     "output_type": "execute_result"
    }
   ],
   "source": [
    "warnings.filterwarnings('ignore')\n",
    "plt.rcParams['figure.figsize'] = (7, 7)\n",
    "plt.style.use('ggplot')\n",
    "\n",
    "# Load dataset\n",
    "df_pie = pd.read_csv('task_2.csv', sep=',')\n",
    "\n",
    "print(df_pie.shape)\n",
    "df_pie\n"
   ]
  },
  {
   "cell_type": "code",
   "execution_count": 6,
   "id": "11a68eb9-6a37-46de-8279-5adada382c6b",
   "metadata": {},
   "outputs": [
    {
     "data": {
      "text/plain": [
       "<seaborn.axisgrid.PairGrid at 0x171f661e090>"
      ]
     },
     "execution_count": 6,
     "metadata": {},
     "output_type": "execute_result"
    },
    {
     "data": {
      "image/png": "[encoded data removed]",
      "text/plain": [
       "<Figure size 900x900 with 12 Axes>"
      ]
     },
     "metadata": {},
     "output_type": "display_data"
    }
   ],
   "source": [
    "sns.set_palette('colorblind')\n",
    "sns.pairplot(data=df_pie, height=3)"
   ]
  },
  {
   "cell_type": "markdown",
   "id": "6f42893c-4f1b-4562-b231-7a65755802a1",
   "metadata": {},
   "source": [
    "## 2. Hosil bo’lgan grafikka ko’ra, atributlarning bir-biriga bog’liqligini o’rganing. Hisobot shaklida mustaqil va bog’liq o’zgaruvchilarni aniqlang"
   ]
  },
  {
   "cell_type": "markdown",
   "id": "5d9aec08-2e15-4ff2-9a32-28e86e0a2361",
   "metadata": {},
   "source": [
    "Hosil qilingan ma'lumotga ko'ra, bizda mustaqil o'zgaruvchi bu o'quvchining natijasi (bahosi) va bog'liq o'zgaruvchilar sifatida esa ta'lim texnikasi va o'quvchining faolligi keltrilgan"
   ]
  },
  {
   "cell_type": "markdown",
   "id": "3a054b3a-daf8-4114-9dd5-e0a4edc0b3f2",
   "metadata": {},
   "source": [
    "## 3. Regressiya modelini quring. Qurilgan modelni hisobot shaklida yozing."
   ]
  },
  {
   "cell_type": "code",
   "execution_count": 7,
   "id": "1081152b-5c23-4209-8b12-5c9f2217b045",
   "metadata": {},
   "outputs": [
    {
     "name": "stdout",
     "output_type": "stream",
     "text": [
      "Intercept: 0.9399711999073297\n",
      "Koeffisiyentlar: [0.00183893 0.02250863]\n"
     ]
    }
   ],
   "source": [
    "df_data = pd.read_csv('task_2.csv', sep=',')\n",
    "# Mustaqil va bog'liq o'zgaruvchilarni o'rnatish\n",
    "X = df_data[[\"ta'lim texnikasi\", \"o'quvchilarning faolligi\"]]\n",
    "y = df_data[\"natijasi\"]\n",
    "\n",
    "# Sklearn kutubxonasidan modelni ishga tushirish va uni  ma'lumotlarimizga moslash\n",
    "regr = linear_model.LinearRegression()\n",
    "model = regr.fit(X, y)\n",
    "\n",
    "print('Intercept:', model.intercept_)\n",
    "print('Koeffisiyentlar:', model.coef_)"
   ]
  },
  {
   "cell_type": "markdown",
   "id": "16fc1cb2-21ce-4ad4-b832-2c2877db911a",
   "metadata": {},
   "source": [
    "Y= 0.9399711999073297 - 0.00183893*X_1 + 0.02250863*X_2"
   ]
  },
  {
   "cell_type": "markdown",
   "id": "b9285b0d-2b19-41d8-9dee-f074d10c7e58",
   "metadata": {},
   "source": [
    "1. Mustaqil o'zgaruvchi sifatida o'quvchilarning talim texnikasi va o'quvchilarni faoligi va bog'liq o'zgaruvchi sifatida o'quvchining natijasi tanlandi. \n",
    "\r",
    "2.  Koeffitsiyentlar uchun biz mos ravishda \"talim texnikasi\" va \"o'quvchilarni faoligi\" o'zgaruvchilari uchun 2 ta qiymatga egamiz. Bu qiymat bizning mustaqil o'zgaruvchimizning bog'liq o'zgaruvchiga munosabatini ifodalaydi, bunda mustaqil o'zgaruvchida aynan 1 ga o'zgarishi bizning bog'liq o'zgaruvchimizning qiymatini koeffitsiyent bilan bir xil miqdorda o'zgartiradi. Misol uchun, agar o'quvchilar o'rtacha baxosi 60 va undan kamaysa 2 o'zlashtrish darajasi past 61 va 72 bal oralig'i3 baxo, 73 va 86 bal oralig'i 4 aks holda 5 ta'lim texnikasida o'zlashtrish darajasi yuqori deb belgilandi."
   ]
  },
  {
   "cell_type": "markdown",
   "id": "c508b248-f128-4814-8eac-5947bf5d389a",
   "metadata": {},
   "source": [
    "## 4. Regressiya modeliga ko’ra, bog’liq o’zgaruvchilarning qiymati aniq bo’lsa, talabaning kursdan kursga qolishini bashorat qiling."
   ]
  },
  {
   "cell_type": "code",
   "execution_count": 8,
   "id": "fc989ef4-516a-498f-bf6b-189e1fbfe8db",
   "metadata": {},
   "outputs": [
    {
     "name": "stdout",
     "output_type": "stream",
     "text": [
      "Induksiya metodi, Deduksiya metodi, Analogiya metodi, Taqqoslash usuli, Fikriy hujum metodi, 6x6x6 metodi, klaster metodi, zakovatli zukko metodi, "
     ]
    }
   ],
   "source": [
    "texnikalar = [\"Induksiya metodi\", \"Deduksiya metodi\", \"Analogiya metodi\", \"Taqqoslash usuli\", \"Fikriy hujum metodi\", \"6x6x6 metodi\", \"klaster metodi\", \"zakovatli zukko metodi\"]\n",
    "for i in texnikalar:\n",
    "    print(i, end=\", \")"
   ]
  },
  {
   "cell_type": "code",
   "execution_count": 18,
   "id": "542cb0be-8688-4cde-873f-1ebf14c3be85",
   "metadata": {},
   "outputs": [
    {
     "name": "stdin",
     "output_type": "stream",
     "text": [
      "Ta'lim texnikasi raqamini kiriting (0 dan 8 gacha)? \n",
      " 8\n",
      "O'quvchining faolligi kiriting  (1 dan 100 gacha) ? \n",
      " 90\n"
     ]
    },
    {
     "name": "stdout",
     "output_type": "stream",
     "text": [
      "Ta'lim texnikasi orqasi \"2.9804597179406582\" baho beradi, Agar ta'lim texnikasi \"8\" bo'lsa , o'quvchilar foalligi \"90\" bo'lsa.\n"
     ]
    }
   ],
   "source": [
    "# Bashorat qilinadigan qiymatlar\n",
    "texnic = input(\"Ta'lim texnikasi raqamini kiriting (0 dan 8 gacha)? \\n\")\n",
    "grade = input(\"O'quvchining faolligi kiriting  (1 dan 100 gacha) ? \\n\")\n",
    "\n",
    "try:\n",
    "    print('Ta\\'lim texnikasi orqasi \"{}\" baho beradi, Agar ta\\'lim texnikasi \"{}\" bo\\'lsa , o\\'quvchilar foalligi \"{}\" bo\\'lsa.'.format(\n",
    "       model.predict([[float(texnic), float(grade)]])[0],\n",
    "        texnic, \n",
    "        grade))\n",
    "except Exception as e: print(e)\n",
    "# except ValueError:\n",
    "    # print('Faqat butun son kiriting:\\n- masalan, 1, 4, 7\\n- haqiqiy son kiriting e.g. 3.8')\n"
   ]
  },
  {
   "cell_type": "code",
   "execution_count": null,
   "id": "d9bb7abc-7b4a-45d9-a351-7a979cea0854",
   "metadata": {},
   "outputs": [],
   "source": []
  }
 ],
 "metadata": {
  "kernelspec": {
   "display_name": "Python 3 (ipykernel)",
   "language": "python",
   "name": "python3"
  },
  "language_info": {
   "codemirror_mode": {
    "name": "ipython",
    "version": 3
   },
   "file_extension": ".py",
   "mimetype": "text/x-python",
   "name": "python",
   "nbconvert_exporter": "python",
   "pygments_lexer": "ipython3",
   "version": "3.12.1"
  }
 },
 "nbformat": 4,
 "nbformat_minor": 5
}
