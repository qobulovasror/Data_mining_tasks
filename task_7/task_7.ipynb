{
 "cells": [
  {
   "cell_type": "markdown",
   "id": "85d1a2d5-d8ea-49a3-95fe-0c92cd90b504",
   "metadata": {},
   "source": [
    "## 1-qadam. Kutubxonalarni import qilish"
   ]
  },
  {
   "cell_type": "code",
   "execution_count": 25,
   "id": "e81d0391-7cf3-4923-bddf-d4a70553abd8",
   "metadata": {},
   "outputs": [],
   "source": [
    "import numpy as np # chiziqli algebra\n",
    "import pandas as pd # ma'lumotlarga ishlov berish, CSV fayliga yozish/o’qish\n",
    "import matplotlib.pyplot as plt # ma'lumotlarni vizualizatsiya qilish uchun\n",
    "import seaborn as sns # statistik ma'lumotlarni vizualizatsiya qilish uchun\n",
    "%matplotlib inline"
   ]
  },
  {
   "cell_type": "markdown",
   "id": "2f3009e8-961d-4fc5-84eb-86e189548e22",
   "metadata": {
    "jp-MarkdownHeadingCollapsed": true
   },
   "source": [
    "## 2-qadam. Ma’lumotlar to’plamini import qilish"
   ]
  },
  {
   "cell_type": "code",
   "execution_count": 2,
   "id": "84f3c957-5b38-432c-a851-fc7a3339a0b5",
   "metadata": {},
   "outputs": [],
   "source": [
    "data = 'data2.csv'\n",
    "df = pd.read_csv(data, sep=',')"
   ]
  },
  {
   "cell_type": "markdown",
   "id": "76323ffc-caa7-4518-a5d5-95c9e2d0679d",
   "metadata": {
    "jp-MarkdownHeadingCollapsed": true
   },
   "source": [
    "## 3-qadam. Tadqiqot ma’lumotlarini tahlil qilish"
   ]
  },
  {
   "cell_type": "markdown",
   "id": "4b759632-0320-4c73-82d6-c49be6904d05",
   "metadata": {},
   "source": [
    "#### 3.1. Ma’lumotlar to’plamlarini o’lchamini ko’rish"
   ]
  },
  {
   "cell_type": "code",
   "execution_count": 3,
   "id": "89989f56-d1fb-452d-a33e-bbb74c72b0ac",
   "metadata": {},
   "outputs": [
    {
     "data": {
      "text/plain": [
       "(104, 7)"
      ]
     },
     "execution_count": 3,
     "metadata": {},
     "output_type": "execute_result"
    }
   ],
   "source": [
    "df.shape"
   ]
  },
  {
   "cell_type": "markdown",
   "id": "4491a09b-7226-40b5-bad3-002c273cce33",
   "metadata": {},
   "source": [
    "#### 3.2. Ma’lumotlar to’plamining dastlabki besh qatorini ko’rsatish"
   ]
  },
  {
   "cell_type": "code",
   "execution_count": 4,
   "id": "a26200e0-b8fc-4248-9a76-38bc49036dc3",
   "metadata": {},
   "outputs": [
    {
     "data": {
      "text/html": [
       "<div>\n",
       "<style scoped>\n",
       "    .dataframe tbody tr th:only-of-type {\n",
       "        vertical-align: middle;\n",
       "    }\n",
       "\n",
       "    .dataframe tbody tr th {\n",
       "        vertical-align: top;\n",
       "    }\n",
       "\n",
       "    .dataframe thead th {\n",
       "        text-align: right;\n",
       "    }\n",
       "</style>\n",
       "<table border=\"1\" class=\"dataframe\">\n",
       "  <thead>\n",
       "    <tr style=\"text-align: right;\">\n",
       "      <th></th>\n",
       "      <th>qon_bosimi_speed</th>\n",
       "      <th>qon_bosimi_count</th>\n",
       "      <th>xolesterin</th>\n",
       "      <th>bmi</th>\n",
       "      <th>turmush_tarzi</th>\n",
       "      <th>tibbiyot_tarixi</th>\n",
       "      <th>dastlabki_holat</th>\n",
       "    </tr>\n",
       "  </thead>\n",
       "  <tbody>\n",
       "    <tr>\n",
       "      <th>0</th>\n",
       "      <td>130</td>\n",
       "      <td>85</td>\n",
       "      <td>100</td>\n",
       "      <td>18</td>\n",
       "      <td>1</td>\n",
       "      <td>1</td>\n",
       "      <td>1</td>\n",
       "    </tr>\n",
       "    <tr>\n",
       "      <th>1</th>\n",
       "      <td>140</td>\n",
       "      <td>99</td>\n",
       "      <td>130</td>\n",
       "      <td>40</td>\n",
       "      <td>0</td>\n",
       "      <td>1</td>\n",
       "      <td>0</td>\n",
       "    </tr>\n",
       "    <tr>\n",
       "      <th>2</th>\n",
       "      <td>130</td>\n",
       "      <td>85</td>\n",
       "      <td>100</td>\n",
       "      <td>18</td>\n",
       "      <td>1</td>\n",
       "      <td>1</td>\n",
       "      <td>1</td>\n",
       "    </tr>\n",
       "    <tr>\n",
       "      <th>3</th>\n",
       "      <td>140</td>\n",
       "      <td>99</td>\n",
       "      <td>130</td>\n",
       "      <td>40</td>\n",
       "      <td>0</td>\n",
       "      <td>1</td>\n",
       "      <td>0</td>\n",
       "    </tr>\n",
       "    <tr>\n",
       "      <th>4</th>\n",
       "      <td>135</td>\n",
       "      <td>82</td>\n",
       "      <td>100</td>\n",
       "      <td>19</td>\n",
       "      <td>1</td>\n",
       "      <td>1</td>\n",
       "      <td>1</td>\n",
       "    </tr>\n",
       "    <tr>\n",
       "      <th>5</th>\n",
       "      <td>142</td>\n",
       "      <td>97</td>\n",
       "      <td>130</td>\n",
       "      <td>35</td>\n",
       "      <td>0</td>\n",
       "      <td>0</td>\n",
       "      <td>0</td>\n",
       "    </tr>\n",
       "    <tr>\n",
       "      <th>6</th>\n",
       "      <td>144</td>\n",
       "      <td>99</td>\n",
       "      <td>130</td>\n",
       "      <td>37</td>\n",
       "      <td>0</td>\n",
       "      <td>1</td>\n",
       "      <td>0</td>\n",
       "    </tr>\n",
       "    <tr>\n",
       "      <th>7</th>\n",
       "      <td>132</td>\n",
       "      <td>88</td>\n",
       "      <td>100</td>\n",
       "      <td>18</td>\n",
       "      <td>1</td>\n",
       "      <td>0</td>\n",
       "      <td>1</td>\n",
       "    </tr>\n",
       "    <tr>\n",
       "      <th>8</th>\n",
       "      <td>141</td>\n",
       "      <td>95</td>\n",
       "      <td>130</td>\n",
       "      <td>34</td>\n",
       "      <td>0</td>\n",
       "      <td>0</td>\n",
       "      <td>0</td>\n",
       "    </tr>\n",
       "    <tr>\n",
       "      <th>9</th>\n",
       "      <td>132</td>\n",
       "      <td>85</td>\n",
       "      <td>100</td>\n",
       "      <td>20</td>\n",
       "      <td>1</td>\n",
       "      <td>1</td>\n",
       "      <td>1</td>\n",
       "    </tr>\n",
       "  </tbody>\n",
       "</table>\n",
       "</div>"
      ],
      "text/plain": [
       "   qon_bosimi_speed  qon_bosimi_count  xolesterin  bmi  turmush_tarzi  \\\n",
       "0               130                85         100   18              1   \n",
       "1               140                99         130   40              0   \n",
       "2               130                85         100   18              1   \n",
       "3               140                99         130   40              0   \n",
       "4               135                82         100   19              1   \n",
       "5               142                97         130   35              0   \n",
       "6               144                99         130   37              0   \n",
       "7               132                88         100   18              1   \n",
       "8               141                95         130   34              0   \n",
       "9               132                85         100   20              1   \n",
       "\n",
       "   tibbiyot_tarixi  dastlabki_holat  \n",
       "0                1                1  \n",
       "1                1                0  \n",
       "2                1                1  \n",
       "3                1                0  \n",
       "4                1                1  \n",
       "5                0                0  \n",
       "6                1                0  \n",
       "7                0                1  \n",
       "8                0                0  \n",
       "9                1                1  "
      ]
     },
     "execution_count": 4,
     "metadata": {},
     "output_type": "execute_result"
    }
   ],
   "source": [
    "df.head(10)"
   ]
  },
  {
   "cell_type": "markdown",
   "id": "b79fb598-05fb-44d6-85dd-586c62078e70",
   "metadata": {},
   "source": [
    "#### 3.3. Ustun nomlarini qayta nomlash"
   ]
  },
  {
   "cell_type": "code",
   "execution_count": 5,
   "id": "4855435d-9097-47a7-8647-47feea1729e4",
   "metadata": {},
   "outputs": [
    {
     "data": {
      "text/plain": [
       "['qon_bosimi_speed',\n",
       " 'qon_bosimi_count',\n",
       " 'xolesterin',\n",
       " 'bmi',\n",
       " 'turmush_tarzi',\n",
       " 'tibbiyot_tarixi',\n",
       " 'dastlabki_holat']"
      ]
     },
     "execution_count": 5,
     "metadata": {},
     "output_type": "execute_result"
    }
   ],
   "source": [
    "col_names = ['qon_bosimi_speed','qon_bosimi_count','xolesterin','bmi','turmush_tarzi','tibbiyot_tarixi','dastlabki_holat']\n",
    "col_names"
   ]
  },
  {
   "cell_type": "markdown",
   "id": "9fbf4a11-7615-4df7-9172-9bbbfdfe977b",
   "metadata": {},
   "source": [
    "#### 3.4. Ma’lumotlar to’plamining xulosasini ko’rish"
   ]
  },
  {
   "cell_type": "code",
   "execution_count": 6,
   "id": "8cbd80dc-8d3a-4053-a647-ca3509e043fa",
   "metadata": {},
   "outputs": [
    {
     "name": "stdout",
     "output_type": "stream",
     "text": [
      "<class 'pandas.core.frame.DataFrame'>\n",
      "RangeIndex: 104 entries, 0 to 103\n",
      "Data columns (total 7 columns):\n",
      " #   Column            Non-Null Count  Dtype\n",
      "---  ------            --------------  -----\n",
      " 0   qon_bosimi_speed  104 non-null    int64\n",
      " 1   qon_bosimi_count  104 non-null    int64\n",
      " 2   xolesterin        104 non-null    int64\n",
      " 3   bmi               104 non-null    int64\n",
      " 4   turmush_tarzi     104 non-null    int64\n",
      " 5   tibbiyot_tarixi   104 non-null    int64\n",
      " 6   dastlabki_holat   104 non-null    int64\n",
      "dtypes: int64(7)\n",
      "memory usage: 5.8 KB\n"
     ]
    }
   ],
   "source": [
    "df.info()"
   ]
  },
  {
   "cell_type": "markdown",
   "id": "1984d88b-92e2-4655-91bc-1571d938bbb4",
   "metadata": {},
   "source": [
    "#### 3.5. Ma’lumotlar to’plamini kategorik va raqamli o’zgaruvchilarga ajratish"
   ]
  },
  {
   "cell_type": "markdown",
   "id": "6b4d3354-a21b-4119-973a-5e0170acb8d6",
   "metadata": {},
   "source": [
    "##### 3.5.1. Kategorik o’zgaruvchilarni aniqlash"
   ]
  },
  {
   "cell_type": "code",
   "execution_count": 7,
   "id": "a4bcb630-3f42-48e4-8934-1bc1d4330cba",
   "metadata": {},
   "outputs": [
    {
     "name": "stdout",
     "output_type": "stream",
     "text": [
      "Bu yerda 7 ta kategorik o'zgaruvchi bor\n",
      "\n",
      "Kategorik o’zgaruvchilar :\n",
      "\n",
      " ['qon_bosimi_speed', 'qon_bosimi_count', 'xolesterin', 'bmi', 'turmush_tarzi', 'tibbiyot_tarixi', 'dastlabki_holat']\n"
     ]
    }
   ],
   "source": [
    "categorical = [var for var in df.columns if df[var].dtype=='int64']\n",
    "print('Bu yerda {} ta kategorik o\\'zgaruvchi bor\\n'.format(len(categorical)))\n",
    "print('Kategorik o’zgaruvchilar :\\n\\n', categorical)"
   ]
  },
  {
   "cell_type": "code",
   "execution_count": 8,
   "id": "e39ed858-9039-4259-b202-df57d216fd7e",
   "metadata": {},
   "outputs": [
    {
     "name": "stdout",
     "output_type": "stream",
     "text": [
      "Bu yerda 0 ta kategorik o'zgaruvchi bor\n",
      "\n",
      "Kategorik o’zgaruvchilar :\n",
      "\n",
      " []\n"
     ]
    }
   ],
   "source": [
    "categorical = [var for var in df.columns if df[var].dtype=='O']\n",
    "print('Bu yerda {} ta kategorik o\\'zgaruvchi bor\\n'.format(len(categorical)))\n",
    "print('Kategorik o’zgaruvchilar :\\n\\n', categorical)"
   ]
  },
  {
   "cell_type": "code",
   "execution_count": 9,
   "id": "6bde56b4-6e78-4dd4-985d-bb508a31fcaa",
   "metadata": {},
   "outputs": [],
   "source": [
    "# Kategorik o’zgaruvchilarni ko’rish\n",
    "# df[categorical].head()"
   ]
  },
  {
   "cell_type": "markdown",
   "id": "75f6c199-f836-46c0-8fb7-f8894a84fc70",
   "metadata": {},
   "source": [
    "##### 3.5.2. Kategorik o'zgaruvchilarda yetishmayotgan qiymatlarni ko’rish"
   ]
  },
  {
   "cell_type": "code",
   "execution_count": 10,
   "id": "4dd00d3c-c505-4607-8bc2-81586878ed12",
   "metadata": {},
   "outputs": [
    {
     "data": {
      "text/plain": [
       "qon_bosimi_speed    0\n",
       "qon_bosimi_count    0\n",
       "xolesterin          0\n",
       "bmi                 0\n",
       "turmush_tarzi       0\n",
       "tibbiyot_tarixi     0\n",
       "dastlabki_holat     0\n",
       "dtype: int64"
      ]
     },
     "execution_count": 10,
     "metadata": {},
     "output_type": "execute_result"
    }
   ],
   "source": [
    "df[col_names].isnull().sum()"
   ]
  },
  {
   "cell_type": "markdown",
   "id": "109bad6f-debe-4b97-8f9d-e9eeb34377b9",
   "metadata": {},
   "source": [
    "##### 3.5.4. Kategorik o'zgaruvchilarning chastota taqsimotini ko'rish"
   ]
  },
  {
   "cell_type": "code",
   "execution_count": 11,
   "id": "a4df8495-d50e-4ff1-a16d-a794ab92dee9",
   "metadata": {
    "scrolled": true
   },
   "outputs": [
    {
     "name": "stdout",
     "output_type": "stream",
     "text": [
      "qon_bosimi_speed\n",
      "132    0.182692\n",
      "140    0.115385\n",
      "130    0.086538\n",
      "142    0.076923\n",
      "182    0.057692\n",
      "135    0.048077\n",
      "133    0.048077\n",
      "122    0.038462\n",
      "128    0.038462\n",
      "134    0.028846\n",
      "129    0.028846\n",
      "152    0.028846\n",
      "136    0.028846\n",
      "131    0.028846\n",
      "145    0.028846\n",
      "141    0.028846\n",
      "144    0.028846\n",
      "153    0.019231\n",
      "123    0.019231\n",
      "125    0.019231\n",
      "194    0.009615\n",
      "187    0.009615\n",
      "Name: count, dtype: float64\n",
      "qon_bosimi_count\n",
      "86     0.201923\n",
      "106    0.105769\n",
      "85     0.096154\n",
      "99     0.096154\n",
      "97     0.076923\n",
      "88     0.057692\n",
      "95     0.057692\n",
      "82     0.038462\n",
      "105    0.028846\n",
      "76     0.028846\n",
      "90     0.028846\n",
      "87     0.028846\n",
      "96     0.028846\n",
      "108    0.019231\n",
      "84     0.019231\n",
      "83     0.019231\n",
      "156    0.019231\n",
      "102    0.019231\n",
      "109    0.019231\n",
      "94     0.009615\n",
      "Name: count, dtype: float64\n",
      "xolesterin\n",
      "100    0.250000\n",
      "130    0.230769\n",
      "110    0.086538\n",
      "150    0.048077\n",
      "107    0.048077\n",
      "120    0.048077\n",
      "111    0.048077\n",
      "140    0.038462\n",
      "210    0.038462\n",
      "105    0.028846\n",
      "108    0.028846\n",
      "115    0.019231\n",
      "103    0.019231\n",
      "122    0.019231\n",
      "180    0.019231\n",
      "310    0.009615\n",
      "250    0.009615\n",
      "116    0.009615\n",
      "Name: count, dtype: float64\n",
      "bmi\n",
      "19     0.153846\n",
      "18     0.144231\n",
      "20     0.115385\n",
      "39     0.067308\n",
      "40     0.067308\n",
      "23     0.038462\n",
      "24     0.038462\n",
      "17     0.038462\n",
      "25     0.038462\n",
      "159    0.028846\n",
      "21     0.028846\n",
      "36     0.028846\n",
      "33     0.028846\n",
      "34     0.028846\n",
      "37     0.028846\n",
      "56     0.019231\n",
      "22     0.019231\n",
      "29     0.019231\n",
      "16     0.019231\n",
      "30     0.019231\n",
      "35     0.019231\n",
      "49     0.009615\n",
      "Name: count, dtype: float64\n",
      "turmush_tarzi\n",
      "1    0.625\n",
      "0    0.375\n",
      "Name: count, dtype: float64\n",
      "tibbiyot_tarixi\n",
      "1    0.788462\n",
      "0    0.211538\n",
      "Name: count, dtype: float64\n",
      "dastlabki_holat\n",
      "1    0.557692\n",
      "0    0.442308\n",
      "Name: count, dtype: float64\n"
     ]
    }
   ],
   "source": [
    " for var in col_names: \n",
    "    print(df[var].value_counts()/float(len(df)))"
   ]
  },
  {
   "cell_type": "markdown",
   "id": "8d75a37e-03d4-4896-bd84-6c7fb8787c3c",
   "metadata": {},
   "source": [
    "#### 3.6. Kardinallikni aniqlash"
   ]
  },
  {
   "cell_type": "code",
   "execution_count": 12,
   "id": "3754d9d0-665e-4202-b065-df5ff828e747",
   "metadata": {},
   "outputs": [
    {
     "name": "stdout",
     "output_type": "stream",
     "text": [
      "qon_bosimi_speed  ustuni tarkibida  22  xil nishon bor\n",
      "qon_bosimi_count  ustuni tarkibida  20  xil nishon bor\n",
      "xolesterin  ustuni tarkibida  18  xil nishon bor\n",
      "bmi  ustuni tarkibida  22  xil nishon bor\n",
      "turmush_tarzi  ustuni tarkibida  2  xil nishon bor\n",
      "tibbiyot_tarixi  ustuni tarkibida  2  xil nishon bor\n",
      "dastlabki_holat  ustuni tarkibida  2  xil nishon bor\n"
     ]
    }
   ],
   "source": [
    "for var in col_names:\n",
    "        print(var, ' ustuni tarkibida ', len(df[var].unique()), ' xil nishon bor')"
   ]
  },
  {
   "cell_type": "markdown",
   "id": "73822653-cb76-44ff-86b2-d39c72db1f3e",
   "metadata": {},
   "source": [
    "'qon_bosimi_speed' va 'bmi' ustunlari tarkibida eng ko’p nishonlar borligi aniqlandi"
   ]
  },
  {
   "cell_type": "markdown",
   "id": "4f4917f0-cdf4-491a-a40f-c18619eb241d",
   "metadata": {},
   "source": [
    "#### 3.5.1-3.5.4 qadamlar raqamli o’zgaruvchilar uchun aniqlanadi"
   ]
  },
  {
   "cell_type": "code",
   "execution_count": 13,
   "id": "15be46e2-c4af-4c69-b029-6f1bbf95a26d",
   "metadata": {},
   "outputs": [
    {
     "name": "stdout",
     "output_type": "stream",
     "text": [
      "Bu yerda7 ta raqamli o’zgaruvchi bor \n",
      "\n",
      "Raqamli o’zgaruvchilar: ['qon_bosimi_speed', 'qon_bosimi_count', 'xolesterin', 'bmi', 'turmush_tarzi', 'tibbiyot_tarixi', 'dastlabki_holat']\n"
     ]
    }
   ],
   "source": [
    "numerical = [var for var in df.columns if df[var].dtype!='O']\n",
    "print('Bu yerda{} ta raqamli o’zgaruvchi bor \\n'.format(len(numerical)))\n",
    "print('Raqamli o’zgaruvchilar:', numerical)"
   ]
  },
  {
   "cell_type": "markdown",
   "id": "609450ab-8cd6-4c88-9014-50fa64e6f006",
   "metadata": {},
   "source": [
    "## 4-qadam. Belgilar vektori va maqsadli o'zgaruvchini e'lon qilish"
   ]
  },
  {
   "cell_type": "code",
   "execution_count": 14,
   "id": "9672ecc6-d638-484b-a800-06c84a002fb0",
   "metadata": {},
   "outputs": [],
   "source": [
    "X = df.drop(['dastlabki_holat'], axis=1)\n",
    "y = df['dastlabki_holat']"
   ]
  },
  {
   "cell_type": "markdown",
   "id": "9dd101fa-53de-40e3-9c64-9fc9654144b5",
   "metadata": {
    "jp-MarkdownHeadingCollapsed": true
   },
   "source": [
    "### 5-qadam. Ma'lumotlarni alohida o’quv va test to'plamiga bo'lish"
   ]
  },
  {
   "cell_type": "code",
   "execution_count": 15,
   "id": "a2825aa1-4eb8-4129-a9ee-cb2d3476dfac",
   "metadata": {},
   "outputs": [
    {
     "data": {
      "text/plain": [
       "((72, 6), (32, 6))"
      ]
     },
     "execution_count": 15,
     "metadata": {},
     "output_type": "execute_result"
    }
   ],
   "source": [
    "# X va y ni o'quv va test to'plamlariga ajratish\n",
    "\n",
    "from sklearn.model_selection import train_test_split\n",
    "X_train, X_test, y_train, y_test = train_test_split(X, y, test_size = 0.3, random_state = 0)\n",
    "X_train.shape, X_test.shape"
   ]
  },
  {
   "cell_type": "markdown",
   "id": "d622b75b-a8b0-49c6-808c-9542cfd43ada",
   "metadata": {},
   "source": [
    "### 6-qadam. Belgilarni ishlab chiqish"
   ]
  },
  {
   "cell_type": "markdown",
   "id": "88a09934-2994-411f-8be1-55b6ced8bd93",
   "metadata": {
    "jp-MarkdownHeadingCollapsed": true
   },
   "source": [
    "#### 6.1. Ishga tayyorlash"
   ]
  },
  {
   "cell_type": "code",
   "execution_count": 16,
   "id": "07a7fed2-cea2-4b51-b372-7fcf63896e3d",
   "metadata": {},
   "outputs": [],
   "source": [
    "# kategorik o'zgaruvchilarni ko'rsatish\n",
    "categorical = [col for col in X_train.columns if X_train[col].dtypes == 'O']\n",
    "categorical\n",
    "\n",
    "# raqamli o'zgaruvchilarni ko'rsatish\n",
    "numerical = [col for col in X_train.columns if X_train[col].dtypes != 'O']\n",
    "numerical\n",
    "\n",
    "# o'quv to'plamidagi kategorik o'zgaruvchilarda yetishmayotgan qiymatlarning foizini chop etish\n",
    "X_train[categorical].isnull().mean()\n",
    "\n",
    "# kategoriyali o'zgaruvchilarni yetishmayotgan ma'lumotlar bilan chop etish\n",
    "for col in categorical:\n",
    "    if X_train[col].isnull().mean()>0:\n",
    "        print(col, (X_train[col].isnull().mean()))\n",
    "        \n",
    "# eng tez-tez uchraydigan qiymatga ega bo'lmagan kategorik o'zgaruvchilarni hisoblash\n",
    "# for df2 in [X_train, X_test]:\n",
    "    # df2\n",
    "    # df2['qon_bosimi_speed'].fillna(X_train['qon_bosimi_speed'].mode()[0], inplace=True)\n",
    "    # df2['Kasb'].fillna(X_train['Kasb'].mode()[0], inplace=True)\n",
    "    # df2['Mamlakat'].fillna(X_train['Mamlakat'].mode()[0], inplace=True)  \n"
   ]
  },
  {
   "cell_type": "markdown",
   "id": "7b0c5390-ed84-4dea-bf0f-0d489f47b1c8",
   "metadata": {
    "jp-MarkdownHeadingCollapsed": true
   },
   "source": [
    "#### 6.2. Kategoriyali o’zgaruvchilarni kodlash (__Bajarilgan__)"
   ]
  },
  {
   "cell_type": "code",
   "execution_count": 17,
   "id": "4e57ab8b-35b8-44ff-ad28-f968d9a2fc32",
   "metadata": {},
   "outputs": [],
   "source": [
    "# encoder = ce.OneHotEncoder(cols=['Ishchining_sinfi', 'Ma\\'lumoti', 'Oilaviy_holati', 'Kasb', 'Munosabati', 'Irq', 'Jins', 'Mamlakat'])\n",
    "\n",
    "# X_train = encoder.fit_transform(X_train)\n",
    "# X_test = encoder.transform(X_test)\n",
    "\n",
    "# X_train.head()\n"
   ]
  },
  {
   "cell_type": "markdown",
   "id": "64afb9ad-20c7-4777-ab1f-fee1129f5d50",
   "metadata": {},
   "source": [
    "Model yaratish uchun o'quv va test majmuasi tayyor. Bundan oldin, barcha belgi o'zgaruvchilarni bir xil masshtabga solishimiz kerak. Bu __belgini masshtablash__ deb ataladi"
   ]
  },
  {
   "cell_type": "markdown",
   "id": "f4aba2a3-cafb-4a2e-a7e1-c998c29d3df3",
   "metadata": {
    "jp-MarkdownHeadingCollapsed": true
   },
   "source": [
    "### 7-qadam. Belgini masshtablash"
   ]
  },
  {
   "cell_type": "code",
   "execution_count": 18,
   "id": "c8a8e5f5-b2d9-47a5-a42d-4a8aa62cfe26",
   "metadata": {},
   "outputs": [
    {
     "data": {
      "text/html": [
       "<div>\n",
       "<style scoped>\n",
       "    .dataframe tbody tr th:only-of-type {\n",
       "        vertical-align: middle;\n",
       "    }\n",
       "\n",
       "    .dataframe tbody tr th {\n",
       "        vertical-align: top;\n",
       "    }\n",
       "\n",
       "    .dataframe thead tr th {\n",
       "        text-align: left;\n",
       "    }\n",
       "</style>\n",
       "<table border=\"1\" class=\"dataframe\">\n",
       "  <thead>\n",
       "    <tr>\n",
       "      <th></th>\n",
       "      <th>qon_bosimi_speed</th>\n",
       "      <th>qon_bosimi_count</th>\n",
       "      <th>xolesterin</th>\n",
       "      <th>bmi</th>\n",
       "      <th>turmush_tarzi</th>\n",
       "      <th>tibbiyot_tarixi</th>\n",
       "    </tr>\n",
       "  </thead>\n",
       "  <tbody>\n",
       "    <tr>\n",
       "      <th>0</th>\n",
       "      <td>-0.044444</td>\n",
       "      <td>-0.145455</td>\n",
       "      <td>-0.033333</td>\n",
       "      <td>1.200000</td>\n",
       "      <td>-1.0</td>\n",
       "      <td>0.0</td>\n",
       "    </tr>\n",
       "    <tr>\n",
       "      <th>1</th>\n",
       "      <td>1.022222</td>\n",
       "      <td>0.800000</td>\n",
       "      <td>0.633333</td>\n",
       "      <td>1.066667</td>\n",
       "      <td>-1.0</td>\n",
       "      <td>0.0</td>\n",
       "    </tr>\n",
       "    <tr>\n",
       "      <th>2</th>\n",
       "      <td>0.844444</td>\n",
       "      <td>0.509091</td>\n",
       "      <td>0.633333</td>\n",
       "      <td>1.000000</td>\n",
       "      <td>-1.0</td>\n",
       "      <td>0.0</td>\n",
       "    </tr>\n",
       "    <tr>\n",
       "      <th>3</th>\n",
       "      <td>-0.044444</td>\n",
       "      <td>-0.872727</td>\n",
       "      <td>-0.366667</td>\n",
       "      <td>0.066667</td>\n",
       "      <td>0.0</td>\n",
       "      <td>0.0</td>\n",
       "    </tr>\n",
       "    <tr>\n",
       "      <th>4</th>\n",
       "      <td>-0.044444</td>\n",
       "      <td>-0.145455</td>\n",
       "      <td>-0.033333</td>\n",
       "      <td>-0.133333</td>\n",
       "      <td>0.0</td>\n",
       "      <td>0.0</td>\n",
       "    </tr>\n",
       "  </tbody>\n",
       "</table>\n",
       "</div>"
      ],
      "text/plain": [
       "  qon_bosimi_speed qon_bosimi_count xolesterin       bmi turmush_tarzi  \\\n",
       "0        -0.044444        -0.145455  -0.033333  1.200000          -1.0   \n",
       "1         1.022222         0.800000   0.633333  1.066667          -1.0   \n",
       "2         0.844444         0.509091   0.633333  1.000000          -1.0   \n",
       "3        -0.044444        -0.872727  -0.366667  0.066667           0.0   \n",
       "4        -0.044444        -0.145455  -0.033333 -0.133333           0.0   \n",
       "\n",
       "  tibbiyot_tarixi  \n",
       "0             0.0  \n",
       "1             0.0  \n",
       "2             0.0  \n",
       "3             0.0  \n",
       "4             0.0  "
      ]
     },
     "execution_count": 18,
     "metadata": {},
     "output_type": "execute_result"
    }
   ],
   "source": [
    "cols = X_train.columns\n",
    "\n",
    "from sklearn.preprocessing import RobustScaler\n",
    "\n",
    "scaler = RobustScaler()\n",
    "\n",
    "X_train = scaler.fit_transform(X_train)\n",
    "X_test = scaler.transform(X_test)\n",
    "X_train = pd.DataFrame(X_train, columns=[cols])\n",
    "X_test = pd.DataFrame(X_test, columns=[cols])\n",
    "\n",
    "X_train.head()"
   ]
  },
  {
   "cell_type": "markdown",
   "id": "f60b5381-ae55-4226-b43e-4bd6ee5191a4",
   "metadata": {},
   "source": [
    "Shunday qilib, bu bosqichlardan so’ng X_train ma’lumotlar to’plami Gauss Naïve Bayes klassifikatoriga kirish uchun tayyor bo’ladi"
   ]
  },
  {
   "cell_type": "markdown",
   "id": "0636ede3-3f51-41e3-b7d3-b930612bd8c6",
   "metadata": {},
   "source": [
    "### 8-qadam. Modelni o’qitish"
   ]
  },
  {
   "cell_type": "code",
   "execution_count": 27,
   "id": "716a2b12-57bd-462f-9608-3c9c4769e56a",
   "metadata": {},
   "outputs": [
    {
     "data": {
      "text/html": [
       "<style>#sk-container-id-2 {\n",
       "  /* Definition of color scheme common for light and dark mode */\n",
       "  --sklearn-color-text: black;\n",
       "  --sklearn-color-line: gray;\n",
       "  /* Definition of color scheme for unfitted estimators */\n",
       "  --sklearn-color-unfitted-level-0: #fff5e6;\n",
       "  --sklearn-color-unfitted-level-1: #f6e4d2;\n",
       "  --sklearn-color-unfitted-level-2: #ffe0b3;\n",
       "  --sklearn-color-unfitted-level-3: chocolate;\n",
       "  /* Definition of color scheme for fitted estimators */\n",
       "  --sklearn-color-fitted-level-0: #f0f8ff;\n",
       "  --sklearn-color-fitted-level-1: #d4ebff;\n",
       "  --sklearn-color-fitted-level-2: #b3dbfd;\n",
       "  --sklearn-color-fitted-level-3: cornflowerblue;\n",
       "\n",
       "  /* Specific color for light theme */\n",
       "  --sklearn-color-text-on-default-background: var(--sg-text-color, var(--theme-code-foreground, var(--jp-content-font-color1, black)));\n",
       "  --sklearn-color-background: var(--sg-background-color, var(--theme-background, var(--jp-layout-color0, white)));\n",
       "  --sklearn-color-border-box: var(--sg-text-color, var(--theme-code-foreground, var(--jp-content-font-color1, black)));\n",
       "  --sklearn-color-icon: #696969;\n",
       "\n",
       "  @media (prefers-color-scheme: dark) {\n",
       "    /* Redefinition of color scheme for dark theme */\n",
       "    --sklearn-color-text-on-default-background: var(--sg-text-color, var(--theme-code-foreground, var(--jp-content-font-color1, white)));\n",
       "    --sklearn-color-background: var(--sg-background-color, var(--theme-background, var(--jp-layout-color0, #111)));\n",
       "    --sklearn-color-border-box: var(--sg-text-color, var(--theme-code-foreground, var(--jp-content-font-color1, white)));\n",
       "    --sklearn-color-icon: #878787;\n",
       "  }\n",
       "}\n",
       "\n",
       "#sk-container-id-2 {\n",
       "  color: var(--sklearn-color-text);\n",
       "}\n",
       "\n",
       "#sk-container-id-2 pre {\n",
       "  padding: 0;\n",
       "}\n",
       "\n",
       "#sk-container-id-2 input.sk-hidden--visually {\n",
       "  border: 0;\n",
       "  clip: rect(1px 1px 1px 1px);\n",
       "  clip: rect(1px, 1px, 1px, 1px);\n",
       "  height: 1px;\n",
       "  margin: -1px;\n",
       "  overflow: hidden;\n",
       "  padding: 0;\n",
       "  position: absolute;\n",
       "  width: 1px;\n",
       "}\n",
       "\n",
       "#sk-container-id-2 div.sk-dashed-wrapped {\n",
       "  border: 1px dashed var(--sklearn-color-line);\n",
       "  margin: 0 0.4em 0.5em 0.4em;\n",
       "  box-sizing: border-box;\n",
       "  padding-bottom: 0.4em;\n",
       "  background-color: var(--sklearn-color-background);\n",
       "}\n",
       "\n",
       "#sk-container-id-2 div.sk-container {\n",
       "  /* jupyter's `normalize.less` sets `[hidden] { display: none; }`\n",
       "     but bootstrap.min.css set `[hidden] { display: none !important; }`\n",
       "     so we also need the `!important` here to be able to override the\n",
       "     default hidden behavior on the sphinx rendered scikit-learn.org.\n",
       "     See: https://github.com/scikit-learn/scikit-learn/issues/21755 */\n",
       "  display: inline-block !important;\n",
       "  position: relative;\n",
       "}\n",
       "\n",
       "#sk-container-id-2 div.sk-text-repr-fallback {\n",
       "  display: none;\n",
       "}\n",
       "\n",
       "div.sk-parallel-item,\n",
       "div.sk-serial,\n",
       "div.sk-item {\n",
       "  /* draw centered vertical line to link estimators */\n",
       "  background-image: linear-gradient(var(--sklearn-color-text-on-default-background), var(--sklearn-color-text-on-default-background));\n",
       "  background-size: 2px 100%;\n",
       "  background-repeat: no-repeat;\n",
       "  background-position: center center;\n",
       "}\n",
       "\n",
       "/* Parallel-specific style estimator block */\n",
       "\n",
       "#sk-container-id-2 div.sk-parallel-item::after {\n",
       "  content: \"\";\n",
       "  width: 100%;\n",
       "  border-bottom: 2px solid var(--sklearn-color-text-on-default-background);\n",
       "  flex-grow: 1;\n",
       "}\n",
       "\n",
       "#sk-container-id-2 div.sk-parallel {\n",
       "  display: flex;\n",
       "  align-items: stretch;\n",
       "  justify-content: center;\n",
       "  background-color: var(--sklearn-color-background);\n",
       "  position: relative;\n",
       "}\n",
       "\n",
       "#sk-container-id-2 div.sk-parallel-item {\n",
       "  display: flex;\n",
       "  flex-direction: column;\n",
       "}\n",
       "\n",
       "#sk-container-id-2 div.sk-parallel-item:first-child::after {\n",
       "  align-self: flex-end;\n",
       "  width: 50%;\n",
       "}\n",
       "\n",
       "#sk-container-id-2 div.sk-parallel-item:last-child::after {\n",
       "  align-self: flex-start;\n",
       "  width: 50%;\n",
       "}\n",
       "\n",
       "#sk-container-id-2 div.sk-parallel-item:only-child::after {\n",
       "  width: 0;\n",
       "}\n",
       "\n",
       "/* Serial-specific style estimator block */\n",
       "\n",
       "#sk-container-id-2 div.sk-serial {\n",
       "  display: flex;\n",
       "  flex-direction: column;\n",
       "  align-items: center;\n",
       "  background-color: var(--sklearn-color-background);\n",
       "  padding-right: 1em;\n",
       "  padding-left: 1em;\n",
       "}\n",
       "\n",
       "\n",
       "/* Toggleable style: style used for estimator/Pipeline/ColumnTransformer box that is\n",
       "clickable and can be expanded/collapsed.\n",
       "- Pipeline and ColumnTransformer use this feature and define the default style\n",
       "- Estimators will overwrite some part of the style using the `sk-estimator` class\n",
       "*/\n",
       "\n",
       "/* Pipeline and ColumnTransformer style (default) */\n",
       "\n",
       "#sk-container-id-2 div.sk-toggleable {\n",
       "  /* Default theme specific background. It is overwritten whether we have a\n",
       "  specific estimator or a Pipeline/ColumnTransformer */\n",
       "  background-color: var(--sklearn-color-background);\n",
       "}\n",
       "\n",
       "/* Toggleable label */\n",
       "#sk-container-id-2 label.sk-toggleable__label {\n",
       "  cursor: pointer;\n",
       "  display: block;\n",
       "  width: 100%;\n",
       "  margin-bottom: 0;\n",
       "  padding: 0.5em;\n",
       "  box-sizing: border-box;\n",
       "  text-align: center;\n",
       "}\n",
       "\n",
       "#sk-container-id-2 label.sk-toggleable__label-arrow:before {\n",
       "  /* Arrow on the left of the label */\n",
       "  content: \"▸\";\n",
       "  float: left;\n",
       "  margin-right: 0.25em;\n",
       "  color: var(--sklearn-color-icon);\n",
       "}\n",
       "\n",
       "#sk-container-id-2 label.sk-toggleable__label-arrow:hover:before {\n",
       "  color: var(--sklearn-color-text);\n",
       "}\n",
       "\n",
       "/* Toggleable content - dropdown */\n",
       "\n",
       "#sk-container-id-2 div.sk-toggleable__content {\n",
       "  max-height: 0;\n",
       "  max-width: 0;\n",
       "  overflow: hidden;\n",
       "  text-align: left;\n",
       "  /* unfitted */\n",
       "  background-color: var(--sklearn-color-unfitted-level-0);\n",
       "}\n",
       "\n",
       "#sk-container-id-2 div.sk-toggleable__content.fitted {\n",
       "  /* fitted */\n",
       "  background-color: var(--sklearn-color-fitted-level-0);\n",
       "}\n",
       "\n",
       "#sk-container-id-2 div.sk-toggleable__content pre {\n",
       "  margin: 0.2em;\n",
       "  border-radius: 0.25em;\n",
       "  color: var(--sklearn-color-text);\n",
       "  /* unfitted */\n",
       "  background-color: var(--sklearn-color-unfitted-level-0);\n",
       "}\n",
       "\n",
       "#sk-container-id-2 div.sk-toggleable__content.fitted pre {\n",
       "  /* unfitted */\n",
       "  background-color: var(--sklearn-color-fitted-level-0);\n",
       "}\n",
       "\n",
       "#sk-container-id-2 input.sk-toggleable__control:checked~div.sk-toggleable__content {\n",
       "  /* Expand drop-down */\n",
       "  max-height: 200px;\n",
       "  max-width: 100%;\n",
       "  overflow: auto;\n",
       "}\n",
       "\n",
       "#sk-container-id-2 input.sk-toggleable__control:checked~label.sk-toggleable__label-arrow:before {\n",
       "  content: \"▾\";\n",
       "}\n",
       "\n",
       "/* Pipeline/ColumnTransformer-specific style */\n",
       "\n",
       "#sk-container-id-2 div.sk-label input.sk-toggleable__control:checked~label.sk-toggleable__label {\n",
       "  color: var(--sklearn-color-text);\n",
       "  background-color: var(--sklearn-color-unfitted-level-2);\n",
       "}\n",
       "\n",
       "#sk-container-id-2 div.sk-label.fitted input.sk-toggleable__control:checked~label.sk-toggleable__label {\n",
       "  background-color: var(--sklearn-color-fitted-level-2);\n",
       "}\n",
       "\n",
       "/* Estimator-specific style */\n",
       "\n",
       "/* Colorize estimator box */\n",
       "#sk-container-id-2 div.sk-estimator input.sk-toggleable__control:checked~label.sk-toggleable__label {\n",
       "  /* unfitted */\n",
       "  background-color: var(--sklearn-color-unfitted-level-2);\n",
       "}\n",
       "\n",
       "#sk-container-id-2 div.sk-estimator.fitted input.sk-toggleable__control:checked~label.sk-toggleable__label {\n",
       "  /* fitted */\n",
       "  background-color: var(--sklearn-color-fitted-level-2);\n",
       "}\n",
       "\n",
       "#sk-container-id-2 div.sk-label label.sk-toggleable__label,\n",
       "#sk-container-id-2 div.sk-label label {\n",
       "  /* The background is the default theme color */\n",
       "  color: var(--sklearn-color-text-on-default-background);\n",
       "}\n",
       "\n",
       "/* On hover, darken the color of the background */\n",
       "#sk-container-id-2 div.sk-label:hover label.sk-toggleable__label {\n",
       "  color: var(--sklearn-color-text);\n",
       "  background-color: var(--sklearn-color-unfitted-level-2);\n",
       "}\n",
       "\n",
       "/* Label box, darken color on hover, fitted */\n",
       "#sk-container-id-2 div.sk-label.fitted:hover label.sk-toggleable__label.fitted {\n",
       "  color: var(--sklearn-color-text);\n",
       "  background-color: var(--sklearn-color-fitted-level-2);\n",
       "}\n",
       "\n",
       "/* Estimator label */\n",
       "\n",
       "#sk-container-id-2 div.sk-label label {\n",
       "  font-family: monospace;\n",
       "  font-weight: bold;\n",
       "  display: inline-block;\n",
       "  line-height: 1.2em;\n",
       "}\n",
       "\n",
       "#sk-container-id-2 div.sk-label-container {\n",
       "  text-align: center;\n",
       "}\n",
       "\n",
       "/* Estimator-specific */\n",
       "#sk-container-id-2 div.sk-estimator {\n",
       "  font-family: monospace;\n",
       "  border: 1px dotted var(--sklearn-color-border-box);\n",
       "  border-radius: 0.25em;\n",
       "  box-sizing: border-box;\n",
       "  margin-bottom: 0.5em;\n",
       "  /* unfitted */\n",
       "  background-color: var(--sklearn-color-unfitted-level-0);\n",
       "}\n",
       "\n",
       "#sk-container-id-2 div.sk-estimator.fitted {\n",
       "  /* fitted */\n",
       "  background-color: var(--sklearn-color-fitted-level-0);\n",
       "}\n",
       "\n",
       "/* on hover */\n",
       "#sk-container-id-2 div.sk-estimator:hover {\n",
       "  /* unfitted */\n",
       "  background-color: var(--sklearn-color-unfitted-level-2);\n",
       "}\n",
       "\n",
       "#sk-container-id-2 div.sk-estimator.fitted:hover {\n",
       "  /* fitted */\n",
       "  background-color: var(--sklearn-color-fitted-level-2);\n",
       "}\n",
       "\n",
       "/* Specification for estimator info (e.g. \"i\" and \"?\") */\n",
       "\n",
       "/* Common style for \"i\" and \"?\" */\n",
       "\n",
       ".sk-estimator-doc-link,\n",
       "a:link.sk-estimator-doc-link,\n",
       "a:visited.sk-estimator-doc-link {\n",
       "  float: right;\n",
       "  font-size: smaller;\n",
       "  line-height: 1em;\n",
       "  font-family: monospace;\n",
       "  background-color: var(--sklearn-color-background);\n",
       "  border-radius: 1em;\n",
       "  height: 1em;\n",
       "  width: 1em;\n",
       "  text-decoration: none !important;\n",
       "  margin-left: 1ex;\n",
       "  /* unfitted */\n",
       "  border: var(--sklearn-color-unfitted-level-1) 1pt solid;\n",
       "  color: var(--sklearn-color-unfitted-level-1);\n",
       "}\n",
       "\n",
       ".sk-estimator-doc-link.fitted,\n",
       "a:link.sk-estimator-doc-link.fitted,\n",
       "a:visited.sk-estimator-doc-link.fitted {\n",
       "  /* fitted */\n",
       "  border: var(--sklearn-color-fitted-level-1) 1pt solid;\n",
       "  color: var(--sklearn-color-fitted-level-1);\n",
       "}\n",
       "\n",
       "/* On hover */\n",
       "div.sk-estimator:hover .sk-estimator-doc-link:hover,\n",
       ".sk-estimator-doc-link:hover,\n",
       "div.sk-label-container:hover .sk-estimator-doc-link:hover,\n",
       ".sk-estimator-doc-link:hover {\n",
       "  /* unfitted */\n",
       "  background-color: var(--sklearn-color-unfitted-level-3);\n",
       "  color: var(--sklearn-color-background);\n",
       "  text-decoration: none;\n",
       "}\n",
       "\n",
       "div.sk-estimator.fitted:hover .sk-estimator-doc-link.fitted:hover,\n",
       ".sk-estimator-doc-link.fitted:hover,\n",
       "div.sk-label-container:hover .sk-estimator-doc-link.fitted:hover,\n",
       ".sk-estimator-doc-link.fitted:hover {\n",
       "  /* fitted */\n",
       "  background-color: var(--sklearn-color-fitted-level-3);\n",
       "  color: var(--sklearn-color-background);\n",
       "  text-decoration: none;\n",
       "}\n",
       "\n",
       "/* Span, style for the box shown on hovering the info icon */\n",
       ".sk-estimator-doc-link span {\n",
       "  display: none;\n",
       "  z-index: 9999;\n",
       "  position: relative;\n",
       "  font-weight: normal;\n",
       "  right: .2ex;\n",
       "  padding: .5ex;\n",
       "  margin: .5ex;\n",
       "  width: min-content;\n",
       "  min-width: 20ex;\n",
       "  max-width: 50ex;\n",
       "  color: var(--sklearn-color-text);\n",
       "  box-shadow: 2pt 2pt 4pt #999;\n",
       "  /* unfitted */\n",
       "  background: var(--sklearn-color-unfitted-level-0);\n",
       "  border: .5pt solid var(--sklearn-color-unfitted-level-3);\n",
       "}\n",
       "\n",
       ".sk-estimator-doc-link.fitted span {\n",
       "  /* fitted */\n",
       "  background: var(--sklearn-color-fitted-level-0);\n",
       "  border: var(--sklearn-color-fitted-level-3);\n",
       "}\n",
       "\n",
       ".sk-estimator-doc-link:hover span {\n",
       "  display: block;\n",
       "}\n",
       "\n",
       "/* \"?\"-specific style due to the `<a>` HTML tag */\n",
       "\n",
       "#sk-container-id-2 a.estimator_doc_link {\n",
       "  float: right;\n",
       "  font-size: 1rem;\n",
       "  line-height: 1em;\n",
       "  font-family: monospace;\n",
       "  background-color: var(--sklearn-color-background);\n",
       "  border-radius: 1rem;\n",
       "  height: 1rem;\n",
       "  width: 1rem;\n",
       "  text-decoration: none;\n",
       "  /* unfitted */\n",
       "  color: var(--sklearn-color-unfitted-level-1);\n",
       "  border: var(--sklearn-color-unfitted-level-1) 1pt solid;\n",
       "}\n",
       "\n",
       "#sk-container-id-2 a.estimator_doc_link.fitted {\n",
       "  /* fitted */\n",
       "  border: var(--sklearn-color-fitted-level-1) 1pt solid;\n",
       "  color: var(--sklearn-color-fitted-level-1);\n",
       "}\n",
       "\n",
       "/* On hover */\n",
       "#sk-container-id-2 a.estimator_doc_link:hover {\n",
       "  /* unfitted */\n",
       "  background-color: var(--sklearn-color-unfitted-level-3);\n",
       "  color: var(--sklearn-color-background);\n",
       "  text-decoration: none;\n",
       "}\n",
       "\n",
       "#sk-container-id-2 a.estimator_doc_link.fitted:hover {\n",
       "  /* fitted */\n",
       "  background-color: var(--sklearn-color-fitted-level-3);\n",
       "}\n",
       "</style><div id=\"sk-container-id-2\" class=\"sk-top-container\"><div class=\"sk-text-repr-fallback\"><pre>GaussianNB()</pre><b>In a Jupyter environment, please rerun this cell to show the HTML representation or trust the notebook. <br />On GitHub, the HTML representation is unable to render, please try loading this page with nbviewer.org.</b></div><div class=\"sk-container\" hidden><div class=\"sk-item\"><div class=\"sk-estimator fitted sk-toggleable\"><input class=\"sk-toggleable__control sk-hidden--visually\" id=\"sk-estimator-id-2\" type=\"checkbox\" checked><label for=\"sk-estimator-id-2\" class=\"sk-toggleable__label fitted sk-toggleable__label-arrow fitted\">&nbsp;&nbsp;GaussianNB<a class=\"sk-estimator-doc-link fitted\" rel=\"noreferrer\" target=\"_blank\" href=\"https://scikit-learn.org/1.4/modules/generated/sklearn.naive_bayes.GaussianNB.html\">?<span>Documentation for GaussianNB</span></a><span class=\"sk-estimator-doc-link fitted\">i<span>Fitted</span></span></label><div class=\"sk-toggleable__content fitted\"><pre>GaussianNB()</pre></div> </div></div></div></div>"
      ],
      "text/plain": [
       "GaussianNB()"
      ]
     },
     "execution_count": 27,
     "metadata": {},
     "output_type": "execute_result"
    }
   ],
   "source": [
    "# O’quv to'plamida Gauss Naive Bayes klassifikatorini o’qitish\n",
    "from sklearn.naive_bayes import GaussianNB\n",
    "gnb = GaussianNB()\n",
    "gnb.fit(X_train, y_train)"
   ]
  },
  {
   "cell_type": "markdown",
   "id": "5c2417dd-527f-40dc-bdbd-ec7b34790494",
   "metadata": {},
   "source": [
    "### 9-qadam. Natijani bashorat qilish"
   ]
  },
  {
   "cell_type": "code",
   "execution_count": 26,
   "id": "417c8ea4-e462-4fb7-826e-fc649439f2a0",
   "metadata": {},
   "outputs": [
    {
     "data": {
      "text/plain": [
       "array([0, 1, 1, 1, 0, 1, 1, 0, 0, 0, 0, 0, 0, 1, 1, 1, 1, 1, 1, 0, 1, 0,\n",
       "       0, 1, 0, 0, 0, 0, 1, 0, 1, 1], dtype=int64)"
      ]
     },
     "execution_count": 26,
     "metadata": {},
     "output_type": "execute_result"
    }
   ],
   "source": [
    "y_pred = gnb.predict(X_test)\n",
    "y_pred"
   ]
  },
  {
   "cell_type": "markdown",
   "id": "30af696b-86d8-4531-a408-3b987c6af8f2",
   "metadata": {},
   "source": [
    "### 10-qadam. Modelning aniqligini tekshirish"
   ]
  },
  {
   "cell_type": "code",
   "execution_count": 28,
   "id": "12bc5041-4691-4840-aa7b-14278b2e8fc1",
   "metadata": {},
   "outputs": [
    {
     "name": "stdout",
     "output_type": "stream",
     "text": [
      "Modelning aniqligi bali: 1.0000\n"
     ]
    }
   ],
   "source": [
    "from sklearn.metrics import accuracy_score\n",
    "print('Modelning aniqligi bali: {0:0.4f}'.format(accuracy_score(y_test, y_pred)))"
   ]
  },
  {
   "cell_type": "markdown",
   "id": "b7574af5-04a5-4251-8ee2-9339ecb90160",
   "metadata": {},
   "source": [
    "Bu yerda y_test haqiqiy sinf yorliqlari va y_pred test to'plamidagi taxmin qilingan sinf belgilaridir"
   ]
  },
  {
   "cell_type": "markdown",
   "id": "dc2bb906-f228-4d15-99b0-b0abdca311a3",
   "metadata": {},
   "source": [
    "#### 10.1. O’quv to'plami va test to'plamining aniqligini solishtirish"
   ]
  },
  {
   "cell_type": "code",
   "execution_count": 22,
   "id": "3c7447d6-75de-4161-bd01-75b659f5a385",
   "metadata": {},
   "outputs": [
    {
     "name": "stdout",
     "output_type": "stream",
     "text": [
      "O’quv to’plami bali: 1.0000\n",
      "Test to’plami bali: 1.0000\n"
     ]
    }
   ],
   "source": [
    "print('O’quv to’plami bali: {:.4f}'.format(gnb.score(X_train, y_train)))\n",
    "print('Test to’plami bali: {:.4f}'.format(gnb.score(X_test, y_test)))"
   ]
  },
  {
   "cell_type": "markdown",
   "id": "9a912c7b-34d4-4050-95ee-c38fd240d04c",
   "metadata": {},
   "source": [
    "Xulosa: O’quv to'plamining aniqligi balli 1.0000, test to'plamining aniqligi ham 1.00000. Bu ikki qiymat bir xil. Shunday qilib, qayta o’qitishga muhtoj emasmiz."
   ]
  },
  {
   "cell_type": "markdown",
   "id": "34647336-b3f8-49e8-8ed6-1759609cd9b0",
   "metadata": {},
   "source": [
    "#### 10.2. Test to'plamidagi sinf taqsimotini tekshirish"
   ]
  },
  {
   "cell_type": "code",
   "execution_count": 23,
   "id": "73670030-c863-4f7e-82de-1d040996e12e",
   "metadata": {},
   "outputs": [
    {
     "data": {
      "text/plain": [
       "dastlabki_holat\n",
       "0    16\n",
       "1    16\n",
       "Name: count, dtype: int64"
      ]
     },
     "execution_count": 23,
     "metadata": {},
     "output_type": "execute_result"
    }
   ],
   "source": [
    "y_test.value_counts()"
   ]
  },
  {
   "cell_type": "code",
   "execution_count": 24,
   "id": "279cebb1-1111-46cc-9aa6-c2765430858e",
   "metadata": {},
   "outputs": [
    {
     "name": "stdout",
     "output_type": "stream",
     "text": [
      " Null  aniqlik balli: 0.5000\n"
     ]
    }
   ],
   "source": [
    "null_accuracy = (16/(16+16))\n",
    "print(' Null  aniqlik balli: {0:0.4f}'. format(null_accuracy))"
   ]
  },
  {
   "cell_type": "markdown",
   "id": "dcc4666b-d485-4b8b-b00b-5ad1c42b40e1",
   "metadata": {},
   "source": [
    "Ko'rishimiz mumkinki, eng tez-tez uchraydigan sinfdagi hodisalar 16 ni tashkil qiladi. Shunday qilib, 16 ni umumiy hodisalar soniga bo'lish orqali nol aniqlikni hisoblashimiz mumkin."
   ]
  },
  {
   "cell_type": "markdown",
   "id": "6d17eeba-15dc-4363-99d0-231046f6e7d6",
   "metadata": {},
   "source": [
    "Bizning model aniqlik ballimiz 0.5000 ekanligini ko'rishimiz mumkin. Shunday qilib, bizning Gauss Naive Bayes tasnifi modelimiz sinf belgilarini bashorat qilishda juda yaxshi ishlamoqda degan xulosaga kelishimiz mumkin.\n",
    "Endi yuqoridagi tahlilga asoslanib, tasniflash modelimiz aniqligi juda yaxshi degan xulosaga kelishimiz mumkin. Modelimiz sinf belgilarini bashorat qilish nuqtai nazaridan juda yaxshi ishlamoqda.\n"
   ]
  }
 ],
 "metadata": {
  "kernelspec": {
   "display_name": "Python 3 (ipykernel)",
   "language": "python",
   "name": "python3"
  },
  "language_info": {
   "codemirror_mode": {
    "name": "ipython",
    "version": 3
   },
   "file_extension": ".py",
   "mimetype": "text/x-python",
   "name": "python",
   "nbconvert_exporter": "python",
   "pygments_lexer": "ipython3",
   "version": "3.12.1"
  }
 },
 "nbformat": 4,
 "nbformat_minor": 5
}
