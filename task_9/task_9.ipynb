{
 "cells": [
  {
   "cell_type": "markdown",
   "id": "77d32a9b-e1b8-41a7-80a7-0f2acdb06bc6",
   "metadata": {},
   "source": [
    "## 1.Kutubxonalarni import qilish"
   ]
  },
  {
   "cell_type": "code",
   "execution_count": 2,
   "id": "aef7b2d6-4017-4814-95c3-b169247b4b12",
   "metadata": {},
   "outputs": [],
   "source": [
    "import numpy as np # chiziqli algebra\n",
    "import pandas as pd # ma'lumotlarga ishlov berish, CSV faylini kiritish va chiqarish\n",
    "import matplotlib.pyplot as plt # ma'lumotlarni vizualizatsiya qilish\n",
    "import seaborn as sns # statistik ma'lumotlarni vizualiazatsiya qilish\n",
    "%matplotlib inline\n"
   ]
  },
  {
   "cell_type": "markdown",
   "id": "930cc738-38d5-46a6-aa15-9c316949afd5",
   "metadata": {},
   "source": [
    "## 2. Ma'lumotlar to'plamini import qilish"
   ]
  },
  {
   "cell_type": "code",
   "execution_count": 4,
   "id": "5938e1ac-4f57-445f-be91-c1ec73f76fa2",
   "metadata": {},
   "outputs": [],
   "source": [
    "data = 'data2.csv'\n",
    "df = pd.read_csv(data)"
   ]
  },
  {
   "cell_type": "markdown",
   "id": "12b93151-ed58-4fff-87b2-a51f4c2fc024",
   "metadata": {},
   "source": [
    "## 3. Tadqiqot ma'lumotlarini tahlil qilish"
   ]
  },
  {
   "cell_type": "code",
   "execution_count": 5,
   "id": "7378a39e-df86-40c1-98a8-c1b34543fdec",
   "metadata": {},
   "outputs": [
    {
     "data": {
      "text/plain": [
       "(104, 7)"
      ]
     },
     "execution_count": 5,
     "metadata": {},
     "output_type": "execute_result"
    }
   ],
   "source": [
    "df.shape"
   ]
  },
  {
   "cell_type": "markdown",
   "id": "09e92ca7-d241-4f9e-a8f0-ad886bd95cd1",
   "metadata": {},
   "source": [
    "Ma'lumotlar to'plamida 104 ta namuna va 7 ta atribut mavjudligini ko'rishimiz mumkin. Ma'lumotlar\n",
    "to'plami tavsifida ma'lumotlar to'plamida 104 namuna va 7 atribut mavjudligi berilgan. Shunday qilib,\n",
    "birinchi instantsiya qator sarlavhasi va ma'lumotlar to'plamida 4 ta qo'shimcha atribut mavjud degan\n",
    "xulosaga kelishimiz mumkin. Keyinchalik, bu haqda ko'proq ma'lumotga ega bo'lish uchun ma'lumotlar\n",
    "to'plamini ko'rib chiqishimiz kerak.\n"
   ]
  },
  {
   "cell_type": "markdown",
   "id": "638deb80-b2bb-447e-a25e-0a64839a8ad2",
   "metadata": {},
   "source": [
    "### Ma'lumotlar to'plamini ko'rish"
   ]
  },
  {
   "cell_type": "code",
   "execution_count": 6,
   "id": "bec59739-5c2b-4920-ac63-0f0de325b055",
   "metadata": {},
   "outputs": [
    {
     "data": {
      "text/html": [
       "<div>\n",
       "<style scoped>\n",
       "    .dataframe tbody tr th:only-of-type {\n",
       "        vertical-align: middle;\n",
       "    }\n",
       "\n",
       "    .dataframe tbody tr th {\n",
       "        vertical-align: top;\n",
       "    }\n",
       "\n",
       "    .dataframe thead th {\n",
       "        text-align: right;\n",
       "    }\n",
       "</style>\n",
       "<table border=\"1\" class=\"dataframe\">\n",
       "  <thead>\n",
       "    <tr style=\"text-align: right;\">\n",
       "      <th></th>\n",
       "      <th>qon_bosimi_speed</th>\n",
       "      <th>qon_bosimi_count</th>\n",
       "      <th>xolesterin</th>\n",
       "      <th>bmi</th>\n",
       "      <th>turmush_tarzi</th>\n",
       "      <th>tibbiyot_tarixi</th>\n",
       "      <th>dastlabki_holat</th>\n",
       "    </tr>\n",
       "  </thead>\n",
       "  <tbody>\n",
       "    <tr>\n",
       "      <th>0</th>\n",
       "      <td>130</td>\n",
       "      <td>85</td>\n",
       "      <td>100</td>\n",
       "      <td>18</td>\n",
       "      <td>1</td>\n",
       "      <td>1</td>\n",
       "      <td>1</td>\n",
       "    </tr>\n",
       "    <tr>\n",
       "      <th>1</th>\n",
       "      <td>140</td>\n",
       "      <td>99</td>\n",
       "      <td>130</td>\n",
       "      <td>40</td>\n",
       "      <td>0</td>\n",
       "      <td>1</td>\n",
       "      <td>0</td>\n",
       "    </tr>\n",
       "    <tr>\n",
       "      <th>2</th>\n",
       "      <td>130</td>\n",
       "      <td>85</td>\n",
       "      <td>100</td>\n",
       "      <td>18</td>\n",
       "      <td>1</td>\n",
       "      <td>1</td>\n",
       "      <td>1</td>\n",
       "    </tr>\n",
       "    <tr>\n",
       "      <th>3</th>\n",
       "      <td>140</td>\n",
       "      <td>99</td>\n",
       "      <td>130</td>\n",
       "      <td>40</td>\n",
       "      <td>0</td>\n",
       "      <td>1</td>\n",
       "      <td>0</td>\n",
       "    </tr>\n",
       "    <tr>\n",
       "      <th>4</th>\n",
       "      <td>135</td>\n",
       "      <td>82</td>\n",
       "      <td>100</td>\n",
       "      <td>19</td>\n",
       "      <td>1</td>\n",
       "      <td>1</td>\n",
       "      <td>1</td>\n",
       "    </tr>\n",
       "  </tbody>\n",
       "</table>\n",
       "</div>"
      ],
      "text/plain": [
       "   qon_bosimi_speed  qon_bosimi_count  xolesterin  bmi  turmush_tarzi  \\\n",
       "0               130                85         100   18              1   \n",
       "1               140                99         130   40              0   \n",
       "2               130                85         100   18              1   \n",
       "3               140                99         130   40              0   \n",
       "4               135                82         100   19              1   \n",
       "\n",
       "   tibbiyot_tarixi  dastlabki_holat  \n",
       "0                1                1  \n",
       "1                1                0  \n",
       "2                1                1  \n",
       "3                1                0  \n",
       "4                1                1  "
      ]
     },
     "execution_count": 6,
     "metadata": {},
     "output_type": "execute_result"
    }
   ],
   "source": [
    "df.head()"
   ]
  },
  {
   "cell_type": "markdown",
   "id": "82cd233d-0116-402e-b4fe-988949e23406",
   "metadata": {},
   "source": [
    "### Maʼlumotlar toʻplamining xulosasini koʻrish"
   ]
  },
  {
   "cell_type": "code",
   "execution_count": 7,
   "id": "19a25e2e-1997-4c07-9d4d-39cba9451aec",
   "metadata": {},
   "outputs": [
    {
     "name": "stdout",
     "output_type": "stream",
     "text": [
      "<class 'pandas.core.frame.DataFrame'>\n",
      "RangeIndex: 104 entries, 0 to 103\n",
      "Data columns (total 7 columns):\n",
      " #   Column            Non-Null Count  Dtype\n",
      "---  ------            --------------  -----\n",
      " 0   qon_bosimi_speed  104 non-null    int64\n",
      " 1   qon_bosimi_count  104 non-null    int64\n",
      " 2   xolesterin        104 non-null    int64\n",
      " 3   bmi               104 non-null    int64\n",
      " 4   turmush_tarzi     104 non-null    int64\n",
      " 5   tibbiyot_tarixi   104 non-null    int64\n",
      " 6   dastlabki_holat   104 non-null    int64\n",
      "dtypes: int64(7)\n",
      "memory usage: 5.8 KB\n"
     ]
    }
   ],
   "source": [
    "df.info()"
   ]
  },
  {
   "cell_type": "markdown",
   "id": "2c00b1ce-d3cd-474a-b308-7e6cbff4a1c5",
   "metadata": {},
   "source": [
    "### Ma'lumotlar to'plamida yetishmayotgan qiymatlarni tekshirish"
   ]
  },
  {
   "cell_type": "code",
   "execution_count": 8,
   "id": "c6413aad-72ec-4da2-96b2-7c6a078c57c4",
   "metadata": {},
   "outputs": [
    {
     "data": {
      "text/plain": [
       "qon_bosimi_speed    0\n",
       "qon_bosimi_count    0\n",
       "xolesterin          0\n",
       "bmi                 0\n",
       "turmush_tarzi       0\n",
       "tibbiyot_tarixi     0\n",
       "dastlabki_holat     0\n",
       "dtype: int64"
      ]
     },
     "execution_count": 8,
     "metadata": {},
     "output_type": "execute_result"
    }
   ],
   "source": [
    "df.isnull().sum()"
   ]
  },
  {
   "cell_type": "markdown",
   "id": "1e4e9d9e-4d38-4bed-b796-6284c70017ae",
   "metadata": {},
   "source": [
    "### Ortiqcha ustunlarni tashlab yuboramiz"
   ]
  },
  {
   "cell_type": "code",
   "execution_count": 10,
   "id": "8efd27ad-cf24-40d3-86af-e6687a53f447",
   "metadata": {},
   "outputs": [],
   "source": [
    "df.drop(['tibbiyot_tarixi'], axis=1, inplace=True)"
   ]
  },
  {
   "cell_type": "markdown",
   "id": "4ed6cbda-a0fd-4794-a1a3-3c2df64810d6",
   "metadata": {},
   "source": [
    "### Yana ma'lumotlar to'plamining umumiy ko'rinishi"
   ]
  },
  {
   "cell_type": "code",
   "execution_count": 11,
   "id": "a0c64ad1-d596-4439-963c-384bd0d0b1c5",
   "metadata": {},
   "outputs": [
    {
     "name": "stdout",
     "output_type": "stream",
     "text": [
      "<class 'pandas.core.frame.DataFrame'>\n",
      "RangeIndex: 104 entries, 0 to 103\n",
      "Data columns (total 6 columns):\n",
      " #   Column            Non-Null Count  Dtype\n",
      "---  ------            --------------  -----\n",
      " 0   qon_bosimi_speed  104 non-null    int64\n",
      " 1   qon_bosimi_count  104 non-null    int64\n",
      " 2   xolesterin        104 non-null    int64\n",
      " 3   bmi               104 non-null    int64\n",
      " 4   turmush_tarzi     104 non-null    int64\n",
      " 5   dastlabki_holat   104 non-null    int64\n",
      "dtypes: int64(6)\n",
      "memory usage: 5.0 KB\n"
     ]
    }
   ],
   "source": [
    "df.info()"
   ]
  },
  {
   "cell_type": "markdown",
   "id": "349232e7-062a-4073-872a-a58966177331",
   "metadata": {},
   "source": [
    "Endi ma'lumotlar to'plamidan ortiqcha ustunlar olib tashlanganligini ko'rishimiz mumkin.\n",
    "Ko'rishimiz mumkinki, 3 ta belgili o'zgaruvchisi (data type = object) va qolgan 9 ta raqamli o'zgaruvchilar\n",
    "(data type = int64)."
   ]
  },
  {
   "cell_type": "markdown",
   "id": "94a88f5a-40be-4b1f-b0d9-2be397d8d55f",
   "metadata": {},
   "source": [
    "### Raqamli o'zgaruvchilarning statistik xulosasini ko'rish"
   ]
  },
  {
   "cell_type": "code",
   "execution_count": 12,
   "id": "8a850cd0-a42d-4360-acd8-8659e9b79edc",
   "metadata": {},
   "outputs": [
    {
     "data": {
      "text/html": [
       "<div>\n",
       "<style scoped>\n",
       "    .dataframe tbody tr th:only-of-type {\n",
       "        vertical-align: middle;\n",
       "    }\n",
       "\n",
       "    .dataframe tbody tr th {\n",
       "        vertical-align: top;\n",
       "    }\n",
       "\n",
       "    .dataframe thead th {\n",
       "        text-align: right;\n",
       "    }\n",
       "</style>\n",
       "<table border=\"1\" class=\"dataframe\">\n",
       "  <thead>\n",
       "    <tr style=\"text-align: right;\">\n",
       "      <th></th>\n",
       "      <th>qon_bosimi_speed</th>\n",
       "      <th>qon_bosimi_count</th>\n",
       "      <th>xolesterin</th>\n",
       "      <th>bmi</th>\n",
       "      <th>turmush_tarzi</th>\n",
       "      <th>dastlabki_holat</th>\n",
       "    </tr>\n",
       "  </thead>\n",
       "  <tbody>\n",
       "    <tr>\n",
       "      <th>count</th>\n",
       "      <td>104.000000</td>\n",
       "      <td>104.000000</td>\n",
       "      <td>104.000000</td>\n",
       "      <td>104.000000</td>\n",
       "      <td>104.000000</td>\n",
       "      <td>104.000000</td>\n",
       "    </tr>\n",
       "    <tr>\n",
       "      <th>mean</th>\n",
       "      <td>138.894231</td>\n",
       "      <td>93.788462</td>\n",
       "      <td>124.086538</td>\n",
       "      <td>29.884615</td>\n",
       "      <td>0.625000</td>\n",
       "      <td>0.557692</td>\n",
       "    </tr>\n",
       "    <tr>\n",
       "      <th>std</th>\n",
       "      <td>14.831689</td>\n",
       "      <td>12.265409</td>\n",
       "      <td>33.220683</td>\n",
       "      <td>24.227605</td>\n",
       "      <td>0.486467</td>\n",
       "      <td>0.499066</td>\n",
       "    </tr>\n",
       "    <tr>\n",
       "      <th>min</th>\n",
       "      <td>122.000000</td>\n",
       "      <td>76.000000</td>\n",
       "      <td>100.000000</td>\n",
       "      <td>16.000000</td>\n",
       "      <td>0.000000</td>\n",
       "      <td>0.000000</td>\n",
       "    </tr>\n",
       "    <tr>\n",
       "      <th>25%</th>\n",
       "      <td>131.000000</td>\n",
       "      <td>86.000000</td>\n",
       "      <td>102.250000</td>\n",
       "      <td>19.000000</td>\n",
       "      <td>0.000000</td>\n",
       "      <td>0.000000</td>\n",
       "    </tr>\n",
       "    <tr>\n",
       "      <th>50%</th>\n",
       "      <td>134.000000</td>\n",
       "      <td>90.000000</td>\n",
       "      <td>111.000000</td>\n",
       "      <td>21.500000</td>\n",
       "      <td>1.000000</td>\n",
       "      <td>1.000000</td>\n",
       "    </tr>\n",
       "    <tr>\n",
       "      <th>75%</th>\n",
       "      <td>142.000000</td>\n",
       "      <td>99.000000</td>\n",
       "      <td>130.000000</td>\n",
       "      <td>35.250000</td>\n",
       "      <td>1.000000</td>\n",
       "      <td>1.000000</td>\n",
       "    </tr>\n",
       "    <tr>\n",
       "      <th>max</th>\n",
       "      <td>194.000000</td>\n",
       "      <td>156.000000</td>\n",
       "      <td>310.000000</td>\n",
       "      <td>159.000000</td>\n",
       "      <td>1.000000</td>\n",
       "      <td>1.000000</td>\n",
       "    </tr>\n",
       "  </tbody>\n",
       "</table>\n",
       "</div>"
      ],
      "text/plain": [
       "       qon_bosimi_speed  qon_bosimi_count  xolesterin         bmi  \\\n",
       "count        104.000000        104.000000  104.000000  104.000000   \n",
       "mean         138.894231         93.788462  124.086538   29.884615   \n",
       "std           14.831689         12.265409   33.220683   24.227605   \n",
       "min          122.000000         76.000000  100.000000   16.000000   \n",
       "25%          131.000000         86.000000  102.250000   19.000000   \n",
       "50%          134.000000         90.000000  111.000000   21.500000   \n",
       "75%          142.000000         99.000000  130.000000   35.250000   \n",
       "max          194.000000        156.000000  310.000000  159.000000   \n",
       "\n",
       "       turmush_tarzi  dastlabki_holat  \n",
       "count     104.000000       104.000000  \n",
       "mean        0.625000         0.557692  \n",
       "std         0.486467         0.499066  \n",
       "min         0.000000         0.000000  \n",
       "25%         0.000000         0.000000  \n",
       "50%         1.000000         1.000000  \n",
       "75%         1.000000         1.000000  \n",
       "max         1.000000         1.000000  "
      ]
     },
     "execution_count": 12,
     "metadata": {},
     "output_type": "execute_result"
    }
   ],
   "source": [
    "df.describe()"
   ]
  },
  {
   "cell_type": "markdown",
   "id": "e35e3daf-160e-4712-96d1-0774815e4920",
   "metadata": {},
   "source": [
    "Ma'lumotlar to'plamida 3 ta toifali o'zgaruvchilar mavjud. Ularni birma-bir o'rganib chiqamiz"
   ]
  },
  {
   "cell_type": "code",
   "execution_count": null,
   "id": "92aa67f2-5b85-40ab-a907-bb830bca9759",
   "metadata": {},
   "outputs": [],
   "source": [
    "status_id o'zgaruvchisini o'rganish"
   ]
  },
  {
   "cell_type": "code",
   "execution_count": null,
   "id": "df82fa4c-ed70-4388-bdc9-352205c64082",
   "metadata": {},
   "outputs": [],
   "source": []
  },
  {
   "cell_type": "code",
   "execution_count": null,
   "id": "358c9b53-1f5f-4a73-a6c3-e773efd61f02",
   "metadata": {},
   "outputs": [],
   "source": []
  }
 ],
 "metadata": {
  "kernelspec": {
   "display_name": "Python 3 (ipykernel)",
   "language": "python",
   "name": "python3"
  },
  "language_info": {
   "codemirror_mode": {
    "name": "ipython",
    "version": 3
   },
   "file_extension": ".py",
   "mimetype": "text/x-python",
   "name": "python",
   "nbconvert_exporter": "python",
   "pygments_lexer": "ipython3",
   "version": "3.12.1"
  }
 },
 "nbformat": 4,
 "nbformat_minor": 5
}
