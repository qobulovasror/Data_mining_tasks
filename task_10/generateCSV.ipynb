{
 "cells": [
  {
   "cell_type": "code",
   "execution_count": 2,
   "id": "f4454aa3-c948-4ac2-aeac-b13b38e5fe33",
   "metadata": {},
   "outputs": [],
   "source": [
    "import pandas as pd\n",
    "import numpy as np\n",
    "import string\n",
    "import random\n",
    "import datetime"
   ]
  },
  {
   "cell_type": "code",
   "execution_count": 3,
   "id": "768c7842-42ec-4a4b-bb62-77c0886d9afe",
   "metadata": {},
   "outputs": [],
   "source": [
    "np.random.seed(42)\n",
    "num_rows = 100\n",
    "num_columns = 6\n",
    "#student_id, age, course, category, date, price"
   ]
  },
  {
   "cell_type": "code",
   "execution_count": 5,
   "id": "e7acad43-3a24-444a-94e7-4002ad72194d",
   "metadata": {},
   "outputs": [],
   "source": [
    "# generate student_id\n",
    "gen_student_id = []\n",
    "perSent = num_rows - (num_rows//3)\n",
    "\n",
    "for x in range(1, perSent+1):\n",
    "    gen_student_id.append(x)\n",
    "\n",
    "for _ in range(0, num_rows - perSent):\n",
    "    gen_student_id.append(random.randint(1, max(gen_student_id)))\n",
    "\n",
    "gen_student_id.sort()"
   ]
  },
  {
   "cell_type": "code",
   "execution_count": 6,
   "id": "eadfffd6-0963-43ec-83fb-0b86806bb455",
   "metadata": {},
   "outputs": [],
   "source": [
    "#generate age\n",
    "gen_ages = [random.randint(16, 30)]\n",
    "\n",
    "def_item = gen_student_id[0]\n",
    "for i in range(1, len(gen_student_id)):\n",
    "    if gen_student_id[i] != def_item:\n",
    "        gen_ages.append(random.randint(16, 30))\n",
    "    else:\n",
    "        gen_ages.append(gen_ages[i-1])\n",
    "    def_item=gen_student_id[i]"
   ]
  },
  {
   "cell_type": "code",
   "execution_count": 7,
   "id": "e7df9479-2e1c-40ae-8b2e-389ec4ce9910",
   "metadata": {},
   "outputs": [],
   "source": [
    "course = [\"HTML, CSS va Js\", \"Python backend\", \"Telegram bot\", \"Kotlin\", \"UI va UX\"]"
   ]
  },
  {
   "cell_type": "code",
   "execution_count": 8,
   "id": "01564a3e-29a9-4adb-9219-224e6c372f78",
   "metadata": {},
   "outputs": [],
   "source": [
    "#generate cource\n",
    "gen_courses = []\n",
    "\n",
    "gen_course = np.random.randint(0, high=len(course), size=num_rows, dtype='l')\n",
    "gen_courses = [course[i] for i in gen_course]\n",
    "\n",
    "\n",
    "old_item = gen_student_id[0]\n",
    "for i in range(1, len(gen_student_id)):\n",
    "    if gen_student_id[i] == old_item and gen_courses[i]==gen_courses[i-1]:\n",
    "        unic_cource = course[:]\n",
    "        unic_cource.remove(gen_courses[i])\n",
    "        gen_courses[i] = random.choice(unic_cource)\n",
    "        \n",
    "    if i > 1 and gen_student_id[i] == old_item and gen_student_id[i] == gen_student_id[i-1]:\n",
    "        if gen_courses[i]!=gen_courses[i-2]:\n",
    "            unic_cource = course[:]\n",
    "            unic_cource.remove(gen_courses[i])\n",
    "            unic_cource.remove(gen_courses[i-1])\n",
    "            gen_courses[i] = random.choice(unic_cource)\n",
    "    old_item=gen_student_id[i]"
   ]
  },
  {
   "cell_type": "code",
   "execution_count": 9,
   "id": "6131b39e-197c-45d0-a47a-f1c3767262e3",
   "metadata": {},
   "outputs": [],
   "source": [
    "#generate caregory\n",
    "def_category = ['Full Stack dasturlash', 'Dizayn', 'Mobile dasturlash']\n",
    "\n",
    "gen_category = []\n",
    "for i in gen_courses:\n",
    "    if i == course[0] or i == course[1] or i == course[2]:\n",
    "        gen_category.append(def_category[0])\n",
    "    elif i == course[3]:\n",
    "        gen_category.append(def_category[2])\n",
    "    else:\n",
    "        gen_category.append(def_category[1])"
   ]
  },
  {
   "cell_type": "code",
   "execution_count": 10,
   "id": "42fe23af-0425-475f-a65a-9c5761a233cf",
   "metadata": {},
   "outputs": [],
   "source": [
    "#generate date\n",
    "base = datetime.datetime.today()\n",
    "date_list = [(base - datetime.timedelta(days=x, hours=random.randint(1, 23))).strftime(\"%d-%m-%Y %H:%M:%S\") for x in range(num_rows)]"
   ]
  },
  {
   "cell_type": "code",
   "execution_count": 11,
   "id": "2256341a-5fed-4429-9836-1090a57a7929",
   "metadata": {},
   "outputs": [],
   "source": [
    "#generate price of cource\n",
    "prices = [100, 180, 140, 200, 150]\n",
    "price_list = []\n",
    "\n",
    "for i in gen_courses:\n",
    "    price_list.append(prices[course.index(i)])"
   ]
  },
  {
   "cell_type": "code",
   "execution_count": 12,
   "id": "b21b260f-d689-4ca5-8418-09d19cad6789",
   "metadata": {},
   "outputs": [],
   "source": [
    "data = np.column_stack((gen_student_id, gen_ages, gen_courses, gen_category, date_list, price_list))\n",
    "\n",
    "column_names = ['student_id', 'age', 'course', 'category', 'date_time', 'price']\n",
    "df = pd.DataFrame(data, columns=column_names)\n",
    "\n",
    "# CSV faylni saqlash\n",
    "df.to_csv('data.csv', index=False)"
   ]
  },
  {
   "cell_type": "code",
   "execution_count": 13,
   "id": "f80dffc8-2761-4783-8ff0-3221336326b2",
   "metadata": {},
   "outputs": [
    {
     "data": {
      "text/html": [
       "<div>\n",
       "<style scoped>\n",
       "    .dataframe tbody tr th:only-of-type {\n",
       "        vertical-align: middle;\n",
       "    }\n",
       "\n",
       "    .dataframe tbody tr th {\n",
       "        vertical-align: top;\n",
       "    }\n",
       "\n",
       "    .dataframe thead th {\n",
       "        text-align: right;\n",
       "    }\n",
       "</style>\n",
       "<table border=\"1\" class=\"dataframe\">\n",
       "  <thead>\n",
       "    <tr style=\"text-align: right;\">\n",
       "      <th></th>\n",
       "      <th>student_id</th>\n",
       "      <th>age</th>\n",
       "      <th>course</th>\n",
       "      <th>category</th>\n",
       "      <th>date_time</th>\n",
       "      <th>price</th>\n",
       "    </tr>\n",
       "  </thead>\n",
       "  <tbody>\n",
       "    <tr>\n",
       "      <th>0</th>\n",
       "      <td>student_id</td>\n",
       "      <td>age</td>\n",
       "      <td>course</td>\n",
       "      <td>category</td>\n",
       "      <td>date_time</td>\n",
       "      <td>price</td>\n",
       "    </tr>\n",
       "    <tr>\n",
       "      <th>1</th>\n",
       "      <td>1</td>\n",
       "      <td>16</td>\n",
       "      <td>Kotlin</td>\n",
       "      <td>Mobile dasturlash</td>\n",
       "      <td>25-03-2024 21:39:34</td>\n",
       "      <td>200</td>\n",
       "    </tr>\n",
       "    <tr>\n",
       "      <th>2</th>\n",
       "      <td>2</td>\n",
       "      <td>18</td>\n",
       "      <td>UI va UX</td>\n",
       "      <td>Dizayn</td>\n",
       "      <td>25-03-2024 00:39:34</td>\n",
       "      <td>150</td>\n",
       "    </tr>\n",
       "    <tr>\n",
       "      <th>3</th>\n",
       "      <td>3</td>\n",
       "      <td>24</td>\n",
       "      <td>Telegram bot</td>\n",
       "      <td>Full Stack dasturlash</td>\n",
       "      <td>24-03-2024 00:39:34</td>\n",
       "      <td>140</td>\n",
       "    </tr>\n",
       "    <tr>\n",
       "      <th>4</th>\n",
       "      <td>4</td>\n",
       "      <td>27</td>\n",
       "      <td>UI va UX</td>\n",
       "      <td>Dizayn</td>\n",
       "      <td>23-03-2024 00:39:34</td>\n",
       "      <td>150</td>\n",
       "    </tr>\n",
       "  </tbody>\n",
       "</table>\n",
       "</div>"
      ],
      "text/plain": [
       "   student_id  age        course               category            date_time  \\\n",
       "0  student_id  age        course               category            date_time   \n",
       "1           1   16        Kotlin      Mobile dasturlash  25-03-2024 21:39:34   \n",
       "2           2   18      UI va UX                 Dizayn  25-03-2024 00:39:34   \n",
       "3           3   24  Telegram bot  Full Stack dasturlash  24-03-2024 00:39:34   \n",
       "4           4   27      UI va UX                 Dizayn  23-03-2024 00:39:34   \n",
       "\n",
       "   price  \n",
       "0  price  \n",
       "1    200  \n",
       "2    150  \n",
       "3    140  \n",
       "4    150  "
      ]
     },
     "execution_count": 13,
     "metadata": {},
     "output_type": "execute_result"
    }
   ],
   "source": [
    "%matplotlib inline\n",
    "base = pd.read_csv('data.csv', sep=',', names=column_names) # csv faylni o'qish\n",
    "base.head()"
   ]
  }
 ],
 "metadata": {
  "kernelspec": {
   "display_name": "Python 3 (ipykernel)",
   "language": "python",
   "name": "python3"
  },
  "language_info": {
   "codemirror_mode": {
    "name": "ipython",
    "version": 3
   },
   "file_extension": ".py",
   "mimetype": "text/x-python",
   "name": "python",
   "nbconvert_exporter": "python",
   "pygments_lexer": "ipython3",
   "version": "3.12.1"
  }
 },
 "nbformat": 4,
 "nbformat_minor": 5
}
