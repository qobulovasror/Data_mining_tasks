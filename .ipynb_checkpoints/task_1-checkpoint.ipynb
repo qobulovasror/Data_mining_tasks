{
 "cells": [
  {
   "cell_type": "markdown",
   "id": "f423fd21-ebfb-4228-88aa-4f0432f58fd6",
   "metadata": {},
   "source": [
    "3.  Ta’lim. O'quv natijalari, davomat va ijtimoiy-iqtisodiy omillarga asoslanib, kursdan-kursga qolish xavfi  ostida bo’lgan talabalarni ma’lumotlarini shakllantiring."
   ]
  },
  {
   "cell_type": "code",
   "execution_count": 41,
   "id": "c7c023e0-74f8-457c-a921-f07df34fa197",
   "metadata": {
    "collapsed": true,
    "jupyter": {
     "outputs_hidden": true
    },
    "scrolled": true
   },
   "outputs": [
    {
     "name": "stdout",
     "output_type": "stream",
     "text": [
      "Requirement already satisfied: pandas in d:\\main programm files\\python\\lib\\site-packages (2.2.0)\n",
      "Requirement already satisfied: numpy<2,>=1.26.0 in d:\\main programm files\\python\\lib\\site-packages (from pandas) (1.26.3)\n",
      "Requirement already satisfied: python-dateutil>=2.8.2 in d:\\main programm files\\python\\lib\\site-packages (from pandas) (2.8.2)\n",
      "Requirement already satisfied: pytz>=2020.1 in d:\\main programm files\\python\\lib\\site-packages (from pandas) (2023.4)\n",
      "Requirement already satisfied: tzdata>=2022.7 in d:\\main programm files\\python\\lib\\site-packages (from pandas) (2023.4)\n",
      "Requirement already satisfied: six>=1.5 in d:\\main programm files\\python\\lib\\site-packages (from python-dateutil>=2.8.2->pandas) (1.16.0)\n",
      "Requirement already satisfied: numpy in d:\\main programm files\\python\\lib\\site-packages (1.26.3)\n"
     ]
    }
   ],
   "source": [
    "#kurubxonalarni o'rnatish\n",
    "!pip install pandas\n",
    "!pip install numpy\n"
   ]
  },
  {
   "cell_type": "code",
   "execution_count": 8,
   "id": "2d35dcbf-bb55-43ac-b69e-e2ae4c8e6be4",
   "metadata": {},
   "outputs": [],
   "source": [
    "#kutubxonalarni yuklash\n",
    "import pandas as pd\n",
    "import numpy as np\n",
    "import string\n",
    "import random"
   ]
  },
  {
   "cell_type": "code",
   "execution_count": 4,
   "id": "668fe19e-7a33-44d1-a37b-7c79cefb5f83",
   "metadata": {},
   "outputs": [],
   "source": [
    "#dastlabki qiymatlarni olish\n",
    "np.random.seed(42)\n",
    "\n",
    "# Ma'lumot ustunlar va satrlar sonini aniqlash\n",
    "num_rows = 1000\n",
    "num_columns = 8"
   ]
  },
  {
   "cell_type": "code",
   "execution_count": 5,
   "id": "f14f411a-ae01-4dc7-bf21-191754e8e425",
   "metadata": {},
   "outputs": [],
   "source": [
    "#chegaraviy ma'lumotlar ro'yxati\n",
    "ijtimoiy = [\"temir daftar\", \"boquvchisini yo'qotgan\", \"chin yetim\", \"yoshlar daftari\", \"ijtimoiy ximoyaga muhtoj oila reestr\", \"oilali\", \"yolg'iz\"]\n",
    "baho = [2,3,4,5]\n",
    "sciences_names = ['Python', 'Kompyuterli nigoh', 'Data mining', 'Web texnologiyalar', 'Suniy intellekt']"
   ]
  },
  {
   "cell_type": "code",
   "execution_count": 47,
   "id": "fc798d90-7df0-4d28-bbdd-9cbff1ea5726",
   "metadata": {},
   "outputs": [],
   "source": [
    "#ismlarni hosil qilish\n",
    "# name_values = [''.join(np.random.choice(list(string.ascii_lowercase), size=5)) for _ in range(num_rows)]\n",
    "\n",
    "import requests\n",
    "import json\n",
    "\n",
    "r = requests.get(\"https://open-apis-lgc1.onrender.com/api/names\")\n",
    "uzb_names = json.loads(r.content)\n",
    "\n",
    "names = [i['name'] for i in uzb_names]\n",
    "name_values_index = np.random.randint(0, high=len(names), size=num_rows, dtype='l')\n",
    "first_names = [''.join(np.random.choice(list(string.ascii_uppercase), size=1)) for _ in range(num_rows)]\n",
    "\n",
    "name_values = [first_names[i]+'. '+names[i] for i in name_values_index]"
   ]
  },
  {
   "cell_type": "code",
   "execution_count": 42,
   "id": "172516bb-4dae-4d90-a6f5-332ffa6f1054",
   "metadata": {},
   "outputs": [],
   "source": [
    "#ijtimoiy holatini hosil qilish \n",
    "social_data_index = np.random.randint(0, high=len(ijtimoiy), size=num_rows, dtype='l')\n",
    "social_data = [ijtimoiy[i] for i in social_data_index]\n",
    "\n",
    "#baholarni hosil qilish\n",
    "# grade_data = np.random.randint(min(baho), high=max(baho), size=(num_rows, len(sciences_names)), dtype='l')\n",
    "grade_data = np.random.choice(baho, p=[0.1, 0.2, 0.4, 0.3], size=num_rows*len(sciences_names))\n",
    "grade_data = np.reshape(grade_data, (num_rows, len(sciences_names)))\n",
    "\n",
    "\n",
    "#davomat hosil qilish\n",
    "# attendance = np.random.randint(0, high=100, size=num_rows, dtype='l')\n",
    "# attendance_data = [str(i)+\"%\" for i in attendance]\n",
    "\n",
    "# attendance_range = [i for i in range(1, 101)]\n",
    "# attendance_prob = []\n",
    "\n",
    "# for i in attendance_range:\n",
    "#     if i>70:\n",
    "#         attendance_prob.append(4)\n",
    "#     else:\n",
    "#         attendance_prob.append(2)\n",
    "\n",
    "\n",
    "# print(len(attendance_range), len(attendance_prob), num_rows)\n",
    "# attendance = random.sample(attendance_range, counts=attendance_prob, k=100)\n",
    "# attendance_data = [str(i)+\"%\" for i in attendance]\n",
    "# attendance_data\n",
    "\n",
    "attendance1 = np.random.randint(70, high=100, size=int(num_rows*0.7), dtype='l')\n",
    "attendance2 = np.random.randint(0, high=70, size=int(num_rows*0.3), dtype='l')\n",
    "\n",
    "attendance = np.hstack((attendance1, attendance2))\n",
    "attendance_data = [str(i)+\"%\" for i in attendance]\n",
    "np.random.shuffle(attendance_data) "
   ]
  },
  {
   "cell_type": "code",
   "execution_count": 50,
   "id": "caafc2ba-fe56-4138-a892-7f3d0cd62b74",
   "metadata": {},
   "outputs": [],
   "source": [
    "#o'rtacha bahosi\n",
    "medium_grates = []\n",
    "for i in grade_data:\n",
    "    medium_grates.append(sum(i)/5)"
   ]
  },
  {
   "cell_type": "code",
   "execution_count": 51,
   "id": "04e0bc16-75b2-4415-930e-3965377e1be5",
   "metadata": {},
   "outputs": [],
   "source": [
    "# Matnli va sonli ma'lumotlarni DataFrame ga birlashtirish\n",
    "data = np.column_stack((name_values, social_data, grade_data, medium_grates ,attendance_data))\n",
    "\n",
    "column_names = [item for sublist in [['F.I.Sh', 'ijtimoiy holati'], sciences_names,[\"o'rtacha bahosi\",\"davomat\"]] for item in sublist]\n",
    "df = pd.DataFrame(data, columns=column_names)\n",
    "\n",
    "# CSV faylni saqlash\n",
    "df.to_csv('random_data_with_text2.csv', index=False)"
   ]
  },
  {
   "cell_type": "code",
   "execution_count": 52,
   "id": "5c29bce9-b8a7-4ce7-be84-0ea77ab56b82",
   "metadata": {},
   "outputs": [
    {
     "data": {
      "text/html": [
       "<div>\n",
       "<style scoped>\n",
       "    .dataframe tbody tr th:only-of-type {\n",
       "        vertical-align: middle;\n",
       "    }\n",
       "\n",
       "    .dataframe tbody tr th {\n",
       "        vertical-align: top;\n",
       "    }\n",
       "\n",
       "    .dataframe thead th {\n",
       "        text-align: right;\n",
       "    }\n",
       "</style>\n",
       "<table border=\"1\" class=\"dataframe\">\n",
       "  <thead>\n",
       "    <tr style=\"text-align: right;\">\n",
       "      <th></th>\n",
       "      <th>F.I.Sh</th>\n",
       "      <th>ijtimoiy holati</th>\n",
       "      <th>Python</th>\n",
       "      <th>Kompyuterli nigoh</th>\n",
       "      <th>Data mining</th>\n",
       "      <th>Web texnologiyalar</th>\n",
       "      <th>Suniy intellekt</th>\n",
       "      <th>o'rtacha bahosi</th>\n",
       "      <th>davomat</th>\n",
       "    </tr>\n",
       "  </thead>\n",
       "  <tbody>\n",
       "    <tr>\n",
       "      <th>0</th>\n",
       "      <td>F.I.Sh</td>\n",
       "      <td>ijtimoiy holati</td>\n",
       "      <td>Python</td>\n",
       "      <td>Kompyuterli nigoh</td>\n",
       "      <td>Data mining</td>\n",
       "      <td>Web texnologiyalar</td>\n",
       "      <td>Suniy intellekt</td>\n",
       "      <td>o'rtacha bahosi</td>\n",
       "      <td>davomat</td>\n",
       "    </tr>\n",
       "    <tr>\n",
       "      <th>1</th>\n",
       "      <td>M. Farruh</td>\n",
       "      <td>oilali</td>\n",
       "      <td>3</td>\n",
       "      <td>4</td>\n",
       "      <td>5</td>\n",
       "      <td>4</td>\n",
       "      <td>4</td>\n",
       "      <td>4.0</td>\n",
       "      <td>89%</td>\n",
       "    </tr>\n",
       "    <tr>\n",
       "      <th>2</th>\n",
       "      <td>U. Abdulvali</td>\n",
       "      <td>chin yetim</td>\n",
       "      <td>4</td>\n",
       "      <td>3</td>\n",
       "      <td>4</td>\n",
       "      <td>4</td>\n",
       "      <td>3</td>\n",
       "      <td>3.6</td>\n",
       "      <td>88%</td>\n",
       "    </tr>\n",
       "    <tr>\n",
       "      <th>3</th>\n",
       "      <td>P. Abduljalil</td>\n",
       "      <td>yolg'iz</td>\n",
       "      <td>4</td>\n",
       "      <td>4</td>\n",
       "      <td>5</td>\n",
       "      <td>4</td>\n",
       "      <td>5</td>\n",
       "      <td>4.4</td>\n",
       "      <td>73%</td>\n",
       "    </tr>\n",
       "    <tr>\n",
       "      <th>4</th>\n",
       "      <td>Q. Javlon</td>\n",
       "      <td>temir daftar</td>\n",
       "      <td>4</td>\n",
       "      <td>5</td>\n",
       "      <td>3</td>\n",
       "      <td>5</td>\n",
       "      <td>2</td>\n",
       "      <td>3.8</td>\n",
       "      <td>89%</td>\n",
       "    </tr>\n",
       "  </tbody>\n",
       "</table>\n",
       "</div>"
      ],
      "text/plain": [
       "          F.I.Sh  ijtimoiy holati  Python  Kompyuterli nigoh  Data mining  \\\n",
       "0         F.I.Sh  ijtimoiy holati  Python  Kompyuterli nigoh  Data mining   \n",
       "1      M. Farruh           oilali       3                  4            5   \n",
       "2   U. Abdulvali       chin yetim       4                  3            4   \n",
       "3  P. Abduljalil          yolg'iz       4                  4            5   \n",
       "4      Q. Javlon     temir daftar       4                  5            3   \n",
       "\n",
       "   Web texnologiyalar  Suniy intellekt  o'rtacha bahosi  davomat  \n",
       "0  Web texnologiyalar  Suniy intellekt  o'rtacha bahosi  davomat  \n",
       "1                   4                4              4.0      89%  \n",
       "2                   4                3              3.6      88%  \n",
       "3                   4                5              4.4      73%  \n",
       "4                   5                2              3.8      89%  "
      ]
     },
     "execution_count": 52,
     "metadata": {},
     "output_type": "execute_result"
    }
   ],
   "source": [
    "# Namoyish etish\n",
    "%matplotlib inline\n",
    "base = pd.read_csv('random_data_with_text2.csv', sep=',', names=column_names) # csv faylni o'qish\n",
    "base.head()\n"
   ]
  }
 ],
 "metadata": {
  "kernelspec": {
   "display_name": "Python 3 (ipykernel)",
   "language": "python",
   "name": "python3"
  },
  "language_info": {
   "codemirror_mode": {
    "name": "ipython",
    "version": 3
   },
   "file_extension": ".py",
   "mimetype": "text/x-python",
   "name": "python",
   "nbconvert_exporter": "python",
   "pygments_lexer": "ipython3",
   "version": "3.12.1"
  }
 },
 "nbformat": 4,
 "nbformat_minor": 5
}
