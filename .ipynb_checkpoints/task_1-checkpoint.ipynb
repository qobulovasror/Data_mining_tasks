{
 "cells": [
  {
   "cell_type": "code",
   "execution_count": 41,
   "id": "c7c023e0-74f8-457c-a921-f07df34fa197",
   "metadata": {
    "scrolled": true
   },
   "outputs": [
    {
     "name": "stdout",
     "output_type": "stream",
     "text": [
      "Requirement already satisfied: pandas in d:\\main programm files\\python\\lib\\site-packages (2.2.0)\n",
      "Requirement already satisfied: numpy<2,>=1.26.0 in d:\\main programm files\\python\\lib\\site-packages (from pandas) (1.26.3)\n",
      "Requirement already satisfied: python-dateutil>=2.8.2 in d:\\main programm files\\python\\lib\\site-packages (from pandas) (2.8.2)\n",
      "Requirement already satisfied: pytz>=2020.1 in d:\\main programm files\\python\\lib\\site-packages (from pandas) (2023.4)\n",
      "Requirement already satisfied: tzdata>=2022.7 in d:\\main programm files\\python\\lib\\site-packages (from pandas) (2023.4)\n",
      "Requirement already satisfied: six>=1.5 in d:\\main programm files\\python\\lib\\site-packages (from python-dateutil>=2.8.2->pandas) (1.16.0)\n",
      "Requirement already satisfied: numpy in d:\\main programm files\\python\\lib\\site-packages (1.26.3)\n"
     ]
    }
   ],
   "source": [
    "#kurubxonalarni o'rnatish\n",
    "!pip install pandas\n",
    "!pip install numpy\n"
   ]
  },
  {
   "cell_type": "code",
   "execution_count": 3,
   "id": "2d35dcbf-bb55-43ac-b69e-e2ae4c8e6be4",
   "metadata": {},
   "outputs": [],
   "source": [
    "#kutubxonalarni yuklash\n",
    "import pandas as pd\n",
    "import numpy as np\n",
    "import matplotlib.pyplot as plt\n",
    "import string"
   ]
  },
  {
   "cell_type": "code",
   "execution_count": 4,
   "id": "668fe19e-7a33-44d1-a37b-7c79cefb5f83",
   "metadata": {},
   "outputs": [],
   "source": [
    "#dastlabki qiymatlarni olish\n",
    "np.random.seed(42)\n",
    "\n",
    "# Ma'lumot ustunlar va satrlar sonini aniqlash\n",
    "num_rows = 1000\n",
    "num_columns = 8"
   ]
  },
  {
   "cell_type": "code",
   "execution_count": 13,
   "id": "f14f411a-ae01-4dc7-bf21-191754e8e425",
   "metadata": {},
   "outputs": [],
   "source": [
    "#chegaraviy ma'lumotlar ro'yxati\n",
    "ijtimoiy = [\"temir daftar\", \"boquvchisini yo'qotgan\", \"chin yetim\", \"yoshlar daftari\", \"ijtimoiy ximoyaga muhtoj oila restor\", \"oliali\", \"yolg'iz\"]\n",
    "baho = [2,3,4,5]\n",
    "sciences_names = ['ijtimoiy qatlami','Python', 'Kompyuterli nigoh', 'Data mining', 'Web texnologiyalar', 'Suniy intellekt']"
   ]
  },
  {
   "cell_type": "code",
   "execution_count": 14,
   "id": "fc798d90-7df0-4d28-bbdd-9cbff1ea5726",
   "metadata": {},
   "outputs": [],
   "source": [
    "#ismlarni hosil qilish\n",
    "name_values = [''.join(np.random.choice(list(string.ascii_lowercase), size=5)) for _ in range(num_rows)]"
   ]
  },
  {
   "cell_type": "code",
   "execution_count": 38,
   "id": "172516bb-4dae-4d90-a6f5-332ffa6f1054",
   "metadata": {},
   "outputs": [],
   "source": [
    "#ijtimoiy holatini hosil qilish \n",
    "social_data_index = np.random.randint(0, high=len(ijtimoiy), size=num_rows, dtype='l')\n",
    "social_data = [ijtimoiy[i] for i in social_data_index]\n",
    "\n",
    "#baholarni hosil qilish\n",
    "grade_data = np.random.randint(min(baho), high=max(baho), size=(num_rows, len(sciences_names)), dtype='l')\n",
    "\n",
    "#davomat hosil qilish\n",
    "attendance = np.random.randint(0, high=100, size=num_rows, dtype='l')\n",
    "attendance_data = [str(i)+\"%\" for i in attendance]"
   ]
  },
  {
   "cell_type": "code",
   "execution_count": 44,
   "id": "04e0bc16-75b2-4415-930e-3965377e1be5",
   "metadata": {},
   "outputs": [],
   "source": [
    "# Matnli va sonli ma'lumotlarni DataFrame ga birlashtirish\n",
    "data = np.column_stack((name_values, social_data, grade_data, attendance_data))\n",
    "\n",
    "column_names = [item for sublist in [['F.I.Sh', 'ijtimoiy holati'], sciences_names,['davomat']] for item in sublist]\n",
    "df = pd.DataFrame(data, columns=column_names)\n",
    "\n",
    "# CSV faylni saqlash\n",
    "df.to_csv('random_data_with_text.csv', index=False)\n",
    "\n",
    "# Namoyish etish\n",
    "#print(df.head())\n"
   ]
  },
  {
   "cell_type": "code",
   "execution_count": 45,
   "id": "5c29bce9-b8a7-4ce7-be84-0ea77ab56b82",
   "metadata": {},
   "outputs": [
    {
     "data": {
      "text/html": [
       "<div>\n",
       "<style scoped>\n",
       "    .dataframe tbody tr th:only-of-type {\n",
       "        vertical-align: middle;\n",
       "    }\n",
       "\n",
       "    .dataframe tbody tr th {\n",
       "        vertical-align: top;\n",
       "    }\n",
       "\n",
       "    .dataframe thead th {\n",
       "        text-align: right;\n",
       "    }\n",
       "</style>\n",
       "<table border=\"1\" class=\"dataframe\">\n",
       "  <thead>\n",
       "    <tr style=\"text-align: right;\">\n",
       "      <th></th>\n",
       "      <th>F.I.Sh</th>\n",
       "      <th>ijtimoiy holati</th>\n",
       "      <th>ijtimoiy qatlami</th>\n",
       "      <th>Python</th>\n",
       "      <th>Kompyuterli nigoh</th>\n",
       "      <th>Data mining</th>\n",
       "      <th>Web texnologiyalar</th>\n",
       "      <th>Suniy intellekt</th>\n",
       "      <th>davomat</th>\n",
       "    </tr>\n",
       "  </thead>\n",
       "  <tbody>\n",
       "    <tr>\n",
       "      <th>0</th>\n",
       "      <td>F.I.Sh</td>\n",
       "      <td>ijtimoiy holati</td>\n",
       "      <td>ijtimoiy qatlami</td>\n",
       "      <td>Python</td>\n",
       "      <td>Kompyuterli nigoh</td>\n",
       "      <td>Data mining</td>\n",
       "      <td>Web texnologiyalar</td>\n",
       "      <td>Suniy intellekt</td>\n",
       "      <td>davomat</td>\n",
       "    </tr>\n",
       "    <tr>\n",
       "      <th>1</th>\n",
       "      <td>lbmyv</td>\n",
       "      <td>oliali</td>\n",
       "      <td>2</td>\n",
       "      <td>3</td>\n",
       "      <td>2</td>\n",
       "      <td>4</td>\n",
       "      <td>2</td>\n",
       "      <td>4</td>\n",
       "      <td>10%</td>\n",
       "    </tr>\n",
       "    <tr>\n",
       "      <th>2</th>\n",
       "      <td>vhspv</td>\n",
       "      <td>boquvchisini yo'qotgan</td>\n",
       "      <td>4</td>\n",
       "      <td>3</td>\n",
       "      <td>3</td>\n",
       "      <td>4</td>\n",
       "      <td>4</td>\n",
       "      <td>3</td>\n",
       "      <td>17%</td>\n",
       "    </tr>\n",
       "    <tr>\n",
       "      <th>3</th>\n",
       "      <td>kwaqf</td>\n",
       "      <td>yolg'iz</td>\n",
       "      <td>4</td>\n",
       "      <td>2</td>\n",
       "      <td>3</td>\n",
       "      <td>2</td>\n",
       "      <td>4</td>\n",
       "      <td>4</td>\n",
       "      <td>7%</td>\n",
       "    </tr>\n",
       "    <tr>\n",
       "      <th>4</th>\n",
       "      <td>vxbyz</td>\n",
       "      <td>ijtimoiy ximoyaga muhtoj oila restor</td>\n",
       "      <td>4</td>\n",
       "      <td>2</td>\n",
       "      <td>4</td>\n",
       "      <td>4</td>\n",
       "      <td>2</td>\n",
       "      <td>3</td>\n",
       "      <td>64%</td>\n",
       "    </tr>\n",
       "  </tbody>\n",
       "</table>\n",
       "</div>"
      ],
      "text/plain": [
       "   F.I.Sh                       ijtimoiy holati  ijtimoiy qatlami  Python  \\\n",
       "0  F.I.Sh                       ijtimoiy holati  ijtimoiy qatlami  Python   \n",
       "1   lbmyv                                oliali                 2       3   \n",
       "2   vhspv                boquvchisini yo'qotgan                 4       3   \n",
       "3   kwaqf                               yolg'iz                 4       2   \n",
       "4   vxbyz  ijtimoiy ximoyaga muhtoj oila restor                 4       2   \n",
       "\n",
       "   Kompyuterli nigoh  Data mining  Web texnologiyalar  Suniy intellekt  \\\n",
       "0  Kompyuterli nigoh  Data mining  Web texnologiyalar  Suniy intellekt   \n",
       "1                  2            4                   2                4   \n",
       "2                  3            4                   4                3   \n",
       "3                  3            2                   4                4   \n",
       "4                  4            4                   2                3   \n",
       "\n",
       "   davomat  \n",
       "0  davomat  \n",
       "1      10%  \n",
       "2      17%  \n",
       "3       7%  \n",
       "4      64%  "
      ]
     },
     "execution_count": 45,
     "metadata": {},
     "output_type": "execute_result"
    }
   ],
   "source": [
    "%matplotlib inline\n",
    "base = pd.read_csv('random_data_with_text.csv', sep=',', names=column_names) # csv faylni o'qish\n",
    "base.head()\n"
   ]
  },
  {
   "cell_type": "code",
   "execution_count": null,
   "id": "1ed8c5e2-f84a-42c7-b734-27a87289164b",
   "metadata": {},
   "outputs": [],
   "source": []
  }
 ],
 "metadata": {
  "kernelspec": {
   "display_name": "Python 3 (ipykernel)",
   "language": "python",
   "name": "python3"
  },
  "language_info": {
   "codemirror_mode": {
    "name": "ipython",
    "version": 3
   },
   "file_extension": ".py",
   "mimetype": "text/x-python",
   "name": "python",
   "nbconvert_exporter": "python",
   "pygments_lexer": "ipython3",
   "version": "3.12.1"
  }
 },
 "nbformat": 4,
 "nbformat_minor": 5
}
