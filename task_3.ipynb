{
 "cells": [
  {
   "cell_type": "code",
   "execution_count": 3,
   "id": "6e758773-ffae-4c82-9dc7-6f618fb3e17d",
   "metadata": {},
   "outputs": [],
   "source": [
    "import pandas as pd\n",
    "import numpy as np\n",
    "import string\n",
    "import csv\n",
    "import random"
   ]
  },
  {
   "cell_type": "markdown",
   "id": "e319b7cd-5ea7-445b-a8f4-60e6b8d7b9df",
   "metadata": {},
   "source": [
    "## 1. CSV faylida yozilgan jadvalning atributlarini chop etingating."
   ]
  },
  {
   "cell_type": "code",
   "execution_count": 1,
   "id": "234a4934-24e9-4717-a187-664bea33452a",
   "metadata": {},
   "outputs": [
    {
     "ename": "NameError",
     "evalue": "name 'pd' is not defined",
     "output_type": "error",
     "traceback": [
      "\u001b[1;31m---------------------------------------------------------------------------\u001b[0m",
      "\u001b[1;31mNameError\u001b[0m                                 Traceback (most recent call last)",
      "Cell \u001b[1;32mIn[1], line 2\u001b[0m\n\u001b[0;32m      1\u001b[0m get_ipython()\u001b[38;5;241m.\u001b[39mrun_line_magic(\u001b[38;5;124m'\u001b[39m\u001b[38;5;124mmatplotlib\u001b[39m\u001b[38;5;124m'\u001b[39m, \u001b[38;5;124m'\u001b[39m\u001b[38;5;124minline\u001b[39m\u001b[38;5;124m'\u001b[39m)\n\u001b[1;32m----> 2\u001b[0m base \u001b[38;5;241m=\u001b[39m \u001b[43mpd\u001b[49m\u001b[38;5;241m.\u001b[39mread_csv(\u001b[38;5;124m'\u001b[39m\u001b[38;5;124mdata.csv\u001b[39m\u001b[38;5;124m'\u001b[39m) \u001b[38;5;66;03m# csv faylni o'qish\u001b[39;00m\n\u001b[0;32m      3\u001b[0m \u001b[38;5;28;01mfor\u001b[39;00m i \u001b[38;5;129;01min\u001b[39;00m base\u001b[38;5;241m.\u001b[39mkeys():\n\u001b[0;32m      4\u001b[0m     \u001b[38;5;28mprint\u001b[39m(i)\n",
      "\u001b[1;31mNameError\u001b[0m: name 'pd' is not defined"
     ]
    }
   ],
   "source": [
    "%matplotlib inline\n",
    "base = pd.read_csv('random_data_with_text2.csv') # csv faylni o'qish\n",
    "for i in base.keys():\n",
    "    print(i)"
   ]
  },
  {
   "cell_type": "markdown",
   "id": "6f42893c-4f1b-4562-b231-7a65755802a1",
   "metadata": {},
   "source": [
    "## 2. CSV faylida hosil qilingan jadvalning tasodifiy 10 ta obyektini chop eting"
   ]
  },
  {
   "cell_type": "code",
   "execution_count": 81,
   "id": "34bf1327-de7f-48ec-a4d2-538254d9d45e",
   "metadata": {},
   "outputs": [
    {
     "data": {
      "text/html": [
       "<div>\n",
       "<style scoped>\n",
       "    .dataframe tbody tr th:only-of-type {\n",
       "        vertical-align: middle;\n",
       "    }\n",
       "\n",
       "    .dataframe tbody tr th {\n",
       "        vertical-align: top;\n",
       "    }\n",
       "\n",
       "    .dataframe thead th {\n",
       "        text-align: right;\n",
       "    }\n",
       "</style>\n",
       "<table border=\"1\" class=\"dataframe\">\n",
       "  <thead>\n",
       "    <tr style=\"text-align: right;\">\n",
       "      <th></th>\n",
       "      <th>F.I.Sh</th>\n",
       "      <th>ijtimoiy holati</th>\n",
       "      <th>Python</th>\n",
       "      <th>Kompyuterli nigoh</th>\n",
       "      <th>Data mining</th>\n",
       "      <th>Web texnologiyalar</th>\n",
       "      <th>Suniy intellekt</th>\n",
       "      <th>o'rtacha bahosi</th>\n",
       "      <th>davomat</th>\n",
       "    </tr>\n",
       "  </thead>\n",
       "  <tbody>\n",
       "    <tr>\n",
       "      <th>0</th>\n",
       "      <td>ngqlt</td>\n",
       "      <td>chin yetim</td>\n",
       "      <td>2</td>\n",
       "      <td>3</td>\n",
       "      <td>3</td>\n",
       "      <td>2</td>\n",
       "      <td>3</td>\n",
       "      <td>2.6</td>\n",
       "      <td>92%</td>\n",
       "    </tr>\n",
       "    <tr>\n",
       "      <th>1</th>\n",
       "      <td>dmkca</td>\n",
       "      <td>chin yetim</td>\n",
       "      <td>2</td>\n",
       "      <td>4</td>\n",
       "      <td>2</td>\n",
       "      <td>3</td>\n",
       "      <td>3</td>\n",
       "      <td>2.8</td>\n",
       "      <td>38%</td>\n",
       "    </tr>\n",
       "    <tr>\n",
       "      <th>2</th>\n",
       "      <td>slpkj</td>\n",
       "      <td>yolg'iz</td>\n",
       "      <td>4</td>\n",
       "      <td>2</td>\n",
       "      <td>3</td>\n",
       "      <td>3</td>\n",
       "      <td>3</td>\n",
       "      <td>3.0</td>\n",
       "      <td>20%</td>\n",
       "    </tr>\n",
       "    <tr>\n",
       "      <th>3</th>\n",
       "      <td>odmlm</td>\n",
       "      <td>temir daftar</td>\n",
       "      <td>3</td>\n",
       "      <td>3</td>\n",
       "      <td>3</td>\n",
       "      <td>4</td>\n",
       "      <td>4</td>\n",
       "      <td>3.4</td>\n",
       "      <td>64%</td>\n",
       "    </tr>\n",
       "    <tr>\n",
       "      <th>4</th>\n",
       "      <td>mkkpk</td>\n",
       "      <td>ijtimoiy ximoyaga muhtoj oila reestr</td>\n",
       "      <td>3</td>\n",
       "      <td>2</td>\n",
       "      <td>4</td>\n",
       "      <td>3</td>\n",
       "      <td>3</td>\n",
       "      <td>3.0</td>\n",
       "      <td>65%</td>\n",
       "    </tr>\n",
       "    <tr>\n",
       "      <th>5</th>\n",
       "      <td>gtokh</td>\n",
       "      <td>ijtimoiy ximoyaga muhtoj oila reestr</td>\n",
       "      <td>2</td>\n",
       "      <td>4</td>\n",
       "      <td>2</td>\n",
       "      <td>4</td>\n",
       "      <td>4</td>\n",
       "      <td>3.2</td>\n",
       "      <td>61%</td>\n",
       "    </tr>\n",
       "    <tr>\n",
       "      <th>6</th>\n",
       "      <td>slhhu</td>\n",
       "      <td>ijtimoiy ximoyaga muhtoj oila reestr</td>\n",
       "      <td>4</td>\n",
       "      <td>3</td>\n",
       "      <td>3</td>\n",
       "      <td>3</td>\n",
       "      <td>3</td>\n",
       "      <td>3.2</td>\n",
       "      <td>21%</td>\n",
       "    </tr>\n",
       "    <tr>\n",
       "      <th>7</th>\n",
       "      <td>qmphs</td>\n",
       "      <td>yoshlar daftari</td>\n",
       "      <td>2</td>\n",
       "      <td>4</td>\n",
       "      <td>3</td>\n",
       "      <td>3</td>\n",
       "      <td>4</td>\n",
       "      <td>3.2</td>\n",
       "      <td>94%</td>\n",
       "    </tr>\n",
       "    <tr>\n",
       "      <th>8</th>\n",
       "      <td>psdcq</td>\n",
       "      <td>yolg'iz</td>\n",
       "      <td>3</td>\n",
       "      <td>4</td>\n",
       "      <td>3</td>\n",
       "      <td>2</td>\n",
       "      <td>2</td>\n",
       "      <td>2.8</td>\n",
       "      <td>22%</td>\n",
       "    </tr>\n",
       "    <tr>\n",
       "      <th>9</th>\n",
       "      <td>yaohk</td>\n",
       "      <td>ijtimoiy ximoyaga muhtoj oila reestr</td>\n",
       "      <td>2</td>\n",
       "      <td>4</td>\n",
       "      <td>3</td>\n",
       "      <td>3</td>\n",
       "      <td>4</td>\n",
       "      <td>3.2</td>\n",
       "      <td>70%</td>\n",
       "    </tr>\n",
       "  </tbody>\n",
       "</table>\n",
       "</div>"
      ],
      "text/plain": [
       "  F.I.Sh                       ijtimoiy holati  Python  Kompyuterli nigoh  \\\n",
       "0  ngqlt                            chin yetim       2                  3   \n",
       "1  dmkca                            chin yetim       2                  4   \n",
       "2  slpkj                               yolg'iz       4                  2   \n",
       "3  odmlm                          temir daftar       3                  3   \n",
       "4  mkkpk  ijtimoiy ximoyaga muhtoj oila reestr       3                  2   \n",
       "5  gtokh  ijtimoiy ximoyaga muhtoj oila reestr       2                  4   \n",
       "6  slhhu  ijtimoiy ximoyaga muhtoj oila reestr       4                  3   \n",
       "7  qmphs                       yoshlar daftari       2                  4   \n",
       "8  psdcq                               yolg'iz       3                  4   \n",
       "9  yaohk  ijtimoiy ximoyaga muhtoj oila reestr       2                  4   \n",
       "\n",
       "   Data mining  Web texnologiyalar  Suniy intellekt  o'rtacha bahosi davomat  \n",
       "0            3                   2                3              2.6     92%  \n",
       "1            2                   3                3              2.8     38%  \n",
       "2            3                   3                3              3.0     20%  \n",
       "3            3                   4                4              3.4     64%  \n",
       "4            4                   3                3              3.0     65%  \n",
       "5            2                   4                4              3.2     61%  \n",
       "6            3                   3                3              3.2     21%  \n",
       "7            3                   3                4              3.2     94%  \n",
       "8            3                   2                2              2.8     22%  \n",
       "9            3                   3                4              3.2     70%  "
      ]
     },
     "execution_count": 81,
     "metadata": {},
     "output_type": "execute_result"
    }
   ],
   "source": [
    "df = pd.read_csv('random_data_with_text2.csv')\n",
    "rand_list_num = np.random.randint(0, high=1000, size=(10, 1), dtype='l')\n",
    "random_list = [ df.values[i][0] for i in rand_list_num]\n",
    "df2 = pd.DataFrame(data=random_list, columns=base.keys())\n",
    "df2\n"
   ]
  },
  {
   "cell_type": "markdown",
   "id": "3a054b3a-daf8-4114-9dd5-e0a4edc0b3f2",
   "metadata": {},
   "source": [
    "## 3. CSV faylida hosil qilingan jadvalning har bir atributi uchun o’zgaruvchilarni aniqlang"
   ]
  },
  {
   "cell_type": "code",
   "execution_count": 165,
   "id": "b56317fb-386b-4668-9c77-d7e17bead98d",
   "metadata": {},
   "outputs": [
    {
     "name": "stdout",
     "output_type": "stream",
     "text": [
      "F.I.Sh o'zgaruvchilari:  ['awhfe', 'oqkuz', 'cshed', 'bawuq', 'uremd', 'wwzkj', 'fymub', 'morsa', 'xeclh', 'tjzsz']\n"
     ]
    }
   ],
   "source": [
    "#F.I.Sh holati bo'yicha o'zgaruvchilar\n",
    "duplicate_ijtimoiy = list(set(df[\"F.I.Sh\"].to_list()))\n",
    "print(\"F.I.Sh o'zgaruvchilari: \", duplicate_ijtimoiy[:10])"
   ]
  },
  {
   "cell_type": "code",
   "execution_count": 162,
   "id": "2213026e-e971-4880-8363-9d1739cd40b3",
   "metadata": {},
   "outputs": [
    {
     "name": "stdout",
     "output_type": "stream",
     "text": [
      "ijtimoiy holati o'zgaruvchilari:  ['temir daftar', \"boquvchisini yo'qotgan\", \"yolg'iz\", 'yoshlar daftari', 'oilali', 'chin yetim', 'ijtimoiy ximoyaga muhtoj oila reestr']\n"
     ]
    }
   ],
   "source": [
    "#ijtimoiy holati bo'yicha o'zgaruvchilar\n",
    "duplicate_ijtimoiy = list(set(df[\"ijtimoiy holati\"].to_list()))\n",
    "print(\"ijtimoiy holati o'zgaruvchilari: \", duplicate_ijtimoiy)"
   ]
  },
  {
   "cell_type": "code",
   "execution_count": 149,
   "id": "8b4ef6d5-70fe-477d-b657-39351e264823",
   "metadata": {},
   "outputs": [
    {
     "data": {
      "text/plain": [
       "[2, 3, 4]"
      ]
     },
     "execution_count": 149,
     "metadata": {},
     "output_type": "execute_result"
    }
   ],
   "source": [
    "#baholar bo'yicha o'zgaruvchilar\n",
    "duplicate_ijtimoiy = list(set(df[\"Suniy intellekt\"].to_list()))\n",
    "duplicate_ijtimoiy"
   ]
  },
  {
   "cell_type": "code",
   "execution_count": 169,
   "id": "bbb5cd31-e81c-462c-8983-7fa22b26809d",
   "metadata": {},
   "outputs": [
    {
     "name": "stdout",
     "output_type": "stream",
     "text": [
      "O'rtacha bahosi bo'yicha o'zgaruvchilari:  [2.4, 3.0, 3.2, 3.4, 2.6, 3.6, 2.8, 3.8, 2.2, 4.0]\n"
     ]
    }
   ],
   "source": [
    "#o'rtacha bahosi bo'yicha o'zgaruvchilar\n",
    "duplicate_ijtimoiy = list(set(df[\"o'rtacha bahosi\"].to_list()))\n",
    "print(\"O'rtacha bahosi bo'yicha o'zgaruvchilari: \", duplicate_ijtimoiy[:10])"
   ]
  },
  {
   "cell_type": "code",
   "execution_count": 168,
   "id": "7dd33752-3e68-41a3-9d04-0f96077675f1",
   "metadata": {},
   "outputs": [
    {
     "name": "stdout",
     "output_type": "stream",
     "text": [
      "davomat bo'yicha o'zgaruvchilari:  ['92%', '44%', '42%', '15%', '14%', '94%', '56%', '21%', '81%', '46%']\n"
     ]
    }
   ],
   "source": [
    "#davomat bo'yicha o'zgaruvchilar\n",
    "duplicate_ijtimoiy = list(set(df[\"davomat\"].to_list()))\n",
    "print(\"davomat bo'yicha o'zgaruvchilari: \", duplicate_ijtimoiy[:10])"
   ]
  },
  {
   "cell_type": "markdown",
   "id": "469b1167-005f-4cbc-8aec-e87fff61d04b",
   "metadata": {},
   "source": [
    "## 4. CSV faylida hosil qilingan jadvalning har bir atribut uchun umumiy populyatsiyani aniqlang.\n",
    "* baholar\n",
    "* o'rtacha bahosi\n",
    "* davomat"
   ]
  },
  {
   "cell_type": "code",
   "execution_count": 160,
   "id": "4b408f37-1595-4507-9554-c2a49ad8f74f",
   "metadata": {},
   "outputs": [
    {
     "name": "stdout",
     "output_type": "stream",
     "text": [
      "Fanlar bahosi bo'yicha maximal qiymat: 4\n",
      "Fanlar bahosi bo'yicha minimum qiymat: 2\n",
      "\n",
      "\n",
      "O'rtacha bahosi\t bo'yicha maximal qiymat: 4.0\n",
      "O'rtacha bahosi\t bo'yicha minimum qiymat: 2.0\n",
      "\n",
      "\n",
      "Davomat bo'yicha maximal qiymat: 99%\n",
      "Davomat bo'yicha minimum qiymat: 0%\n",
      "\n",
      "\n"
     ]
    }
   ],
   "source": [
    "print(\"Fanlar bahosi bo'yicha maximal qiymat:\", max(df[\"Python\"].to_list()))\n",
    "print(\"Fanlar bahosi bo'yicha minimum qiymat:\", min(df[\"Python\"].to_list()))\n",
    "print(\"\\n\")\n",
    "print(\"O'rtacha bahosi\t bo'yicha maximal qiymat:\", max(df[\"o'rtacha bahosi\"].to_list()))\n",
    "print(\"O'rtacha bahosi\t bo'yicha minimum qiymat:\", min(df[\"o'rtacha bahosi\"].to_list()))\n",
    "print(\"\\n\")\n",
    "print(\"Davomat bo'yicha maximal qiymat:\", max(df[\"davomat\"].to_list()))\n",
    "print(\"Davomat bo'yicha minimum qiymat:\", min(df[\"davomat\"].to_list()))\n",
    "print(\"\\n\")"
   ]
  },
  {
   "cell_type": "markdown",
   "id": "6e40e90b-82ac-446f-bb6a-a54cb8f0f2d1",
   "metadata": {},
   "source": [
    "## 5. CVS faylida hosil qilingan jadvalga asoslanib kamida 3 tadan gipotezalar bering\n",
    "\n",
    "* Baho ko'rsatkichi juda past va ijtimoiy holati yaxshi bo'lgan talaba kursdan qoladi\n",
    "* Davomat past va ijtimoiy holati yaxshi bo'lgan talaba kursdan qoladi\n",
    "* Davomat past va ijtimoiy holati yaxshi bo'lmagan bo'lgan talaba kursdan qolmaydi\n",
    "* Baho ko'rsatkichi o'rtacha va ijtimoiy holati yaxshi bo'lmagan talaba kursdan qolmaydi"
   ]
  },
  {
   "cell_type": "markdown",
   "id": "e624ae18-4ee6-4b62-a672-d68807a07d55",
   "metadata": {},
   "source": [
    "## 6. CVS faylida hosil qilingan jadvalning har bir ustunini diskret va uzluksiz ma’lumotlarga ajrating.\n",
    "\n",
    "1) FISH - diskret\n",
    "2) Ijtimoiy holati - diskret\n",
    "3) Baholar - uzluksiz\n",
    "4) O'rtacha bahosi - uzluksiz\n",
    "5) Davomat - diskret\n"
   ]
  },
  {
   "cell_type": "markdown",
   "id": "9c70701f-c138-4998-9fda-65c4ff24a966",
   "metadata": {},
   "source": [
    " ## 7.  CVS faylida hosil qilingan jadvalning har bir ustunini shkalalar bo’yicha ajrating.\n",
    "\n",
    " 1. F.I.SH - **nominal shkala**\n",
    " 2. ijtimoiy holati - **nominal shkala**\n",
    " 3. Fanlar dan olingan baholar - **Intervalli shkala** \n",
    " 4. o'rtacha bahosi - **Nisbiy shkala**\n",
    " 5. davomat - **Intervalli shkala**"
   ]
  }
 ],
 "metadata": {
  "kernelspec": {
   "display_name": "Python 3 (ipykernel)",
   "language": "python",
   "name": "python3"
  },
  "language_info": {
   "codemirror_mode": {
    "name": "ipython",
    "version": 3
   },
   "file_extension": ".py",
   "mimetype": "text/x-python",
   "name": "python",
   "nbconvert_exporter": "python",
   "pygments_lexer": "ipython3",
   "version": "3.12.1"
  }
 },
 "nbformat": 4,
 "nbformat_minor": 5
}
