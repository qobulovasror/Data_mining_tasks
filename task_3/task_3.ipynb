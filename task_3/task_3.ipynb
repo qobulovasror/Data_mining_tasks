{
 "cells": [
  {
   "cell_type": "code",
   "execution_count": 3,
   "id": "6e758773-ffae-4c82-9dc7-6f618fb3e17d",
   "metadata": {},
   "outputs": [],
   "source": [
    "import pandas as pd\n",
    "import numpy as np\n",
    "import string\n",
    "import csv\n",
    "import random"
   ]
  },
  {
   "cell_type": "markdown",
   "id": "e319b7cd-5ea7-445b-a8f4-60e6b8d7b9df",
   "metadata": {},
   "source": [
    "## 1. CSV faylida yozilgan jadvalning atributlarini chop etingating."
   ]
  },
  {
   "cell_type": "code",
   "execution_count": 4,
   "id": "234a4934-24e9-4717-a187-664bea33452a",
   "metadata": {},
   "outputs": [
    {
     "name": "stdout",
     "output_type": "stream",
     "text": [
      "ma’lumotlar to’plamining atributlar:\n",
      "F.I.Sh\n",
      "ijtimoiy holati\n",
      "Python\n",
      "Kompyuterli nigoh\n",
      "Data mining\n",
      "Web texnologiyalar\n",
      "Suniy intellekt\n",
      "o'rtacha bahosi\n",
      "davomat\n"
     ]
    }
   ],
   "source": [
    "%matplotlib inline\n",
    "base = pd.read_csv('random_data_with_text2.csv') # csv faylni o'qish\n",
    "print('ma’lumotlar to’plamining atributlar:')\n",
    "for i in base.keys():\n",
    "    print(i)"
   ]
  },
  {
   "cell_type": "markdown",
   "id": "6f42893c-4f1b-4562-b231-7a65755802a1",
   "metadata": {},
   "source": [
    "## 2. CSV faylida hosil qilingan jadvalning tasodifiy 10 ta obyektini chop eting"
   ]
  },
  {
   "cell_type": "code",
   "execution_count": 14,
   "id": "34bf1327-de7f-48ec-a4d2-538254d9d45e",
   "metadata": {},
   "outputs": [
    {
     "data": {
      "text/html": [
       "<div>\n",
       "<style scoped>\n",
       "    .dataframe tbody tr th:only-of-type {\n",
       "        vertical-align: middle;\n",
       "    }\n",
       "\n",
       "    .dataframe tbody tr th {\n",
       "        vertical-align: top;\n",
       "    }\n",
       "\n",
       "    .dataframe thead th {\n",
       "        text-align: right;\n",
       "    }\n",
       "</style>\n",
       "<table border=\"1\" class=\"dataframe\">\n",
       "  <thead>\n",
       "    <tr style=\"text-align: right;\">\n",
       "      <th></th>\n",
       "      <th>F.I.Sh</th>\n",
       "      <th>ijtimoiy holati</th>\n",
       "      <th>Python</th>\n",
       "      <th>Kompyuterli nigoh</th>\n",
       "      <th>Data mining</th>\n",
       "      <th>Web texnologiyalar</th>\n",
       "      <th>Suniy intellekt</th>\n",
       "      <th>o'rtacha bahosi</th>\n",
       "      <th>davomat</th>\n",
       "    </tr>\n",
       "  </thead>\n",
       "  <tbody>\n",
       "    <tr>\n",
       "      <th>0</th>\n",
       "      <td>C. Bahriddin</td>\n",
       "      <td>boquvchisini yo'qotgan</td>\n",
       "      <td>5</td>\n",
       "      <td>5</td>\n",
       "      <td>5</td>\n",
       "      <td>4</td>\n",
       "      <td>5</td>\n",
       "      <td>4.8</td>\n",
       "      <td>98%</td>\n",
       "    </tr>\n",
       "    <tr>\n",
       "      <th>1</th>\n",
       "      <td>P. Miron, Miran</td>\n",
       "      <td>temir daftar</td>\n",
       "      <td>3</td>\n",
       "      <td>4</td>\n",
       "      <td>5</td>\n",
       "      <td>5</td>\n",
       "      <td>4</td>\n",
       "      <td>4.2</td>\n",
       "      <td>23%</td>\n",
       "    </tr>\n",
       "    <tr>\n",
       "      <th>2</th>\n",
       "      <td>N. Mashxura</td>\n",
       "      <td>temir daftar</td>\n",
       "      <td>5</td>\n",
       "      <td>5</td>\n",
       "      <td>4</td>\n",
       "      <td>4</td>\n",
       "      <td>5</td>\n",
       "      <td>4.6</td>\n",
       "      <td>64%</td>\n",
       "    </tr>\n",
       "    <tr>\n",
       "      <th>3</th>\n",
       "      <td>G. Shoira</td>\n",
       "      <td>chin yetim</td>\n",
       "      <td>5</td>\n",
       "      <td>5</td>\n",
       "      <td>3</td>\n",
       "      <td>5</td>\n",
       "      <td>5</td>\n",
       "      <td>4.6</td>\n",
       "      <td>35%</td>\n",
       "    </tr>\n",
       "    <tr>\n",
       "      <th>4</th>\n",
       "      <td>H. Mansur</td>\n",
       "      <td>yoshlar daftari</td>\n",
       "      <td>3</td>\n",
       "      <td>5</td>\n",
       "      <td>2</td>\n",
       "      <td>4</td>\n",
       "      <td>2</td>\n",
       "      <td>3.2</td>\n",
       "      <td>96%</td>\n",
       "    </tr>\n",
       "    <tr>\n",
       "      <th>5</th>\n",
       "      <td>W. Said</td>\n",
       "      <td>yoshlar daftari</td>\n",
       "      <td>4</td>\n",
       "      <td>4</td>\n",
       "      <td>3</td>\n",
       "      <td>4</td>\n",
       "      <td>4</td>\n",
       "      <td>3.8</td>\n",
       "      <td>87%</td>\n",
       "    </tr>\n",
       "    <tr>\n",
       "      <th>6</th>\n",
       "      <td>O. Abror</td>\n",
       "      <td>temir daftar</td>\n",
       "      <td>4</td>\n",
       "      <td>3</td>\n",
       "      <td>3</td>\n",
       "      <td>5</td>\n",
       "      <td>5</td>\n",
       "      <td>4.0</td>\n",
       "      <td>16%</td>\n",
       "    </tr>\n",
       "    <tr>\n",
       "      <th>7</th>\n",
       "      <td>B. Abdulxamid</td>\n",
       "      <td>oilali</td>\n",
       "      <td>4</td>\n",
       "      <td>5</td>\n",
       "      <td>2</td>\n",
       "      <td>4</td>\n",
       "      <td>3</td>\n",
       "      <td>3.6</td>\n",
       "      <td>11%</td>\n",
       "    </tr>\n",
       "    <tr>\n",
       "      <th>8</th>\n",
       "      <td>D. Shamsiddin</td>\n",
       "      <td>oilali</td>\n",
       "      <td>5</td>\n",
       "      <td>5</td>\n",
       "      <td>2</td>\n",
       "      <td>3</td>\n",
       "      <td>4</td>\n",
       "      <td>3.8</td>\n",
       "      <td>88%</td>\n",
       "    </tr>\n",
       "    <tr>\n",
       "      <th>9</th>\n",
       "      <td>Y. Rafid</td>\n",
       "      <td>yolg'iz</td>\n",
       "      <td>3</td>\n",
       "      <td>2</td>\n",
       "      <td>4</td>\n",
       "      <td>3</td>\n",
       "      <td>5</td>\n",
       "      <td>3.4</td>\n",
       "      <td>78%</td>\n",
       "    </tr>\n",
       "  </tbody>\n",
       "</table>\n",
       "</div>"
      ],
      "text/plain": [
       "            F.I.Sh         ijtimoiy holati  Python  Kompyuterli nigoh  \\\n",
       "0     C. Bahriddin  boquvchisini yo'qotgan       5                  5   \n",
       "1  P. Miron, Miran            temir daftar       3                  4   \n",
       "2      N. Mashxura            temir daftar       5                  5   \n",
       "3        G. Shoira              chin yetim       5                  5   \n",
       "4        H. Mansur         yoshlar daftari       3                  5   \n",
       "5          W. Said         yoshlar daftari       4                  4   \n",
       "6         O. Abror            temir daftar       4                  3   \n",
       "7    B. Abdulxamid                  oilali       4                  5   \n",
       "8    D. Shamsiddin                  oilali       5                  5   \n",
       "9         Y. Rafid                 yolg'iz       3                  2   \n",
       "\n",
       "   Data mining  Web texnologiyalar  Suniy intellekt  o'rtacha bahosi davomat  \n",
       "0            5                   4                5              4.8     98%  \n",
       "1            5                   5                4              4.2     23%  \n",
       "2            4                   4                5              4.6     64%  \n",
       "3            3                   5                5              4.6     35%  \n",
       "4            2                   4                2              3.2     96%  \n",
       "5            3                   4                4              3.8     87%  \n",
       "6            3                   5                5              4.0     16%  \n",
       "7            2                   4                3              3.6     11%  \n",
       "8            2                   3                4              3.8     88%  \n",
       "9            4                   3                5              3.4     78%  "
      ]
     },
     "execution_count": 14,
     "metadata": {},
     "output_type": "execute_result"
    }
   ],
   "source": [
    "df = pd.read_csv('random_data_with_text2.csv')\n",
    "rand_list_num = np.random.randint(0, high=1000, size=(10, 1), dtype='l')\n",
    "random_list = [ df.values[i][0] for i in rand_list_num]\n",
    "df2 = pd.DataFrame(data=random_list, columns=base.keys())\n",
    "df2\n"
   ]
  },
  {
   "cell_type": "markdown",
   "id": "3a054b3a-daf8-4114-9dd5-e0a4edc0b3f2",
   "metadata": {},
   "source": [
    "## 3. CSV faylida hosil qilingan jadvalning har bir atributi uchun o’zgaruvchilarni aniqlang"
   ]
  },
  {
   "cell_type": "code",
   "execution_count": null,
   "id": "de9abcd0-5eba-428f-b078-5cd71fe60138",
   "metadata": {},
   "outputs": [],
   "source": []
  },
  {
   "cell_type": "code",
   "execution_count": 28,
   "id": "b56317fb-386b-4668-9c77-d7e17bead98d",
   "metadata": {},
   "outputs": [
    {
     "name": "stdout",
     "output_type": "stream",
     "text": [
      "## O'zgatuvchilarni aniqlash\n",
      "F.I.Sh o'zgaruvchilari (>10):  ['K. Zamira', 'P. Abdulhakim', 'Z. Nosir, Nosirjon', 'C. Umid', 'H. Muqaddas', 'Y. Mardon', 'R. Nusratulloh', 'O. Madid', 'W. Moxinur', 'L. Afzuna']\n",
      "\n",
      "ijtimoiy holati o'zgaruvchilari:  ['chin yetim', \"boquvchisini yo'qotgan\", 'oilali', \"yolg'iz\", 'temir daftar', 'ijtimoiy ximoyaga muhtoj oila reestr', 'yoshlar daftari']\n",
      "\n",
      "Har bir fan baholarining o'zgaruvchilari:  [2, 3, 4, 5]\n",
      "\n",
      "O'rtacha bahosi bo'yicha o'zgaruvchilari (>10):  [2.8, 3.8, 4.2, 3.6, 4.0, 4.4, 3.4, 3.0, 4.6, 4.8]\n",
      "\n",
      "davomat bo'yicha o'zgaruvchilari (>10):  ['chin yetim', \"boquvchisini yo'qotgan\", 'oilali', \"yolg'iz\", 'temir daftar', 'ijtimoiy ximoyaga muhtoj oila reestr', 'yoshlar daftari']\n"
     ]
    }
   ],
   "source": [
    "#F.I.Sh holati bo'yicha o'zgaruvchilar\n",
    "print(\"O'zgatuvchilarni aniqlash\")\n",
    "duplicate_name = list(set(df[\"F.I.Sh\"].to_list()))\n",
    "print(\"F.I.Sh o'zgaruvchilari (>10): \", duplicate_name[:10])\n",
    "\n",
    "duplicate_ijtimoiy = list(set(df[\"ijtimoiy holati\"].to_list()))\n",
    "print(\"\\nijtimoiy holati o'zgaruvchilari: \", duplicate_ijtimoiy)\n",
    "\n",
    "duplicate_grade1 = list(set(df[\"Suniy intellekt\"].to_list()))\n",
    "print(\"\\nHar bir fan baholarining o'zgaruvchilari: \", duplicate_grade1)\n",
    "\n",
    "duplicate_grade = list(set(df[\"o'rtacha bahosi\"].to_list()))\n",
    "print(\"\\nO'rtacha bahosi bo'yicha o'zgaruvchilari (>10): \", duplicate_grade[:10])\n",
    "\n",
    "duplicate_davomat = list(set(df[\"davomat\"].to_list()))\n",
    "print(\"\\ndavomat bo'yicha o'zgaruvchilari (>10): \", duplicate_ijtimoiy[:10])"
   ]
  },
  {
   "cell_type": "markdown",
   "id": "c06293ba-7f16-4898-849c-820c8be17436",
   "metadata": {},
   "source": [
    "## 3.1.O'zgatuvchilarni aniqlash\r\n",
    "F.I.Sh o'zgaruvchilari (>10):  ['K. Zamira', 'P. Abdulhakim', 'Z. Nosir, Nosirjon', 'C. Umid', 'H. Muqaddas', 'Y. Mardon', 'R. Nusratulloh', 'O. Madid', 'W. Moxinur', 'L. Afzuna']\r\n",
    "\r\n",
    "ijtimoiy holati o'zgaruvchilari:  ['chin yetim', \"boquvchisini yo'qotgan\", 'oilali', \"yolg'iz\", 'temir daftar', 'ijtimoiy ximoyaga muhtoj oila reestr', 'yoshlar daftari']\r\n",
    "\r\n",
    "Har bir fan baholarining o'zgaruvchilari:  [2, 3, 4, 5]\r\n",
    "\r\n",
    "O'rtacha bahosi bo'yicha o'zgaruvchilari (>10):  [2.8, 3.8, 4.2, 3.6, 4.0, 4.4, 3.4, 3.0, 4.6, 4.8]\r\n",
    "\r\n",
    "davomat bo'yicha o'zgaruvchilari (>10):  ['chin yetim', \"boquvchisini yo'qotgan\", 'oilali', \"yolg'iz\", 'temir daftar', 'ijtimoiy ximoyaga muhtoj oila reestr', 'yoshlar daftari']"
   ]
  },
  {
   "cell_type": "code",
   "execution_count": 20,
   "id": "5eddc34d-5ee6-4148-ab79-0b31bfedb8b8",
   "metadata": {},
   "outputs": [
    {
     "name": "stdout",
     "output_type": "stream",
     "text": [
      "F.I.Sh o'zgaruvchilari:  ['K. Zamira', 'P. Abdulhakim', 'Z. Nosir, Nosirjon', 'C. Umid', 'H. Muqaddas', 'Y. Mardon', 'R. Nusratulloh', 'O. Madid', 'W. Moxinur', 'L. Afzuna']\n"
     ]
    }
   ],
   "source": [
    "#F.I.Sh holati bo'yicha o'zgaruvchilar\n",
    "duplicate_name = list(set(df[\"F.I.Sh\"].to_list()))\n",
    "print(\"F.I.Sh o'zgaruvchilari: \", duplicate_name[:10])"
   ]
  },
  {
   "cell_type": "code",
   "execution_count": 7,
   "id": "2213026e-e971-4880-8363-9d1739cd40b3",
   "metadata": {},
   "outputs": [
    {
     "name": "stdout",
     "output_type": "stream",
     "text": [
      "ijtimoiy holati o'zgaruvchilari:  ['chin yetim', \"boquvchisini yo'qotgan\", 'oilali', \"yolg'iz\", 'temir daftar', 'ijtimoiy ximoyaga muhtoj oila reestr', 'yoshlar daftari']\n"
     ]
    }
   ],
   "source": [
    "#ijtimoiy holati bo'yicha o'zgaruvchilar\n",
    "duplicate_ijtimoiy = list(set(df[\"ijtimoiy holati\"].to_list()))\n",
    "print(\"ijtimoiy holati o'zgaruvchilari: \", duplicate_ijtimoiy)"
   ]
  },
  {
   "cell_type": "code",
   "execution_count": 25,
   "id": "8b4ef6d5-70fe-477d-b657-39351e264823",
   "metadata": {},
   "outputs": [
    {
     "name": "stdout",
     "output_type": "stream",
     "text": [
      "Har bir fan baholarining o'zgaruvchilari:  [2, 3, 4, 5]\n"
     ]
    }
   ],
   "source": [
    "#baholar bo'yicha o'zgaruvchilar\n",
    "duplicate_grade1 = list(set(df[\"Suniy intellekt\"].to_list()))\n",
    "print(\"Har bir fan baholarining o'zgaruvchilari: \", duplicate_grade1)"
   ]
  },
  {
   "cell_type": "code",
   "execution_count": 23,
   "id": "bbb5cd31-e81c-462c-8983-7fa22b26809d",
   "metadata": {},
   "outputs": [
    {
     "name": "stdout",
     "output_type": "stream",
     "text": [
      "O'rtacha bahosi bo'yicha o'zgaruvchilari:  [2.8, 3.8, 4.2, 3.6, 4.0, 4.4, 3.4, 3.0, 4.6, 4.8]\n"
     ]
    }
   ],
   "source": [
    "#o'rtacha bahosi bo'yicha o'zgaruvchilar\n",
    "duplicate_grade = list(set(df[\"o'rtacha bahosi\"].to_list()))\n",
    "print(\"O'rtacha bahosi bo'yicha o'zgaruvchilari: \", duplicate_grade[:10])"
   ]
  },
  {
   "cell_type": "code",
   "execution_count": 24,
   "id": "7dd33752-3e68-41a3-9d04-0f96077675f1",
   "metadata": {},
   "outputs": [
    {
     "name": "stdout",
     "output_type": "stream",
     "text": [
      "davomat bo'yicha o'zgaruvchilari:  ['15%', '60%', '89%', '66%', '93%', '96%', '78%', '6%', '42%', '53%']\n"
     ]
    }
   ],
   "source": [
    "#davomat bo'yicha o'zgaruvchilar\n",
    "duplicate_davomat = list(set(df[\"davomat\"].to_list()))\n",
    "print(\"davomat bo'yicha o'zgaruvchilari: \", duplicate_ijtimoiy[:10])"
   ]
  },
  {
   "cell_type": "markdown",
   "id": "469b1167-005f-4cbc-8aec-e87fff61d04b",
   "metadata": {},
   "source": [
    "## 4. CSV faylida hosil qilingan jadvalning har bir atribut uchun umumiy populyatsiyani aniqlang.\n",
    "* baholar\n",
    "* o'rtacha bahosi\n",
    "* davomat"
   ]
  },
  {
   "cell_type": "code",
   "execution_count": 31,
   "id": "4b408f37-1595-4507-9554-c2a49ad8f74f",
   "metadata": {},
   "outputs": [
    {
     "name": "stdout",
     "output_type": "stream",
     "text": [
      "3.2.Umumiy populyatsiyani aniqlash:\n",
      "Fanlar bahosi bo'yicha maximal qiymat: 5\n",
      "Fanlar bahosi bo'yicha minimum qiymat: 2\n",
      "\n",
      "\n",
      "O'rtacha bahosi\t bo'yicha maximal qiymat: 5.0\n",
      "O'rtacha bahosi\t bo'yicha minimum qiymat: 2.6\n",
      "\n",
      "\n",
      "Davomat bo'yicha maximal qiymat: 99%\n",
      "Davomat bo'yicha minimum qiymat: 0%\n",
      "\n",
      "\n"
     ]
    }
   ],
   "source": [
    "print(\"3.2.Umumiy populyatsiyani aniqlash:\")\n",
    "print(\"Fanlar bahosi bo'yicha maximal qiymat:\", max(df[\"Python\"].to_list()))\n",
    "print(\"Fanlar bahosi bo'yicha minimum qiymat:\", min(df[\"Python\"].to_list()))\n",
    "print(\"\\n\")\n",
    "print(\"O'rtacha bahosi\t bo'yicha maximal qiymat:\", max(df[\"o'rtacha bahosi\"].to_list()))\n",
    "print(\"O'rtacha bahosi\t bo'yicha minimum qiymat:\", min(df[\"o'rtacha bahosi\"].to_list()))\n",
    "print(\"\\n\")\n",
    "print(\"Davomat bo'yicha maximal qiymat:\", max(df[\"davomat\"].to_list()))\n",
    "print(\"Davomat bo'yicha minimum qiymat:\", min(df[\"davomat\"].to_list()))\n",
    "print(\"\\n\")"
   ]
  },
  {
   "cell_type": "markdown",
   "id": "6e40e90b-82ac-446f-bb6a-a54cb8f0f2d1",
   "metadata": {},
   "source": [
    "###### Ma’lumotlar to’plamining gipotezalar :\n",
    "\n",
    "* Baho ko'rsatkichi juda past va ijtimoiy holati yaxshi bo'lgan talaba kursdan qoladi\n",
    "* Davomat past va ijtimoiy holati yaxshi bo'lgan talaba kursdan qoladi\n",
    "* Davomat past va ijtimoiy holati yaxshi bo'lmagan bo'lgan talaba kursdan qolmaydi\n",
    "* Baho ko'rsatkichi o'rtacha va ijtimoiy holati yaxshi bo'lmagan talaba kursdan qolmaydi"
   ]
  },
  {
   "cell_type": "markdown",
   "id": "e624ae18-4ee6-4b62-a672-d68807a07d55",
   "metadata": {},
   "source": [
    "### 3.4. CVS faylida hosil qilingan jadvalning har bir ustunini diskret va uzluksiz ma’lumotlarga ajrating.\n",
    "\n",
    "1) FISH - diskret\n",
    "2) Ijtimoiy holati - diskret\n",
    "3) Baholar - uzluksiz\n",
    "4) O'rtacha bahosi - uzluksiz\n",
    "5) Davomat - diskret\n"
   ]
  },
  {
   "cell_type": "markdown",
   "id": "9c70701f-c138-4998-9fda-65c4ff24a966",
   "metadata": {},
   "source": [
    " ### 3.5.  CVS faylida hosil qilingan jadvalning har bir ustunini shkalalar bo’yicha ajrating.\n",
    "\n",
    " 1. F.I.SH - **nominal shkala**\n",
    " 2. ijtimoiy holati - **nominal shkala**\n",
    " 3. Fanlar dan olingan baholar - **Intervalli shkala** \n",
    " 4. o'rtacha bahosi - **Nisbiy shkala**\n",
    " 5. davomat - **Intervalli shkala**"
   ]
  },
  {
   "cell_type": "code",
   "execution_count": null,
   "id": "da7551f6-4e97-4eb1-8656-7a7f5c021bfc",
   "metadata": {},
   "outputs": [],
   "source": []
  }
 ],
 "metadata": {
  "kernelspec": {
   "display_name": "Python 3 (ipykernel)",
   "language": "python",
   "name": "python3"
  },
  "language_info": {
   "codemirror_mode": {
    "name": "ipython",
    "version": 3
   },
   "file_extension": ".py",
   "mimetype": "text/x-python",
   "name": "python",
   "nbconvert_exporter": "python",
   "pygments_lexer": "ipython3",
   "version": "3.12.1"
  }
 },
 "nbformat": 4,
 "nbformat_minor": 5
}
