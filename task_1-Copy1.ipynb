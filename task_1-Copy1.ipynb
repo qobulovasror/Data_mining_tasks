{
 "cells": [
  {
   "cell_type": "markdown",
   "id": "f423fd21-ebfb-4228-88aa-4f0432f58fd6",
   "metadata": {},
   "source": [
    "3.  Ta’lim. O'quv natijalari, davomat va ijtimoiy-iqtisodiy omillarga asoslanib, kursdan-kursga qolish xavfi  ostida bo’lgan talabalarni ma’lumotlarini shakllantiring."
   ]
  },
  {
   "cell_type": "code",
   "execution_count": 1,
   "id": "c7c023e0-74f8-457c-a921-f07df34fa197",
   "metadata": {
    "scrolled": true
   },
   "outputs": [
    {
     "name": "stdout",
     "output_type": "stream",
     "text": [
      "Requirement already satisfied: pandas in d:\\main programm files\\python\\lib\\site-packages (2.2.0)\n",
      "Requirement already satisfied: numpy<2,>=1.26.0 in d:\\main programm files\\python\\lib\\site-packages (from pandas) (1.26.3)\n",
      "Requirement already satisfied: python-dateutil>=2.8.2 in d:\\main programm files\\python\\lib\\site-packages (from pandas) (2.8.2)\n",
      "Requirement already satisfied: pytz>=2020.1 in d:\\main programm files\\python\\lib\\site-packages (from pandas) (2023.4)\n",
      "Requirement already satisfied: tzdata>=2022.7 in d:\\main programm files\\python\\lib\\site-packages (from pandas) (2023.4)\n",
      "Requirement already satisfied: six>=1.5 in d:\\main programm files\\python\\lib\\site-packages (from python-dateutil>=2.8.2->pandas) (1.16.0)\n",
      "Requirement already satisfied: numpy in d:\\main programm files\\python\\lib\\site-packages (1.26.3)\n"
     ]
    }
   ],
   "source": [
    "#kurubxonalarni o'rnatish\n",
    "!pip install pandas\n",
    "!pip install numpy\n"
   ]
  },
  {
   "cell_type": "code",
   "execution_count": 3,
   "id": "2d35dcbf-bb55-43ac-b69e-e2ae4c8e6be4",
   "metadata": {},
   "outputs": [],
   "source": [
    "#kutubxonalarni yuklash\n",
    "import pandas as pd\n",
    "import numpy as np\n",
    "import string"
   ]
  },
  {
   "cell_type": "code",
   "execution_count": 22,
   "id": "668fe19e-7a33-44d1-a37b-7c79cefb5f83",
   "metadata": {},
   "outputs": [],
   "source": [
    "#dastlabki qiymatlarni olish\n",
    "np.random.seed(42)\n",
    "\n",
    "# Ma'lumot ustunlar va satrlar sonini aniqlash\n",
    "num_rows = 100\n",
    "num_columns = 8"
   ]
  },
  {
   "cell_type": "code",
   "execution_count": 5,
   "id": "f14f411a-ae01-4dc7-bf21-191754e8e425",
   "metadata": {},
   "outputs": [],
   "source": [
    "#chegaraviy ma'lumotlar ro'yxati\n",
    "ijtimoiy = [\"temir daftar\", \"boquvchisini yo'qotgan\", \"chin yetim\", \"yoshlar daftari\", \"ijtimoiy ximoyaga muhtoj oila reestr\", \"oilali\", \"yolg'iz\"]\n",
    "baho = [2,3,4,5]\n",
    "sciences_names = ['Python', 'Kompyuterli nigoh', 'Data mining', 'Web texnologiyalar', 'Suniy intellekt']"
   ]
  },
  {
   "cell_type": "code",
   "execution_count": 25,
   "id": "fc798d90-7df0-4d28-bbdd-9cbff1ea5726",
   "metadata": {},
   "outputs": [],
   "source": [
    "#ismlarni hosil qilish\n",
    "name_values = [''.join(np.random.choice(list(string.ascii_lowercase), size=5)) for _ in range(num_rows)]"
   ]
  },
  {
   "cell_type": "code",
   "execution_count": 30,
   "id": "172516bb-4dae-4d90-a6f5-332ffa6f1054",
   "metadata": {},
   "outputs": [],
   "source": [
    "#ijtimoiy holatini hosil qilish \n",
    "social_data_index = np.random.randint(0, high=len(ijtimoiy), size=num_rows, dtype='l')\n",
    "# social_data = [ijtimoiy[i] for i in social_data_index]\n",
    "\n",
    "#baholarni hosil qilish\n",
    "grade_data = np.random.randint(min(baho), high=max(baho), size=(num_rows, len(sciences_names)), dtype='l')\n",
    "\n",
    "#davomat hosil qilish\n",
    "attendance = np.random.randint(0, high=100, size=num_rows, dtype='l')\n",
    "attendance_data = [str(i) for i in attendance]\n",
    "\n",
    "#kursdan kursga o'tish hosil qilish\n",
    "passCourse = np.random.randint(0, high=2, size=num_rows, dtype='l')"
   ]
  },
  {
   "cell_type": "code",
   "execution_count": 32,
   "id": "caafc2ba-fe56-4138-a892-7f3d0cd62b74",
   "metadata": {},
   "outputs": [],
   "source": [
    "#o'rtacha bahosi\n",
    "medium_grates = []\n",
    "for i in grade_data:\n",
    "    medium_grates.append(sum(i)/5)"
   ]
  },
  {
   "cell_type": "code",
   "execution_count": 35,
   "id": "04e0bc16-75b2-4415-930e-3965377e1be5",
   "metadata": {},
   "outputs": [],
   "source": [
    "# Matnli va sonli ma'lumotlarni DataFrame ga birlashtirish\n",
    "data = np.column_stack((social_data_index, medium_grates ,attendance_data, passCourse))\n",
    "\n",
    "column_names = ['ijtimoiy holati', \"o'rtacha bahosi\",\"davomat\", \"kursdan o'tishi\"]\n",
    "df = pd.DataFrame(data, columns=column_names)\n",
    "\n",
    "# CSV faylni saqlash\n",
    "df.to_csv('data3.csv', index=False)"
   ]
  },
  {
   "cell_type": "code",
   "execution_count": 36,
   "id": "5c29bce9-b8a7-4ce7-be84-0ea77ab56b82",
   "metadata": {},
   "outputs": [
    {
     "data": {
      "text/html": [
       "<div>\n",
       "<style scoped>\n",
       "    .dataframe tbody tr th:only-of-type {\n",
       "        vertical-align: middle;\n",
       "    }\n",
       "\n",
       "    .dataframe tbody tr th {\n",
       "        vertical-align: top;\n",
       "    }\n",
       "\n",
       "    .dataframe thead th {\n",
       "        text-align: right;\n",
       "    }\n",
       "</style>\n",
       "<table border=\"1\" class=\"dataframe\">\n",
       "  <thead>\n",
       "    <tr style=\"text-align: right;\">\n",
       "      <th></th>\n",
       "      <th>ijtimoiy holati</th>\n",
       "      <th>o'rtacha bahosi</th>\n",
       "      <th>davomat</th>\n",
       "      <th>kursdan o'tishi</th>\n",
       "    </tr>\n",
       "  </thead>\n",
       "  <tbody>\n",
       "    <tr>\n",
       "      <th>0</th>\n",
       "      <td>ijtimoiy holati</td>\n",
       "      <td>o'rtacha bahosi</td>\n",
       "      <td>davomat</td>\n",
       "      <td>kursdan o'tishi</td>\n",
       "    </tr>\n",
       "    <tr>\n",
       "      <th>1</th>\n",
       "      <td>0</td>\n",
       "      <td>3.6</td>\n",
       "      <td>64</td>\n",
       "      <td>0</td>\n",
       "    </tr>\n",
       "    <tr>\n",
       "      <th>2</th>\n",
       "      <td>0</td>\n",
       "      <td>3.2</td>\n",
       "      <td>21</td>\n",
       "      <td>0</td>\n",
       "    </tr>\n",
       "    <tr>\n",
       "      <th>3</th>\n",
       "      <td>6</td>\n",
       "      <td>3.0</td>\n",
       "      <td>89</td>\n",
       "      <td>1</td>\n",
       "    </tr>\n",
       "    <tr>\n",
       "      <th>4</th>\n",
       "      <td>5</td>\n",
       "      <td>3.6</td>\n",
       "      <td>81</td>\n",
       "      <td>1</td>\n",
       "    </tr>\n",
       "  </tbody>\n",
       "</table>\n",
       "</div>"
      ],
      "text/plain": [
       "   ijtimoiy holati  o'rtacha bahosi  davomat  kursdan o'tishi\n",
       "0  ijtimoiy holati  o'rtacha bahosi  davomat  kursdan o'tishi\n",
       "1                0              3.6       64                0\n",
       "2                0              3.2       21                0\n",
       "3                6              3.0       89                1\n",
       "4                5              3.6       81                1"
      ]
     },
     "execution_count": 36,
     "metadata": {},
     "output_type": "execute_result"
    }
   ],
   "source": [
    "# Namoyish etish\n",
    "%matplotlib inline\n",
    "base = pd.read_csv('data3.csv', sep=',', names=column_names) # csv faylni o'qish\n",
    "base.head()\n"
   ]
  },
  {
   "cell_type": "code",
   "execution_count": null,
   "id": "1ed8c5e2-f84a-42c7-b734-27a87289164b",
   "metadata": {},
   "outputs": [],
   "source": []
  },
  {
   "cell_type": "code",
   "execution_count": null,
   "id": "40708aa8-bf5d-4824-a34b-e29f17da5863",
   "metadata": {},
   "outputs": [],
   "source": []
  }
 ],
 "metadata": {
  "kernelspec": {
   "display_name": "Python 3 (ipykernel)",
   "language": "python",
   "name": "python3"
  },
  "language_info": {
   "codemirror_mode": {
    "name": "ipython",
    "version": 3
   },
   "file_extension": ".py",
   "mimetype": "text/x-python",
   "name": "python",
   "nbconvert_exporter": "python",
   "pygments_lexer": "ipython3",
   "version": "3.12.1"
  }
 },
 "nbformat": 4,
 "nbformat_minor": 5
}
